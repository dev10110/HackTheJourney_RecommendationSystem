{
 "cells": [
  {
   "cell_type": "code",
   "execution_count": 3,
   "metadata": {},
   "outputs": [
    {
     "name": "stdout",
     "output_type": "stream",
     "text": [
      "[{'type': 'checkin-link', 'id': 'BAEN-GBAll', 'href': 'https://www.britishairways.com/travel/olcilandingpageauthreq/public/en_gb', 'channel': 'All'}, {'type': 'checkin-link', 'id': 'BAEN-GBMobile', 'href': 'https://www.britishairways.com/travel/managebooking/public/en_gb/device-mobile?bookingRef={PNR}&lastname={LAST}', 'channel': 'Mobile', 'parameters': {'LAST': {'description': 'Passenger Last Name', 'type': 'string'}, 'PNR': {'description': 'Record Locator', 'type': 'string', 'format': '([a-zA-Z]|[0-9]){6}'}}}, {'type': 'checkin-link', 'id': 'BAEN-GBWeb', 'href': 'https://www.britishairways.com/travel/managebooking/public/en_gb?&bookingRef={PNR}&lastname={LAST}', 'channel': 'Web', 'parameters': {'LAST': {'description': 'Passenger Last Name', 'type': 'string'}, 'PNR': {'description': 'Record Locator', 'type': 'string', 'format': '([a-zA-Z]|[0-9]){6}'}}}]\n"
     ]
    }
   ],
   "source": [
    "from amadeus import Client, ResponseError\n",
    "\n",
    "amadeus = Client(\n",
    "    client_id='JpNs4s3SAhlLHGuhLveBJIJUgUw1tbpT',\n",
    "    client_secret='WHxqFr4s9t1RrB91'\n",
    ")\n",
    "\n",
    "amadeus = Client('\n",
    "                 ')\n",
    "try:\n",
    "    response = amadeus.reference_data.urls.checkin_links.get(airlineCode='BA')\n",
    "    print(response.data)\n",
    "except ResponseError as error:\n",
    "    print(error)"
   ]
  },
  {
   "cell_type": "code",
   "execution_count": 4,
   "metadata": {},
   "outputs": [
    {
     "data": {
      "text/plain": [
       "[{'type': 'checkin-link',\n",
       "  'id': 'BAEN-GBAll',\n",
       "  'href': 'https://www.britishairways.com/travel/olcilandingpageauthreq/public/en_gb',\n",
       "  'channel': 'All'},\n",
       " {'type': 'checkin-link',\n",
       "  'id': 'BAEN-GBMobile',\n",
       "  'href': 'https://www.britishairways.com/travel/managebooking/public/en_gb/device-mobile?bookingRef={PNR}&lastname={LAST}',\n",
       "  'channel': 'Mobile',\n",
       "  'parameters': {'LAST': {'description': 'Passenger Last Name',\n",
       "    'type': 'string'},\n",
       "   'PNR': {'description': 'Record Locator',\n",
       "    'type': 'string',\n",
       "    'format': '([a-zA-Z]|[0-9]){6}'}}},\n",
       " {'type': 'checkin-link',\n",
       "  'id': 'BAEN-GBWeb',\n",
       "  'href': 'https://www.britishairways.com/travel/managebooking/public/en_gb?&bookingRef={PNR}&lastname={LAST}',\n",
       "  'channel': 'Web',\n",
       "  'parameters': {'LAST': {'description': 'Passenger Last Name',\n",
       "    'type': 'string'},\n",
       "   'PNR': {'description': 'Record Locator',\n",
       "    'type': 'string',\n",
       "    'format': '([a-zA-Z]|[0-9]){6}'}}}]"
      ]
     },
     "execution_count": 4,
     "metadata": {},
     "output_type": "execute_result"
    }
   ],
   "source": [
    "response.data"
   ]
  },
  {
   "cell_type": "code",
   "execution_count": null,
   "metadata": {},
   "outputs": [],
   "source": [
    "amadeus.get('/v2/reference-data/urls/checkin-links', airlineCode='BA')"
   ]
  },
  {
   "cell_type": "code",
   "execution_count": null,
   "metadata": {},
   "outputs": [],
   "source": [
    "from amadeus import Location\n",
    "\n",
    "response = amadeus.reference_data.locations.get(\n",
    "    keyword='LON',\n",
    "    subType=Location.ANY\n",
    ")\n",
    "\n",
    "print(response.body) #=> The raw response, as a string\n",
    "print(response.result) #=> The body parsed as JSON, if the result was parsable\n",
    "print(response.data) #=> The list of locations, extracted from the JSON"
   ]
  },
  {
   "cell_type": "code",
   "execution_count": 5,
   "metadata": {},
   "outputs": [],
   "source": [
    "londonlat = 51.5074\n",
    "londonlong = -0.1278\n",
    "\n",
    "lat = londonlat\n",
    "long = londonlong\n",
    "\n",
    "(lat, long) = (51.497521, -0.177728)\n"
   ]
  },
  {
   "cell_type": "code",
   "execution_count": 16,
   "metadata": {},
   "outputs": [
    {
     "data": {
      "text/plain": [
       "amadeus.client.response.Response"
      ]
     },
     "execution_count": 16,
     "metadata": {},
     "output_type": "execute_result"
    }
   ],
   "source": [
    "type(response)"
   ]
  },
  {
   "cell_type": "code",
   "execution_count": 6,
   "metadata": {},
   "outputs": [
    {
     "data": {
      "text/plain": [
       "51.497521"
      ]
     },
     "execution_count": 6,
     "metadata": {},
     "output_type": "execute_result"
    }
   ],
   "source": [
    "lat"
   ]
  },
  {
   "cell_type": "code",
   "execution_count": 7,
   "metadata": {},
   "outputs": [],
   "source": [
    "response=amadeus.reference_data.locations.points_of_interest.get(latitude=41.385259, longitude=2.160873,r=10)"
   ]
  },
  {
   "cell_type": "code",
   "execution_count": 8,
   "metadata": {},
   "outputs": [],
   "source": [
    "response=amadeus.reference_data.locations.points_of_interest.get(latitude=londonlat, longitude=londonlong)"
   ]
  },
  {
   "cell_type": "code",
   "execution_count": 9,
   "metadata": {},
   "outputs": [
    {
     "name": "stdout",
     "output_type": "stream",
     "text": [
      "Westminster Abbey\n",
      "Big Ben\n",
      "The British Museum\n",
      "Royal Opera House\n",
      "National Portrait Gallery\n",
      "London Eye\n",
      "Covent Garden\n",
      "St James's Park\n",
      "Trafalgar Square\n",
      "Rules\n"
     ]
    },
    {
     "data": {
      "text/plain": [
       "[None, None, None, None, None, None, None, None, None, None]"
      ]
     },
     "execution_count": 9,
     "metadata": {},
     "output_type": "execute_result"
    }
   ],
   "source": [
    "[print(e['name']) for e in response.data]"
   ]
  },
  {
   "cell_type": "code",
   "execution_count": 10,
   "metadata": {},
   "outputs": [
    {
     "data": {
      "text/plain": [
       "{'data': [{'type': 'location',\n",
       "   'subType': 'POINT_OF_INTEREST',\n",
       "   'geoCode': {'latitude': 51.499447, 'longitude': -0.128121},\n",
       "   'name': 'Westminster Abbey',\n",
       "   'category': 'SIGHTS',\n",
       "   'tags': ['sightseeing', 'church', 'temple', 'sights', 'landmark']},\n",
       "  {'type': 'location',\n",
       "   'subType': 'POINT_OF_INTEREST',\n",
       "   'geoCode': {'latitude': 51.50078, 'longitude': -0.124601},\n",
       "   'name': 'Big Ben',\n",
       "   'category': 'SIGHTS',\n",
       "   'tags': ['sightseeing',\n",
       "    'restaurant',\n",
       "    'sights',\n",
       "    'landmark',\n",
       "    'historicplace']},\n",
       "  {'type': 'location',\n",
       "   'subType': 'POINT_OF_INTEREST',\n",
       "   'geoCode': {'latitude': 51.5183, 'longitude': -0.126026},\n",
       "   'name': 'The British Museum',\n",
       "   'category': 'RESTAURANT',\n",
       "   'tags': ['sightseeing',\n",
       "    'restaurant',\n",
       "    'museum',\n",
       "    'foodtruck',\n",
       "    'historicplace']},\n",
       "  {'type': 'location',\n",
       "   'subType': 'POINT_OF_INTEREST',\n",
       "   'geoCode': {'latitude': 51.51292, 'longitude': -0.122197},\n",
       "   'name': 'Royal Opera House',\n",
       "   'category': 'SIGHTS',\n",
       "   'tags': ['sightseeing', 'restaurant', 'activities', 'events', 'music']},\n",
       "  {'type': 'location',\n",
       "   'subType': 'POINT_OF_INTEREST',\n",
       "   'geoCode': {'latitude': 51.50954, 'longitude': -0.12758},\n",
       "   'name': 'National Portrait Gallery',\n",
       "   'category': 'SIGHTS',\n",
       "   'tags': ['sightseeing', 'restaurant', 'artgallerie', 'museum']},\n",
       "  {'type': 'location',\n",
       "   'subType': 'POINT_OF_INTEREST',\n",
       "   'geoCode': {'latitude': 51.503387, 'longitude': -0.119625},\n",
       "   'name': 'London Eye',\n",
       "   'category': 'SIGHTS',\n",
       "   'tags': ['sightseeing', 'sights', 'landmark', 'historicplace', 'historic']},\n",
       "  {'type': 'location',\n",
       "   'subType': 'POINT_OF_INTEREST',\n",
       "   'geoCode': {'latitude': 51.511963, 'longitude': -0.122721},\n",
       "   'name': 'Covent Garden',\n",
       "   'category': 'RESTAURANT',\n",
       "   'tags': ['sightseeing', 'restaurant', 'landmark', 'historicplace']},\n",
       "  {'type': 'location',\n",
       "   'subType': 'POINT_OF_INTEREST',\n",
       "   'geoCode': {'latitude': 51.502552, 'longitude': -0.134958},\n",
       "   'name': \"St James's Park\",\n",
       "   'category': 'SIGHTS',\n",
       "   'tags': ['sightseeing', 'sights', 'landmark', 'historicplace', 'historic']},\n",
       "  {'type': 'location',\n",
       "   'subType': 'POINT_OF_INTEREST',\n",
       "   'geoCode': {'latitude': 51.50806, 'longitude': -0.128039},\n",
       "   'name': 'Trafalgar Square',\n",
       "   'category': 'SIGHTS',\n",
       "   'tags': ['sightseeing', 'restaurant', 'sights', 'landmark']},\n",
       "  {'type': 'location',\n",
       "   'subType': 'POINT_OF_INTEREST',\n",
       "   'geoCode': {'latitude': 51.51078, 'longitude': -0.123083},\n",
       "   'name': 'Rules',\n",
       "   'category': 'RESTAURANT',\n",
       "   'tags': ['restaurant', 'bar']}],\n",
       " 'meta': {'count': 10,\n",
       "  'links': {'self': 'https://test.api.amadeus.com/v1/reference-data/locations/pois?latitude=51.5074&longitude=-0.1278',\n",
       "   'next': 'https://test.api.amadeus.com/v1/reference-data/locations/pois?latitude=51.5074&longitude=-0.1278&page[offset]=10&page[limit]=10'}}}"
      ]
     },
     "execution_count": 10,
     "metadata": {},
     "output_type": "execute_result"
    }
   ],
   "source": [
    "response.result"
   ]
  },
  {
   "cell_type": "code",
   "execution_count": 11,
   "metadata": {},
   "outputs": [],
   "source": [
    "response2 = amadeus.next(response)"
   ]
  },
  {
   "cell_type": "code",
   "execution_count": 12,
   "metadata": {},
   "outputs": [
    {
     "name": "stdout",
     "output_type": "stream",
     "text": [
      "Westminster Abbey\n",
      "Big Ben\n",
      "The British Museum\n",
      "Royal Opera House\n",
      "National Portrait Gallery\n",
      "London Eye\n",
      "Covent Garden\n",
      "St James's Park\n",
      "Trafalgar Square\n",
      "Rules\n"
     ]
    },
    {
     "data": {
      "text/plain": [
       "[None, None, None, None, None, None, None, None, None, None]"
      ]
     },
     "execution_count": 12,
     "metadata": {},
     "output_type": "execute_result"
    }
   ],
   "source": [
    "[print(e['name']) for e in response2.data]"
   ]
  },
  {
   "cell_type": "code",
   "execution_count": 15,
   "metadata": {},
   "outputs": [
    {
     "data": {
      "text/plain": [
       "{'count': 10,\n",
       " 'links': {'self': 'https://test.api.amadeus.com/v1/reference-data/locations/pois?latitude=51.5074&longitude=-0.1278',\n",
       "  'next': 'https://test.api.amadeus.com/v1/reference-data/locations/pois?latitude=51.5074&longitude=-0.1278&page[offset]=10&page[limit]=10'}}"
      ]
     },
     "execution_count": 15,
     "metadata": {},
     "output_type": "execute_result"
    }
   ],
   "source": [
    "response.result['meta']"
   ]
  },
  {
   "cell_type": "code",
   "execution_count": null,
   "metadata": {},
   "outputs": [],
   "source": [
    "https://test.api.amadeus.com/v1/reference-data/locations/pois?latitude=51.5074&longitude=-0.1278&r=10&page[offset]=10&page[limit]=10"
   ]
  },
  {
   "cell_type": "code",
   "execution_count": null,
   "metadata": {},
   "outputs": [],
   "source": [
    "response3 = amadeus.get('/v1/reference-data/locations/pois?latitude=51.5074&longitude=-0.1278&r=10&page[offset]=10&page[limit]=10')"
   ]
  },
  {
   "cell_type": "code",
   "execution_count": null,
   "metadata": {},
   "outputs": [],
   "source": [
    "[print(e['name']) for e in response3.data]"
   ]
  },
  {
   "cell_type": "code",
   "execution_count": null,
   "metadata": {},
   "outputs": [],
   "source": []
  }
 ],
 "metadata": {
  "kernelspec": {
   "display_name": "Python 3",
   "language": "python",
   "name": "python3"
  },
  "language_info": {
   "codemirror_mode": {
    "name": "ipython",
    "version": 3
   },
   "file_extension": ".py",
   "mimetype": "text/x-python",
   "name": "python",
   "nbconvert_exporter": "python",
   "pygments_lexer": "ipython3",
   "version": "3.6.7"
  }
 },
 "nbformat": 4,
 "nbformat_minor": 2
}
