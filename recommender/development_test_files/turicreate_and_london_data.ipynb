{
 "cells": [
  {
   "cell_type": "code",
   "execution_count": 5,
   "metadata": {},
   "outputs": [],
   "source": [
    "import pickle\n",
    "import turicreate as tc\n",
    "import pandas as pd\n",
    "import numpy as np"
   ]
  },
  {
   "cell_type": "code",
   "execution_count": 2,
   "metadata": {},
   "outputs": [],
   "source": [
    "import os\n",
    "os.chdir('../data-import/')\n",
    "if 0:\n",
    "    %run main.py \n",
    "else:\n",
    "    data = pickle.load( open( \"london_poi.pickle\", \"rb\" ) )\n",
    "os.chdir('../recommender/')"
   ]
  },
  {
   "cell_type": "code",
   "execution_count": 7,
   "metadata": {},
   "outputs": [],
   "source": [
    "df = pd.DataFrame.from_dict(data)"
   ]
  },
  {
   "cell_type": "code",
   "execution_count": 9,
   "metadata": {},
   "outputs": [
    {
     "data": {
      "text/html": [
       "<div>\n",
       "<style scoped>\n",
       "    .dataframe tbody tr th:only-of-type {\n",
       "        vertical-align: middle;\n",
       "    }\n",
       "\n",
       "    .dataframe tbody tr th {\n",
       "        vertical-align: top;\n",
       "    }\n",
       "\n",
       "    .dataframe thead th {\n",
       "        text-align: right;\n",
       "    }\n",
       "</style>\n",
       "<table border=\"1\" class=\"dataframe\">\n",
       "  <thead>\n",
       "    <tr style=\"text-align: right;\">\n",
       "      <th></th>\n",
       "      <th>category</th>\n",
       "      <th>geoCode</th>\n",
       "      <th>name</th>\n",
       "      <th>subType</th>\n",
       "      <th>tags</th>\n",
       "      <th>type</th>\n",
       "    </tr>\n",
       "  </thead>\n",
       "  <tbody>\n",
       "    <tr>\n",
       "      <th>0</th>\n",
       "      <td>SIGHTS</td>\n",
       "      <td>{'latitude': 51.496395, 'longitude': -0.171935}</td>\n",
       "      <td>Victoria and Albert Museum</td>\n",
       "      <td>POINT_OF_INTEREST</td>\n",
       "      <td>[sightseeing, artgallerie, museum, sights, lan...</td>\n",
       "      <td>location</td>\n",
       "    </tr>\n",
       "    <tr>\n",
       "      <th>1</th>\n",
       "      <td>SIGHTS</td>\n",
       "      <td>{'latitude': 51.500996, 'longitude': -0.177414}</td>\n",
       "      <td>Royal Albert Hall</td>\n",
       "      <td>POINT_OF_INTEREST</td>\n",
       "      <td>[sightseeing, sights, landmark, historicplace]</td>\n",
       "      <td>location</td>\n",
       "    </tr>\n",
       "    <tr>\n",
       "      <th>2</th>\n",
       "      <td>SIGHTS</td>\n",
       "      <td>{'latitude': 51.496143, 'longitude': -0.174409}</td>\n",
       "      <td>Natural History Museum</td>\n",
       "      <td>POINT_OF_INTEREST</td>\n",
       "      <td>[sightseeing, restaurant, museum, cheap]</td>\n",
       "      <td>location</td>\n",
       "    </tr>\n",
       "    <tr>\n",
       "      <th>3</th>\n",
       "      <td>SIGHTS</td>\n",
       "      <td>{'latitude': 51.499092, 'longitude': -0.162348}</td>\n",
       "      <td>Harrods</td>\n",
       "      <td>POINT_OF_INTEREST</td>\n",
       "      <td>[sightseeing, shopping, restaurant]</td>\n",
       "      <td>location</td>\n",
       "    </tr>\n",
       "    <tr>\n",
       "      <th>4</th>\n",
       "      <td>SIGHTS</td>\n",
       "      <td>{'latitude': 51.506935, 'longitude': -0.179232}</td>\n",
       "      <td>Kensington Gardens</td>\n",
       "      <td>POINT_OF_INTEREST</td>\n",
       "      <td>[sightseeing, sights, landmark, historicplace,...</td>\n",
       "      <td>location</td>\n",
       "    </tr>\n",
       "  </tbody>\n",
       "</table>\n",
       "</div>"
      ],
      "text/plain": [
       "  category                                          geoCode  \\\n",
       "0   SIGHTS  {'latitude': 51.496395, 'longitude': -0.171935}   \n",
       "1   SIGHTS  {'latitude': 51.500996, 'longitude': -0.177414}   \n",
       "2   SIGHTS  {'latitude': 51.496143, 'longitude': -0.174409}   \n",
       "3   SIGHTS  {'latitude': 51.499092, 'longitude': -0.162348}   \n",
       "4   SIGHTS  {'latitude': 51.506935, 'longitude': -0.179232}   \n",
       "\n",
       "                         name            subType  \\\n",
       "0  Victoria and Albert Museum  POINT_OF_INTEREST   \n",
       "1           Royal Albert Hall  POINT_OF_INTEREST   \n",
       "2      Natural History Museum  POINT_OF_INTEREST   \n",
       "3                     Harrods  POINT_OF_INTEREST   \n",
       "4          Kensington Gardens  POINT_OF_INTEREST   \n",
       "\n",
       "                                                tags      type  \n",
       "0  [sightseeing, artgallerie, museum, sights, lan...  location  \n",
       "1     [sightseeing, sights, landmark, historicplace]  location  \n",
       "2           [sightseeing, restaurant, museum, cheap]  location  \n",
       "3                [sightseeing, shopping, restaurant]  location  \n",
       "4  [sightseeing, sights, landmark, historicplace,...  location  "
      ]
     },
     "execution_count": 9,
     "metadata": {},
     "output_type": "execute_result"
    }
   ],
   "source": [
    "df.head()"
   ]
  },
  {
   "cell_type": "code",
   "execution_count": 32,
   "metadata": {},
   "outputs": [
    {
     "name": "stderr",
     "output_type": "stream",
     "text": [
      "/Users/Devansh/anaconda3/lib/python3.6/site-packages/ipykernel_launcher.py:2: SettingWithCopyWarning: \n",
      "A value is trying to be set on a copy of a slice from a DataFrame.\n",
      "Try using .loc[row_indexer,col_indexer] = value instead\n",
      "\n",
      "See the caveats in the documentation: http://pandas.pydata.org/pandas-docs/stable/indexing.html#indexing-view-versus-copy\n",
      "  \n"
     ]
    }
   ],
   "source": [
    "df2 = df[ ['category', 'tags']]\n",
    "df2['index'] = df2.index"
   ]
  },
  {
   "cell_type": "code",
   "execution_count": 33,
   "metadata": {},
   "outputs": [
    {
     "data": {
      "text/html": [
       "<div>\n",
       "<style scoped>\n",
       "    .dataframe tbody tr th:only-of-type {\n",
       "        vertical-align: middle;\n",
       "    }\n",
       "\n",
       "    .dataframe tbody tr th {\n",
       "        vertical-align: top;\n",
       "    }\n",
       "\n",
       "    .dataframe thead th {\n",
       "        text-align: right;\n",
       "    }\n",
       "</style>\n",
       "<table border=\"1\" class=\"dataframe\">\n",
       "  <thead>\n",
       "    <tr style=\"text-align: right;\">\n",
       "      <th></th>\n",
       "      <th>category</th>\n",
       "      <th>tags</th>\n",
       "      <th>index</th>\n",
       "    </tr>\n",
       "  </thead>\n",
       "  <tbody>\n",
       "    <tr>\n",
       "      <th>0</th>\n",
       "      <td>SIGHTS</td>\n",
       "      <td>[sightseeing, artgallerie, museum, sights, lan...</td>\n",
       "      <td>0</td>\n",
       "    </tr>\n",
       "    <tr>\n",
       "      <th>1</th>\n",
       "      <td>SIGHTS</td>\n",
       "      <td>[sightseeing, sights, landmark, historicplace]</td>\n",
       "      <td>1</td>\n",
       "    </tr>\n",
       "    <tr>\n",
       "      <th>2</th>\n",
       "      <td>SIGHTS</td>\n",
       "      <td>[sightseeing, restaurant, museum, cheap]</td>\n",
       "      <td>2</td>\n",
       "    </tr>\n",
       "    <tr>\n",
       "      <th>3</th>\n",
       "      <td>SIGHTS</td>\n",
       "      <td>[sightseeing, shopping, restaurant]</td>\n",
       "      <td>3</td>\n",
       "    </tr>\n",
       "    <tr>\n",
       "      <th>4</th>\n",
       "      <td>SIGHTS</td>\n",
       "      <td>[sightseeing, sights, landmark, historicplace,...</td>\n",
       "      <td>4</td>\n",
       "    </tr>\n",
       "  </tbody>\n",
       "</table>\n",
       "</div>"
      ],
      "text/plain": [
       "  category                                               tags  index\n",
       "0   SIGHTS  [sightseeing, artgallerie, museum, sights, lan...      0\n",
       "1   SIGHTS     [sightseeing, sights, landmark, historicplace]      1\n",
       "2   SIGHTS           [sightseeing, restaurant, museum, cheap]      2\n",
       "3   SIGHTS                [sightseeing, shopping, restaurant]      3\n",
       "4   SIGHTS  [sightseeing, sights, landmark, historicplace,...      4"
      ]
     },
     "execution_count": 33,
     "metadata": {},
     "output_type": "execute_result"
    }
   ],
   "source": [
    "df2.head()"
   ]
  },
  {
   "cell_type": "code",
   "execution_count": 34,
   "metadata": {},
   "outputs": [],
   "source": [
    "item_data = tc.SFrame(df2)"
   ]
  },
  {
   "cell_type": "code",
   "execution_count": 35,
   "metadata": {},
   "outputs": [
    {
     "data": {
      "text/html": [
       "<div style=\"max-height:1000px;max-width:1500px;overflow:auto;\"><table frame=\"box\" rules=\"cols\">\n",
       "    <tr>\n",
       "        <th style=\"padding-left: 1em; padding-right: 1em; text-align: center\">category</th>\n",
       "        <th style=\"padding-left: 1em; padding-right: 1em; text-align: center\">tags</th>\n",
       "        <th style=\"padding-left: 1em; padding-right: 1em; text-align: center\">index</th>\n",
       "    </tr>\n",
       "    <tr>\n",
       "        <td style=\"padding-left: 1em; padding-right: 1em; text-align: center; vertical-align: top\">SIGHTS</td>\n",
       "        <td style=\"padding-left: 1em; padding-right: 1em; text-align: center; vertical-align: top\">[sightseeing,<br>artgallerie, museum, ...</td>\n",
       "        <td style=\"padding-left: 1em; padding-right: 1em; text-align: center; vertical-align: top\">0</td>\n",
       "    </tr>\n",
       "    <tr>\n",
       "        <td style=\"padding-left: 1em; padding-right: 1em; text-align: center; vertical-align: top\">SIGHTS</td>\n",
       "        <td style=\"padding-left: 1em; padding-right: 1em; text-align: center; vertical-align: top\">[sightseeing, sights,<br>landmark, historicplace] ...</td>\n",
       "        <td style=\"padding-left: 1em; padding-right: 1em; text-align: center; vertical-align: top\">1</td>\n",
       "    </tr>\n",
       "    <tr>\n",
       "        <td style=\"padding-left: 1em; padding-right: 1em; text-align: center; vertical-align: top\">SIGHTS</td>\n",
       "        <td style=\"padding-left: 1em; padding-right: 1em; text-align: center; vertical-align: top\">[sightseeing, restaurant,<br>museum, cheap] ...</td>\n",
       "        <td style=\"padding-left: 1em; padding-right: 1em; text-align: center; vertical-align: top\">2</td>\n",
       "    </tr>\n",
       "    <tr>\n",
       "        <td style=\"padding-left: 1em; padding-right: 1em; text-align: center; vertical-align: top\">SIGHTS</td>\n",
       "        <td style=\"padding-left: 1em; padding-right: 1em; text-align: center; vertical-align: top\">[sightseeing, shopping,<br>restaurant] ...</td>\n",
       "        <td style=\"padding-left: 1em; padding-right: 1em; text-align: center; vertical-align: top\">3</td>\n",
       "    </tr>\n",
       "    <tr>\n",
       "        <td style=\"padding-left: 1em; padding-right: 1em; text-align: center; vertical-align: top\">SIGHTS</td>\n",
       "        <td style=\"padding-left: 1em; padding-right: 1em; text-align: center; vertical-align: top\">[sightseeing, sights,<br>landmark, historicplace, ...</td>\n",
       "        <td style=\"padding-left: 1em; padding-right: 1em; text-align: center; vertical-align: top\">4</td>\n",
       "    </tr>\n",
       "    <tr>\n",
       "        <td style=\"padding-left: 1em; padding-right: 1em; text-align: center; vertical-align: top\">SIGHTS</td>\n",
       "        <td style=\"padding-left: 1em; padding-right: 1em; text-align: center; vertical-align: top\">[sightseeing, museum]</td>\n",
       "        <td style=\"padding-left: 1em; padding-right: 1em; text-align: center; vertical-align: top\">5</td>\n",
       "    </tr>\n",
       "    <tr>\n",
       "        <td style=\"padding-left: 1em; padding-right: 1em; text-align: center; vertical-align: top\">RESTAURANT</td>\n",
       "        <td style=\"padding-left: 1em; padding-right: 1em; text-align: center; vertical-align: top\">[restaurant, nightlife]</td>\n",
       "        <td style=\"padding-left: 1em; padding-right: 1em; text-align: center; vertical-align: top\">6</td>\n",
       "    </tr>\n",
       "    <tr>\n",
       "        <td style=\"padding-left: 1em; padding-right: 1em; text-align: center; vertical-align: top\">SIGHTS</td>\n",
       "        <td style=\"padding-left: 1em; padding-right: 1em; text-align: center; vertical-align: top\">[sightseeing, sights,<br>park, landmark] ...</td>\n",
       "        <td style=\"padding-left: 1em; padding-right: 1em; text-align: center; vertical-align: top\">7</td>\n",
       "    </tr>\n",
       "    <tr>\n",
       "        <td style=\"padding-left: 1em; padding-right: 1em; text-align: center; vertical-align: top\">RESTAURANT</td>\n",
       "        <td style=\"padding-left: 1em; padding-right: 1em; text-align: center; vertical-align: top\">[restaurant]</td>\n",
       "        <td style=\"padding-left: 1em; padding-right: 1em; text-align: center; vertical-align: top\">8</td>\n",
       "    </tr>\n",
       "    <tr>\n",
       "        <td style=\"padding-left: 1em; padding-right: 1em; text-align: center; vertical-align: top\">RESTAURANT</td>\n",
       "        <td style=\"padding-left: 1em; padding-right: 1em; text-align: center; vertical-align: top\">[shopping, restaurant,<br>vegetarian] ...</td>\n",
       "        <td style=\"padding-left: 1em; padding-right: 1em; text-align: center; vertical-align: top\">9</td>\n",
       "    </tr>\n",
       "</table>\n",
       "[84 rows x 3 columns]<br/>Note: Only the head of the SFrame is printed.<br/>You can use print_rows(num_rows=m, num_columns=n) to print more rows and columns.\n",
       "</div>"
      ],
      "text/plain": [
       "Columns:\n",
       "\tcategory\tstr\n",
       "\ttags\tlist\n",
       "\tindex\tint\n",
       "\n",
       "Rows: 84\n",
       "\n",
       "Data:\n",
       "+------------+-------------------------------+-------+\n",
       "|  category  |              tags             | index |\n",
       "+------------+-------------------------------+-------+\n",
       "|   SIGHTS   | [sightseeing, artgallerie,... |   0   |\n",
       "|   SIGHTS   | [sightseeing, sights, land... |   1   |\n",
       "|   SIGHTS   | [sightseeing, restaurant, ... |   2   |\n",
       "|   SIGHTS   | [sightseeing, shopping, re... |   3   |\n",
       "|   SIGHTS   | [sightseeing, sights, land... |   4   |\n",
       "|   SIGHTS   |     [sightseeing, museum]     |   5   |\n",
       "| RESTAURANT |    [restaurant, nightlife]    |   6   |\n",
       "|   SIGHTS   | [sightseeing, sights, park... |   7   |\n",
       "| RESTAURANT |          [restaurant]         |   8   |\n",
       "| RESTAURANT | [shopping, restaurant, veg... |   9   |\n",
       "+------------+-------------------------------+-------+\n",
       "[84 rows x 3 columns]\n",
       "Note: Only the head of the SFrame is printed.\n",
       "You can use print_rows(num_rows=m, num_columns=n) to print more rows and columns."
      ]
     },
     "execution_count": 35,
     "metadata": {},
     "output_type": "execute_result"
    }
   ],
   "source": [
    "item_data"
   ]
  },
  {
   "cell_type": "code",
   "execution_count": 36,
   "metadata": {},
   "outputs": [
    {
     "name": "stdout",
     "output_type": "stream",
     "text": [
      "Applying transform:\n",
      "Class             : AutoVectorizer\n",
      "\n",
      "Model Fields\n",
      "------------\n",
      "Features          : ['category', 'tags']\n",
      "Excluded Features : ['index']\n",
      "\n",
      "Column    Type  Interpretation  Transforms  Output Type\n",
      "--------  ----  --------------  ----------  -----------\n",
      "category  str   categorical     None        str        \n",
      "tags      list  categorical     Flatten     dict       \n",
      "\n",
      "\n",
      "Defaulting to brute force instead of ball tree because there are multiple distance components.\n"
     ]
    },
    {
     "data": {
      "text/html": [
       "<pre>Starting brute force nearest neighbors model training.</pre>"
      ],
      "text/plain": [
       "Starting brute force nearest neighbors model training."
      ]
     },
     "metadata": {},
     "output_type": "display_data"
    },
    {
     "data": {
      "text/html": [
       "<pre>Starting pairwise querying.</pre>"
      ],
      "text/plain": [
       "Starting pairwise querying."
      ]
     },
     "metadata": {},
     "output_type": "display_data"
    },
    {
     "data": {
      "text/html": [
       "<pre>+--------------+---------+-------------+--------------+</pre>"
      ],
      "text/plain": [
       "+--------------+---------+-------------+--------------+"
      ]
     },
     "metadata": {},
     "output_type": "display_data"
    },
    {
     "data": {
      "text/html": [
       "<pre>| Query points | # Pairs | % Complete. | Elapsed Time |</pre>"
      ],
      "text/plain": [
       "| Query points | # Pairs | % Complete. | Elapsed Time |"
      ]
     },
     "metadata": {},
     "output_type": "display_data"
    },
    {
     "data": {
      "text/html": [
       "<pre>+--------------+---------+-------------+--------------+</pre>"
      ],
      "text/plain": [
       "+--------------+---------+-------------+--------------+"
      ]
     },
     "metadata": {},
     "output_type": "display_data"
    },
    {
     "data": {
      "text/html": [
       "<pre>| 1            | 84      | 1.19048     | 1.234ms      |</pre>"
      ],
      "text/plain": [
       "| 1            | 84      | 1.19048     | 1.234ms      |"
      ]
     },
     "metadata": {},
     "output_type": "display_data"
    },
    {
     "data": {
      "text/html": [
       "<pre>| Done         |         | 100         | 2.075ms      |</pre>"
      ],
      "text/plain": [
       "| Done         |         | 100         | 2.075ms      |"
      ]
     },
     "metadata": {},
     "output_type": "display_data"
    },
    {
     "data": {
      "text/html": [
       "<pre>+--------------+---------+-------------+--------------+</pre>"
      ],
      "text/plain": [
       "+--------------+---------+-------------+--------------+"
      ]
     },
     "metadata": {},
     "output_type": "display_data"
    },
    {
     "data": {
      "text/html": [
       "<pre>Preparing data set.</pre>"
      ],
      "text/plain": [
       "Preparing data set."
      ]
     },
     "metadata": {},
     "output_type": "display_data"
    },
    {
     "data": {
      "text/html": [
       "<pre>    Data has 0 observations with 0 users and 84 items.</pre>"
      ],
      "text/plain": [
       "    Data has 0 observations with 0 users and 84 items."
      ]
     },
     "metadata": {},
     "output_type": "display_data"
    },
    {
     "data": {
      "text/html": [
       "<pre>    Data prepared in: 0.054177s</pre>"
      ],
      "text/plain": [
       "    Data prepared in: 0.054177s"
      ]
     },
     "metadata": {},
     "output_type": "display_data"
    },
    {
     "data": {
      "text/html": [
       "<pre>Loading user-provided nearest items.</pre>"
      ],
      "text/plain": [
       "Loading user-provided nearest items."
      ]
     },
     "metadata": {},
     "output_type": "display_data"
    },
    {
     "data": {
      "text/html": [
       "<pre>Generating candidate set for working with new users.</pre>"
      ],
      "text/plain": [
       "Generating candidate set for working with new users."
      ]
     },
     "metadata": {},
     "output_type": "display_data"
    },
    {
     "data": {
      "text/html": [
       "<pre>Finished training in 0.001327s</pre>"
      ],
      "text/plain": [
       "Finished training in 0.001327s"
      ]
     },
     "metadata": {},
     "output_type": "display_data"
    }
   ],
   "source": [
    "m = tc.recommender.item_content_recommender.create(item_data, item_id = 'index', verbose=True)"
   ]
  },
  {
   "cell_type": "code",
   "execution_count": 31,
   "metadata": {},
   "outputs": [
    {
     "data": {
      "text/plain": [
       "Class                            : ItemContentRecommender\n",
       "\n",
       "Schema\n",
       "------\n",
       "User ID                          : __implicit_user__\n",
       "Item ID                          : index\n",
       "Target                           : None\n",
       "Additional observation features  : 0\n",
       "User side features               : []\n",
       "Item side features               : ['category', 'type', 'index']\n",
       "\n",
       "Statistics\n",
       "----------\n",
       "Number of observations           : 0\n",
       "Number of users                  : 0\n",
       "Number of items                  : 84\n",
       "\n",
       "Training summary\n",
       "----------------\n",
       "Training time                    : 0.003\n",
       "\n",
       "Model Parameters\n",
       "----------------\n",
       "Model class                      : ItemContentRecommender\n",
       "threshold                        : 0.0001\n",
       "similarity_type                  : cosine\n",
       "training_method                  : auto\n",
       "\n",
       "Other Settings\n",
       "--------------\n",
       "degree_approximation_threshold   : 4096\n",
       "max_data_passes                  : 4096\n",
       "max_item_neighborhood_size       : 64\n",
       "nearest_neighbors_interaction_proportion_threshold : 0.05\n",
       "seed_item_set_size               : 50\n",
       "sparse_density_estimation_sample_size : 4096\n",
       "target_memory_usage              : 8589934592"
      ]
     },
     "execution_count": 31,
     "metadata": {},
     "output_type": "execute_result"
    }
   ],
   "source": [
    "m"
   ]
  },
  {
   "cell_type": "code",
   "execution_count": 74,
   "metadata": {},
   "outputs": [],
   "source": [
    "import random"
   ]
  },
  {
   "cell_type": "code",
   "execution_count": 129,
   "metadata": {},
   "outputs": [],
   "source": [
    "likes = [random.randrange(len(data)) for _ in range(5)]"
   ]
  },
  {
   "cell_type": "code",
   "execution_count": 130,
   "metadata": {},
   "outputs": [
    {
     "name": "stderr",
     "output_type": "stream",
     "text": [
      "/Users/Devansh/anaconda3/lib/python3.6/site-packages/ipykernel_launcher.py:4: SettingWithCopyWarning: \n",
      "A value is trying to be set on a copy of a slice from a DataFrame.\n",
      "Try using .loc[row_indexer,col_indexer] = value instead\n",
      "\n",
      "See the caveats in the documentation: http://pandas.pydata.org/pandas-docs/stable/indexing.html#indexing-view-versus-copy\n",
      "  after removing the cwd from sys.path.\n"
     ]
    }
   ],
   "source": [
    "recs = m.recommend_from_interactions(likes)\n",
    "recs_list = list(recs['index'])\n",
    "recommendations = df.iloc[recs_list]\n",
    "recommendations['score'] = recs['score']"
   ]
  },
  {
   "cell_type": "code",
   "execution_count": 122,
   "metadata": {},
   "outputs": [
    {
     "data": {
      "text/html": [
       "<div>\n",
       "<style scoped>\n",
       "    .dataframe tbody tr th:only-of-type {\n",
       "        vertical-align: middle;\n",
       "    }\n",
       "\n",
       "    .dataframe tbody tr th {\n",
       "        vertical-align: top;\n",
       "    }\n",
       "\n",
       "    .dataframe thead th {\n",
       "        text-align: right;\n",
       "    }\n",
       "</style>\n",
       "<table border=\"1\" class=\"dataframe\">\n",
       "  <thead>\n",
       "    <tr style=\"text-align: right;\">\n",
       "      <th></th>\n",
       "      <th>name</th>\n",
       "      <th>category</th>\n",
       "      <th>tags</th>\n",
       "    </tr>\n",
       "  </thead>\n",
       "  <tbody>\n",
       "    <tr>\n",
       "      <th>32</th>\n",
       "      <td>Royal Hospital Chelsea</td>\n",
       "      <td>SIGHTS</td>\n",
       "      <td>[sightseeing, museum, sights]</td>\n",
       "    </tr>\n",
       "    <tr>\n",
       "      <th>46</th>\n",
       "      <td>Carluccio's</td>\n",
       "      <td>RESTAURANT</td>\n",
       "      <td>[shopping, restaurant]</td>\n",
       "    </tr>\n",
       "    <tr>\n",
       "      <th>10</th>\n",
       "      <td>The Churchill Arms</td>\n",
       "      <td>RESTAURANT</td>\n",
       "      <td>[restaurant, thai]</td>\n",
       "    </tr>\n",
       "    <tr>\n",
       "      <th>20</th>\n",
       "      <td>Roti Chai</td>\n",
       "      <td>RESTAURANT</td>\n",
       "      <td>[restaurant, fastfood]</td>\n",
       "    </tr>\n",
       "    <tr>\n",
       "      <th>72</th>\n",
       "      <td>Bombay Palace</td>\n",
       "      <td>RESTAURANT</td>\n",
       "      <td>[restaurant, fastfood]</td>\n",
       "    </tr>\n",
       "  </tbody>\n",
       "</table>\n",
       "</div>"
      ],
      "text/plain": [
       "                      name    category                           tags\n",
       "32  Royal Hospital Chelsea      SIGHTS  [sightseeing, museum, sights]\n",
       "46             Carluccio's  RESTAURANT         [shopping, restaurant]\n",
       "10      The Churchill Arms  RESTAURANT             [restaurant, thai]\n",
       "20               Roti Chai  RESTAURANT         [restaurant, fastfood]\n",
       "72           Bombay Palace  RESTAURANT         [restaurant, fastfood]"
      ]
     },
     "execution_count": 122,
     "metadata": {},
     "output_type": "execute_result"
    }
   ],
   "source": [
    "df[['name','category', 'tags']].iloc[likes]"
   ]
  },
  {
   "cell_type": "code",
   "execution_count": 120,
   "metadata": {},
   "outputs": [
    {
     "name": "stderr",
     "output_type": "stream",
     "text": [
      "/Users/Devansh/anaconda3/lib/python3.6/site-packages/ipykernel_launcher.py:2: SettingWithCopyWarning: \n",
      "A value is trying to be set on a copy of a slice from a DataFrame.\n",
      "Try using .loc[row_indexer,col_indexer] = value instead\n",
      "\n",
      "See the caveats in the documentation: http://pandas.pydata.org/pandas-docs/stable/indexing.html#indexing-view-versus-copy\n",
      "  \n"
     ]
    }
   ],
   "source": []
  },
  {
   "cell_type": "code",
   "execution_count": 126,
   "metadata": {},
   "outputs": [
    {
     "data": {
      "text/html": [
       "<div>\n",
       "<style scoped>\n",
       "    .dataframe tbody tr th:only-of-type {\n",
       "        vertical-align: middle;\n",
       "    }\n",
       "\n",
       "    .dataframe tbody tr th {\n",
       "        vertical-align: top;\n",
       "    }\n",
       "\n",
       "    .dataframe thead th {\n",
       "        text-align: right;\n",
       "    }\n",
       "</style>\n",
       "<table border=\"1\" class=\"dataframe\">\n",
       "  <thead>\n",
       "    <tr style=\"text-align: right;\">\n",
       "      <th></th>\n",
       "      <th>score</th>\n",
       "      <th>name</th>\n",
       "      <th>category</th>\n",
       "      <th>tags</th>\n",
       "      <th>geoCode</th>\n",
       "    </tr>\n",
       "  </thead>\n",
       "  <tbody>\n",
       "    <tr>\n",
       "      <th>77</th>\n",
       "      <td>0.650000</td>\n",
       "      <td>Bosphorus Kebabs</td>\n",
       "      <td>RESTAURANT</td>\n",
       "      <td>[restaurant, fastfood]</td>\n",
       "      <td>{'latitude': 51.49296, 'longitude': -0.176227}</td>\n",
       "    </tr>\n",
       "    <tr>\n",
       "      <th>53</th>\n",
       "      <td>0.612132</td>\n",
       "      <td>Rocca di Papa</td>\n",
       "      <td>RESTAURANT</td>\n",
       "      <td>[restaurant]</td>\n",
       "      <td>{'latitude': 51.4929, 'longitude': -0.17651}</td>\n",
       "    </tr>\n",
       "    <tr>\n",
       "      <th>52</th>\n",
       "      <td>0.612132</td>\n",
       "      <td>Zafferano</td>\n",
       "      <td>RESTAURANT</td>\n",
       "      <td>[restaurant]</td>\n",
       "      <td>{'latitude': 51.499184, 'longitude': -0.157539}</td>\n",
       "    </tr>\n",
       "    <tr>\n",
       "      <th>50</th>\n",
       "      <td>0.612132</td>\n",
       "      <td>The Swan</td>\n",
       "      <td>RESTAURANT</td>\n",
       "      <td>[restaurant]</td>\n",
       "      <td>{'latitude': 51.511513, 'longitude': -0.176875}</td>\n",
       "    </tr>\n",
       "    <tr>\n",
       "      <th>49</th>\n",
       "      <td>0.612132</td>\n",
       "      <td>Khan's</td>\n",
       "      <td>RESTAURANT</td>\n",
       "      <td>[restaurant]</td>\n",
       "      <td>{'latitude': 51.515568, 'longitude': -0.189636}</td>\n",
       "    </tr>\n",
       "    <tr>\n",
       "      <th>48</th>\n",
       "      <td>0.612132</td>\n",
       "      <td>Serpentine Bar &amp; Kitchen</td>\n",
       "      <td>RESTAURANT</td>\n",
       "      <td>[restaurant]</td>\n",
       "      <td>{'latitude': 51.504974, 'longitude': -0.159903}</td>\n",
       "    </tr>\n",
       "    <tr>\n",
       "      <th>43</th>\n",
       "      <td>0.612132</td>\n",
       "      <td>Petrus</td>\n",
       "      <td>RESTAURANT</td>\n",
       "      <td>[restaurant]</td>\n",
       "      <td>{'latitude': 51.49957, 'longitude': -0.156896}</td>\n",
       "    </tr>\n",
       "    <tr>\n",
       "      <th>15</th>\n",
       "      <td>0.612132</td>\n",
       "      <td>Amaya</td>\n",
       "      <td>RESTAURANT</td>\n",
       "      <td>[restaurant]</td>\n",
       "      <td>{'latitude': 51.499287, 'longitude': -0.157143}</td>\n",
       "    </tr>\n",
       "    <tr>\n",
       "      <th>12</th>\n",
       "      <td>0.612132</td>\n",
       "      <td>Restaurant Gordon Ramsay</td>\n",
       "      <td>RESTAURANT</td>\n",
       "      <td>[restaurant]</td>\n",
       "      <td>{'latitude': 51.485832, 'longitude': -0.161966}</td>\n",
       "    </tr>\n",
       "    <tr>\n",
       "      <th>11</th>\n",
       "      <td>0.612132</td>\n",
       "      <td>Le Gavroche</td>\n",
       "      <td>RESTAURANT</td>\n",
       "      <td>[restaurant]</td>\n",
       "      <td>{'latitude': 51.51143, 'longitude': -0.155106}</td>\n",
       "    </tr>\n",
       "  </tbody>\n",
       "</table>\n",
       "</div>"
      ],
      "text/plain": [
       "       score                      name    category                    tags  \\\n",
       "77  0.650000          Bosphorus Kebabs  RESTAURANT  [restaurant, fastfood]   \n",
       "53  0.612132             Rocca di Papa  RESTAURANT            [restaurant]   \n",
       "52  0.612132                 Zafferano  RESTAURANT            [restaurant]   \n",
       "50  0.612132                  The Swan  RESTAURANT            [restaurant]   \n",
       "49  0.612132                    Khan's  RESTAURANT            [restaurant]   \n",
       "48  0.612132  Serpentine Bar & Kitchen  RESTAURANT            [restaurant]   \n",
       "43  0.612132                    Petrus  RESTAURANT            [restaurant]   \n",
       "15  0.612132                     Amaya  RESTAURANT            [restaurant]   \n",
       "12  0.612132  Restaurant Gordon Ramsay  RESTAURANT            [restaurant]   \n",
       "11  0.612132               Le Gavroche  RESTAURANT            [restaurant]   \n",
       "\n",
       "                                            geoCode  \n",
       "77   {'latitude': 51.49296, 'longitude': -0.176227}  \n",
       "53     {'latitude': 51.4929, 'longitude': -0.17651}  \n",
       "52  {'latitude': 51.499184, 'longitude': -0.157539}  \n",
       "50  {'latitude': 51.511513, 'longitude': -0.176875}  \n",
       "49  {'latitude': 51.515568, 'longitude': -0.189636}  \n",
       "48  {'latitude': 51.504974, 'longitude': -0.159903}  \n",
       "43   {'latitude': 51.49957, 'longitude': -0.156896}  \n",
       "15  {'latitude': 51.499287, 'longitude': -0.157143}  \n",
       "12  {'latitude': 51.485832, 'longitude': -0.161966}  \n",
       "11   {'latitude': 51.51143, 'longitude': -0.155106}  "
      ]
     },
     "execution_count": 126,
     "metadata": {},
     "output_type": "execute_result"
    }
   ],
   "source": [
    "recommendations[['score','name','category', 'tags', 'geoCode']]\n"
   ]
  },
  {
   "cell_type": "code",
   "execution_count": 135,
   "metadata": {},
   "outputs": [
    {
     "data": {
      "text/plain": [
       "{'type': 'location',\n",
       " 'subType': 'POINT_OF_INTEREST',\n",
       " 'geoCode': {'latitude': 51.496395, 'longitude': -0.171935},\n",
       " 'name': 'Victoria and Albert Museum',\n",
       " 'category': 'SIGHTS',\n",
       " 'tags': ['sightseeing', 'artgallerie', 'museum', 'sights', 'landmark']}"
      ]
     },
     "execution_count": 135,
     "metadata": {},
     "output_type": "execute_result"
    }
   ],
   "source": [
    "data[0]"
   ]
  },
  {
   "cell_type": "code",
   "execution_count": null,
   "metadata": {},
   "outputs": [],
   "source": []
  }
 ],
 "metadata": {
  "kernelspec": {
   "display_name": "Python 3",
   "language": "python",
   "name": "python3"
  },
  "language_info": {
   "codemirror_mode": {
    "name": "ipython",
    "version": 3
   },
   "file_extension": ".py",
   "mimetype": "text/x-python",
   "name": "python",
   "nbconvert_exporter": "python",
   "pygments_lexer": "ipython3",
   "version": "3.6.7"
  }
 },
 "nbformat": 4,
 "nbformat_minor": 2
}
