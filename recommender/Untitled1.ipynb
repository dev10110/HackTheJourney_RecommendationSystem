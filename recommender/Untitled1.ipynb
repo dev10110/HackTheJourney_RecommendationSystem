{
 "cells": [
  {
   "cell_type": "code",
   "execution_count": 71,
   "metadata": {},
   "outputs": [],
   "source": [
    "import pickle\n",
    "import annoy\n",
    "from gensim.similarities.index import AnnoyIndexer"
   ]
  },
  {
   "cell_type": "code",
   "execution_count": 72,
   "metadata": {},
   "outputs": [],
   "source": [
    "london_poi = pickle.load( open( \"london_poi.pickle\", \"rb\" ) )"
   ]
  },
  {
   "cell_type": "code",
   "execution_count": 73,
   "metadata": {},
   "outputs": [
    {
     "data": {
      "text/plain": [
       "[{'type': 'location',\n",
       "  'subType': 'POINT_OF_INTEREST',\n",
       "  'geoCode': {'latitude': 51.496395, 'longitude': -0.171935},\n",
       "  'name': 'Victoria and Albert Museum',\n",
       "  'category': 'SIGHTS',\n",
       "  'tags': ['sightseeing', 'artgallerie', 'museum', 'sights', 'landmark']},\n",
       " {'type': 'location',\n",
       "  'subType': 'POINT_OF_INTEREST',\n",
       "  'geoCode': {'latitude': 51.500996, 'longitude': -0.177414},\n",
       "  'name': 'Royal Albert Hall',\n",
       "  'category': 'SIGHTS',\n",
       "  'tags': ['sightseeing', 'sights', 'landmark', 'historicplace']},\n",
       " {'type': 'location',\n",
       "  'subType': 'POINT_OF_INTEREST',\n",
       "  'geoCode': {'latitude': 51.496143, 'longitude': -0.174409},\n",
       "  'name': 'Natural History Museum',\n",
       "  'category': 'SIGHTS',\n",
       "  'tags': ['sightseeing', 'restaurant', 'museum', 'cheap']},\n",
       " {'type': 'location',\n",
       "  'subType': 'POINT_OF_INTEREST',\n",
       "  'geoCode': {'latitude': 51.499092, 'longitude': -0.162348},\n",
       "  'name': 'Harrods',\n",
       "  'category': 'SIGHTS',\n",
       "  'tags': ['sightseeing', 'shopping', 'restaurant']},\n",
       " {'type': 'location',\n",
       "  'subType': 'POINT_OF_INTEREST',\n",
       "  'geoCode': {'latitude': 51.506935, 'longitude': -0.179232},\n",
       "  'name': 'Kensington Gardens',\n",
       "  'category': 'SIGHTS',\n",
       "  'tags': ['sightseeing', 'sights', 'landmark', 'historicplace', 'historic']},\n",
       " {'type': 'location',\n",
       "  'subType': 'POINT_OF_INTEREST',\n",
       "  'geoCode': {'latitude': 51.497604, 'longitude': -0.17434},\n",
       "  'name': 'Science Museum',\n",
       "  'category': 'SIGHTS',\n",
       "  'tags': ['sightseeing', 'museum']},\n",
       " {'type': 'location',\n",
       "  'subType': 'POINT_OF_INTEREST',\n",
       "  'geoCode': {'latitude': 51.50095, 'longitude': -0.163151},\n",
       "  'name': 'Zuma',\n",
       "  'category': 'RESTAURANT',\n",
       "  'tags': ['restaurant', 'nightlife']},\n",
       " {'type': 'location',\n",
       "  'subType': 'POINT_OF_INTEREST',\n",
       "  'geoCode': {'latitude': 51.507267, 'longitude': -0.16573},\n",
       "  'name': 'Hyde Park',\n",
       "  'category': 'SIGHTS',\n",
       "  'tags': ['sightseeing', 'sights', 'park', 'landmark']},\n",
       " {'type': 'location',\n",
       "  'subType': 'POINT_OF_INTEREST',\n",
       "  'geoCode': {'latitude': 51.502125, 'longitude': -0.160123},\n",
       "  'name': 'Dinner by Heston Blumenthal',\n",
       "  'category': 'RESTAURANT',\n",
       "  'tags': ['restaurant']},\n",
       " {'type': 'location',\n",
       "  'subType': 'POINT_OF_INTEREST',\n",
       "  'geoCode': {'latitude': 51.50163, 'longitude': -0.190795},\n",
       "  'name': 'Whole Foods Market',\n",
       "  'category': 'RESTAURANT',\n",
       "  'tags': ['shopping', 'restaurant', 'vegetarian']},\n",
       " {'type': 'location',\n",
       "  'subType': 'POINT_OF_INTEREST',\n",
       "  'geoCode': {'latitude': 51.506824, 'longitude': -0.194781},\n",
       "  'name': 'The Churchill Arms',\n",
       "  'category': 'RESTAURANT',\n",
       "  'tags': ['restaurant', 'thai']},\n",
       " {'type': 'location',\n",
       "  'subType': 'POINT_OF_INTEREST',\n",
       "  'geoCode': {'latitude': 51.51143, 'longitude': -0.155106},\n",
       "  'name': 'Le Gavroche',\n",
       "  'category': 'RESTAURANT',\n",
       "  'tags': ['restaurant']},\n",
       " {'type': 'location',\n",
       "  'subType': 'POINT_OF_INTEREST',\n",
       "  'geoCode': {'latitude': 51.485832, 'longitude': -0.161966},\n",
       "  'name': 'Restaurant Gordon Ramsay',\n",
       "  'category': 'RESTAURANT',\n",
       "  'tags': ['restaurant']},\n",
       " {'type': 'location',\n",
       "  'subType': 'POINT_OF_INTEREST',\n",
       "  'geoCode': {'latitude': 51.50159, 'longitude': -0.15972},\n",
       "  'name': 'Harvey Nichols',\n",
       "  'category': 'SHOPPING',\n",
       "  'tags': ['sightseeing', 'shopping']},\n",
       " {'type': 'location',\n",
       "  'subType': 'POINT_OF_INTEREST',\n",
       "  'geoCode': {'latitude': 51.50203, 'longitude': -0.160253},\n",
       "  'name': 'Bar Boulud',\n",
       "  'category': 'RESTAURANT',\n",
       "  'tags': ['restaurant', 'nightlife']},\n",
       " {'type': 'location',\n",
       "  'subType': 'POINT_OF_INTEREST',\n",
       "  'geoCode': {'latitude': 51.499287, 'longitude': -0.157143},\n",
       "  'name': 'Amaya',\n",
       "  'category': 'RESTAURANT',\n",
       "  'tags': ['restaurant']},\n",
       " {'type': 'location',\n",
       "  'subType': 'POINT_OF_INTEREST',\n",
       "  'geoCode': {'latitude': 51.490696, 'longitude': -0.158716},\n",
       "  'name': 'Saatchi Gallery',\n",
       "  'category': 'SIGHTS',\n",
       "  'tags': ['sightseeing', 'artgallerie', 'museum', 'sights']},\n",
       " {'type': 'location',\n",
       "  'subType': 'POINT_OF_INTEREST',\n",
       "  'geoCode': {'latitude': 51.48291, 'longitude': -0.19647},\n",
       "  'name': 'The Harwood Arms',\n",
       "  'category': 'RESTAURANT',\n",
       "  'tags': ['restaurant', 'gastropub']},\n",
       " {'type': 'location',\n",
       "  'subType': 'POINT_OF_INTEREST',\n",
       "  'geoCode': {'latitude': 51.515377, 'longitude': -0.158235},\n",
       "  'name': 'The Grazing Goat',\n",
       "  'category': 'RESTAURANT',\n",
       "  'tags': ['restaurant', 'gastropub']},\n",
       " {'type': 'location',\n",
       "  'subType': 'POINT_OF_INTEREST',\n",
       "  'geoCode': {'latitude': 51.50235, 'longitude': -0.177707},\n",
       "  'name': 'Albert Memorial',\n",
       "  'category': 'SIGHTS',\n",
       "  'tags': ['sightseeing', 'restaurant', 'sights', 'landmark']},\n",
       " {'type': 'location',\n",
       "  'subType': 'POINT_OF_INTEREST',\n",
       "  'geoCode': {'latitude': 51.51462, 'longitude': -0.155713},\n",
       "  'name': 'Roti Chai',\n",
       "  'category': 'RESTAURANT',\n",
       "  'tags': ['restaurant', 'fastfood']},\n",
       " {'type': 'location',\n",
       "  'subType': 'POINT_OF_INTEREST',\n",
       "  'geoCode': {'latitude': 51.490295, 'longitude': -0.191228},\n",
       "  'name': 'Evans & Peel Detective Agency',\n",
       "  'category': 'NIGHTLIFE',\n",
       "  'tags': ['bar', 'nightlife']},\n",
       " {'type': 'location',\n",
       "  'subType': 'POINT_OF_INTEREST',\n",
       "  'geoCode': {'latitude': 51.488823, 'longitude': -0.191904},\n",
       "  'name': 'The Troubadour',\n",
       "  'category': 'RESTAURANT',\n",
       "  'tags': ['sightseeing', 'restaurant', 'activities', 'bar']},\n",
       " {'type': 'location',\n",
       "  'subType': 'POINT_OF_INTEREST',\n",
       "  'geoCode': {'latitude': 51.505836, 'longitude': -0.187723},\n",
       "  'name': 'Kensington Palace',\n",
       "  'category': 'SIGHTS',\n",
       "  'tags': ['sightseeing', 'museum', 'sights', 'landmark', 'palace']},\n",
       " {'type': 'location',\n",
       "  'subType': 'POINT_OF_INTEREST',\n",
       "  'geoCode': {'latitude': 51.48674, 'longitude': -0.160508},\n",
       "  'name': 'National Army Museum',\n",
       "  'category': 'SIGHTS',\n",
       "  'tags': ['sightseeing', 'restaurant', 'museum', 'sights']},\n",
       " {'type': 'location',\n",
       "  'subType': 'POINT_OF_INTEREST',\n",
       "  'geoCode': {'latitude': 51.499092, 'longitude': -0.185134},\n",
       "  'name': 'Launceston Place',\n",
       "  'category': 'RESTAURANT',\n",
       "  'tags': ['restaurant', 'moderncuisine']},\n",
       " {'type': 'location',\n",
       "  'subType': 'POINT_OF_INTEREST',\n",
       "  'geoCode': {'latitude': 51.48461, 'longitude': -0.16346},\n",
       "  'name': 'Chelsea Physic Garden',\n",
       "  'category': 'SIGHTS',\n",
       "  'tags': ['sightseeing', 'park', 'landmark', 'garden']},\n",
       " {'type': 'location',\n",
       "  'subType': 'POINT_OF_INTEREST',\n",
       "  'geoCode': {'latitude': 51.501144, 'longitude': -0.179284},\n",
       "  'name': 'Royal College of Art',\n",
       "  'category': 'SIGHTS',\n",
       "  'tags': ['sightseeing', 'sights', 'historicplace', 'historic']},\n",
       " {'type': 'location',\n",
       "  'subType': 'POINT_OF_INTEREST',\n",
       "  'geoCode': {'latitude': 51.50475, 'longitude': -0.175034},\n",
       "  'name': 'Serpentine Gallery',\n",
       "  'category': 'SIGHTS',\n",
       "  'tags': ['sightseeing', 'artgallerie', 'museum', 'sights']},\n",
       " {'type': 'location',\n",
       "  'subType': 'POINT_OF_INTEREST',\n",
       "  'geoCode': {'latitude': 51.50911, 'longitude': -0.188191},\n",
       "  'name': 'Diana Memorial Playground',\n",
       "  'category': 'SIGHTS',\n",
       "  'tags': ['sightseeing', 'sights', 'park', 'landmark']},\n",
       " {'type': 'location',\n",
       "  'subType': 'POINT_OF_INTEREST',\n",
       "  'geoCode': {'latitude': 51.48306, 'longitude': -0.177651},\n",
       "  'name': 'Medlar',\n",
       "  'category': 'RESTAURANT',\n",
       "  'tags': ['restaurant', 'moderncuisine']},\n",
       " {'type': 'location',\n",
       "  'subType': 'POINT_OF_INTEREST',\n",
       "  'geoCode': {'latitude': 51.482212, 'longitude': -0.166667},\n",
       "  'name': 'Albert Bridge',\n",
       "  'category': 'SIGHTS',\n",
       "  'tags': ['sightseeing', 'sights', 'landmark', 'bridge']},\n",
       " {'type': 'location',\n",
       "  'subType': 'POINT_OF_INTEREST',\n",
       "  'geoCode': {'latitude': 51.48741, 'longitude': -0.158219},\n",
       "  'name': 'Royal Hospital Chelsea',\n",
       "  'category': 'SIGHTS',\n",
       "  'tags': ['sightseeing', 'museum', 'sights']},\n",
       " {'type': 'location',\n",
       "  'subType': 'POINT_OF_INTEREST',\n",
       "  'geoCode': {'latitude': 51.499073, 'longitude': -0.174051},\n",
       "  'name': 'Ognisko Restaurant',\n",
       "  'category': 'RESTAURANT',\n",
       "  'tags': ['sightseeing', 'restaurant']},\n",
       " {'type': 'location',\n",
       "  'subType': 'POINT_OF_INTEREST',\n",
       "  'geoCode': {'latitude': 51.49238, 'longitude': -0.16025},\n",
       "  'name': 'Sloane Square',\n",
       "  'category': 'SIGHTS',\n",
       "  'tags': ['sightseeing', 'sights', 'landmark', 'historicplace', 'historic']},\n",
       " {'type': 'location',\n",
       "  'subType': 'POINT_OF_INTEREST',\n",
       "  'geoCode': {'latitude': 51.49944, 'longitude': -0.177087},\n",
       "  'name': 'Royal College of Music',\n",
       "  'category': 'RESTAURANT',\n",
       "  'tags': ['sightseeing',\n",
       "   'restaurant',\n",
       "   'sights',\n",
       "   'historicplace',\n",
       "   'historic']},\n",
       " {'type': 'location',\n",
       "  'subType': 'POINT_OF_INTEREST',\n",
       "  'geoCode': {'latitude': 51.501553, 'longitude': -0.174984},\n",
       "  'name': 'Royal Geographical Society',\n",
       "  'category': 'RESTAURANT',\n",
       "  'tags': ['sightseeing', 'restaurant']},\n",
       " {'type': 'location',\n",
       "  'subType': 'POINT_OF_INTEREST',\n",
       "  'geoCode': {'latitude': 51.489082, 'longitude': -0.165412},\n",
       "  'name': 'Pizza Express',\n",
       "  'category': 'RESTAURANT',\n",
       "  'tags': ['restaurant', 'fastfood', 'pizza']},\n",
       " {'type': 'location',\n",
       "  'subType': 'POINT_OF_INTEREST',\n",
       "  'geoCode': {'latitude': 51.513107, 'longitude': -0.158914},\n",
       "  'name': 'Marble Arch',\n",
       "  'category': 'SIGHTS',\n",
       "  'tags': ['sightseeing', 'restaurant', 'sights', 'landmark']},\n",
       " {'type': 'location',\n",
       "  'subType': 'POINT_OF_INTEREST',\n",
       "  'geoCode': {'latitude': 51.508835, 'longitude': -0.196546},\n",
       "  'name': 'Le Pain Quotidien',\n",
       "  'category': 'RESTAURANT',\n",
       "  'tags': ['restaurant', 'vegetarian']},\n",
       " {'type': 'location',\n",
       "  'subType': 'POINT_OF_INTEREST',\n",
       "  'geoCode': {'latitude': 51.513874, 'longitude': -0.153936},\n",
       "  'name': 'Marks & Spencer',\n",
       "  'category': 'SHOPPING',\n",
       "  'tags': ['sightseeing', 'shopping', 'clothing']},\n",
       " {'type': 'location',\n",
       "  'subType': 'POINT_OF_INTEREST',\n",
       "  'geoCode': {'latitude': 51.49272, 'longitude': -0.156966},\n",
       "  'name': 'The Botanist',\n",
       "  'category': 'RESTAURANT',\n",
       "  'tags': ['restaurant', 'breakfast']},\n",
       " {'type': 'location',\n",
       "  'subType': 'POINT_OF_INTEREST',\n",
       "  'geoCode': {'latitude': 51.49783, 'longitude': -0.169847},\n",
       "  'name': 'Holy Trinity Brompton',\n",
       "  'category': 'SIGHTS',\n",
       "  'tags': ['sightseeing', 'church', 'temple']},\n",
       " {'type': 'location',\n",
       "  'subType': 'POINT_OF_INTEREST',\n",
       "  'geoCode': {'latitude': 51.49957, 'longitude': -0.156896},\n",
       "  'name': 'Petrus',\n",
       "  'category': 'RESTAURANT',\n",
       "  'tags': ['restaurant']},\n",
       " {'type': 'location',\n",
       "  'subType': 'POINT_OF_INTEREST',\n",
       "  'geoCode': {'latitude': 51.49043, 'longitude': -0.168181},\n",
       "  'name': \"Tom's Kitchen\",\n",
       "  'category': 'RESTAURANT',\n",
       "  'tags': ['restaurant', 'seafood']},\n",
       " {'type': 'location',\n",
       "  'subType': 'POINT_OF_INTEREST',\n",
       "  'geoCode': {'latitude': 51.52089, 'longitude': -0.169594},\n",
       "  'name': 'Lisson Gallery',\n",
       "  'category': 'SIGHTS',\n",
       "  'tags': ['attraction', 'artgallerie']},\n",
       " {'type': 'location',\n",
       "  'subType': 'POINT_OF_INTEREST',\n",
       "  'geoCode': {'latitude': 51.49357, 'longitude': -0.174042},\n",
       "  'name': \"Carluccio's\",\n",
       "  'category': 'RESTAURANT',\n",
       "  'tags': ['shopping', 'restaurant']},\n",
       " {'type': 'location',\n",
       "  'subType': 'POINT_OF_INTEREST',\n",
       "  'geoCode': {'latitude': 51.50146, 'longitude': -0.155004},\n",
       "  'name': 'The Grenadier',\n",
       "  'category': 'RESTAURANT',\n",
       "  'tags': ['attraction', 'activities', 'pub', 'gastropub']},\n",
       " {'type': 'location',\n",
       "  'subType': 'POINT_OF_INTEREST',\n",
       "  'geoCode': {'latitude': 51.504974, 'longitude': -0.159903},\n",
       "  'name': 'Serpentine Bar & Kitchen',\n",
       "  'category': 'RESTAURANT',\n",
       "  'tags': ['restaurant']},\n",
       " {'type': 'location',\n",
       "  'subType': 'POINT_OF_INTEREST',\n",
       "  'geoCode': {'latitude': 51.515568, 'longitude': -0.189636},\n",
       "  'name': \"Khan's\",\n",
       "  'category': 'RESTAURANT',\n",
       "  'tags': ['restaurant']},\n",
       " {'type': 'location',\n",
       "  'subType': 'POINT_OF_INTEREST',\n",
       "  'geoCode': {'latitude': 51.511513, 'longitude': -0.176875},\n",
       "  'name': 'The Swan',\n",
       "  'category': 'RESTAURANT',\n",
       "  'tags': ['restaurant']},\n",
       " {'type': 'location',\n",
       "  'subType': 'POINT_OF_INTEREST',\n",
       "  'geoCode': {'latitude': 51.506638, 'longitude': -0.187725},\n",
       "  'name': 'The Orangery',\n",
       "  'category': 'RESTAURANT',\n",
       "  'tags': ['sightseeing', 'restaurant']},\n",
       " {'type': 'location',\n",
       "  'subType': 'POINT_OF_INTEREST',\n",
       "  'geoCode': {'latitude': 51.499184, 'longitude': -0.157539},\n",
       "  'name': 'Zafferano',\n",
       "  'category': 'RESTAURANT',\n",
       "  'tags': ['restaurant']},\n",
       " {'type': 'location',\n",
       "  'subType': 'POINT_OF_INTEREST',\n",
       "  'geoCode': {'latitude': 51.4929, 'longitude': -0.17651},\n",
       "  'name': 'Rocca di Papa',\n",
       "  'category': 'RESTAURANT',\n",
       "  'tags': ['restaurant']},\n",
       " {'type': 'location',\n",
       "  'subType': 'POINT_OF_INTEREST',\n",
       "  'geoCode': {'latitude': 51.508423, 'longitude': -0.19538},\n",
       "  'name': 'Kensington Place',\n",
       "  'category': 'RESTAURANT',\n",
       "  'tags': ['restaurant', 'bar', 'grills', 'club', 'seafood']},\n",
       " {'type': 'location',\n",
       "  'subType': 'POINT_OF_INTEREST',\n",
       "  'geoCode': {'latitude': 51.513504, 'longitude': -0.171199},\n",
       "  'name': 'The Victoria',\n",
       "  'category': 'RESTAURANT',\n",
       "  'tags': ['restaurant', 'bar', 'pub']},\n",
       " {'type': 'location',\n",
       "  'subType': 'POINT_OF_INTEREST',\n",
       "  'geoCode': {'latitude': 51.519844, 'longitude': -0.164691},\n",
       "  'name': 'Dinings',\n",
       "  'category': 'RESTAURANT',\n",
       "  'tags': ['restaurant']},\n",
       " {'type': 'location',\n",
       "  'subType': 'POINT_OF_INTEREST',\n",
       "  'geoCode': {'latitude': 51.483044, 'longitude': -0.170947},\n",
       "  'name': 'Chelsea Old Church',\n",
       "  'category': 'SIGHTS',\n",
       "  'tags': ['sightseeing', 'church', 'temple', 'sights', 'landmark']},\n",
       " {'type': 'location',\n",
       "  'subType': 'POINT_OF_INTEREST',\n",
       "  'geoCode': {'latitude': 51.510548, 'longitude': -0.175484},\n",
       "  'name': 'Italian Gardens',\n",
       "  'category': 'SIGHTS',\n",
       "  'tags': ['sightseeing', 'sights', 'historicplace', 'historic']},\n",
       " {'type': 'location',\n",
       "  'subType': 'POINT_OF_INTEREST',\n",
       "  'geoCode': {'latitude': 51.493763, 'longitude': -0.157029},\n",
       "  'name': 'Cadogan Hall',\n",
       "  'category': 'SIGHTS',\n",
       "  'tags': ['sightseeing', 'activities', 'events', 'musicvenue']},\n",
       " {'type': 'location',\n",
       "  'subType': 'POINT_OF_INTEREST',\n",
       "  'geoCode': {'latitude': 51.51464, 'longitude': -0.157891},\n",
       "  'name': 'La Porte des Indes',\n",
       "  'category': 'RESTAURANT',\n",
       "  'tags': ['sightseeing', 'restaurant']},\n",
       " {'type': 'location',\n",
       "  'subType': 'POINT_OF_INTEREST',\n",
       "  'geoCode': {'latitude': 51.513615, 'longitude': -0.155719},\n",
       "  'name': 'Primark',\n",
       "  'category': 'SHOPPING',\n",
       "  'tags': ['sightseeing', 'shopping', 'clothing', 'fashion']},\n",
       " {'type': 'location',\n",
       "  'subType': 'POINT_OF_INTEREST',\n",
       "  'geoCode': {'latitude': 51.49865, 'longitude': -0.18366},\n",
       "  'name': 'Da Mario',\n",
       "  'category': 'RESTAURANT',\n",
       "  'tags': ['restaurant']},\n",
       " {'type': 'location',\n",
       "  'subType': 'POINT_OF_INTEREST',\n",
       "  'geoCode': {'latitude': 51.498947, 'longitude': -0.163961},\n",
       "  'name': 'Zia Teresa',\n",
       "  'category': 'RESTAURANT',\n",
       "  'tags': ['restaurant', 'seafood']},\n",
       " {'type': 'location',\n",
       "  'subType': 'POINT_OF_INTEREST',\n",
       "  'geoCode': {'latitude': 51.49227, 'longitude': -0.158959},\n",
       "  'name': 'Peter Jones',\n",
       "  'category': 'SHOPPING',\n",
       "  'tags': ['sightseeing', 'shopping']},\n",
       " {'type': 'location',\n",
       "  'subType': 'POINT_OF_INTEREST',\n",
       "  'geoCode': {'latitude': 51.501343, 'longitude': -0.157104},\n",
       "  'name': 'The Nags Head',\n",
       "  'category': 'RESTAURANT',\n",
       "  'tags': ['restaurant', 'activities', 'pub']},\n",
       " {'type': 'location',\n",
       "  'subType': 'POINT_OF_INTEREST',\n",
       "  'geoCode': {'latitude': 51.501427, 'longitude': -0.17287},\n",
       "  'name': 'Polish Institute and Sikorski Museum',\n",
       "  'category': 'SIGHTS',\n",
       "  'tags': ['sightseeing', 'shopping', 'transport', 'museum']},\n",
       " {'type': 'location',\n",
       "  'subType': 'POINT_OF_INTEREST',\n",
       "  'geoCode': {'latitude': 51.485294, 'longitude': -0.17442},\n",
       "  'name': 'Big Easy',\n",
       "  'category': 'RESTAURANT',\n",
       "  'tags': ['restaurant', 'grills', 'barbecue', 'seafood']},\n",
       " {'type': 'location',\n",
       "  'subType': 'POINT_OF_INTEREST',\n",
       "  'geoCode': {'latitude': 51.515545, 'longitude': -0.191107},\n",
       "  'name': 'Planet Organic',\n",
       "  'category': 'RESTAURANT',\n",
       "  'tags': ['vegetarian']},\n",
       " {'type': 'location',\n",
       "  'subType': 'POINT_OF_INTEREST',\n",
       "  'geoCode': {'latitude': 51.4889, 'longitude': -0.191563},\n",
       "  'name': 'The Pembroke',\n",
       "  'category': 'RESTAURANT',\n",
       "  'tags': ['restaurant', 'gastropub']},\n",
       " {'type': 'location',\n",
       "  'subType': 'POINT_OF_INTEREST',\n",
       "  'geoCode': {'latitude': 51.508507, 'longitude': -0.193862},\n",
       "  'name': 'The Mall Tavern',\n",
       "  'category': 'RESTAURANT',\n",
       "  'tags': ['restaurant', 'bar', 'pub', 'gastropub']},\n",
       " {'type': 'location',\n",
       "  'subType': 'POINT_OF_INTEREST',\n",
       "  'geoCode': {'latitude': 51.51737, 'longitude': -0.173597},\n",
       "  'name': \"St Mary's Hospital\",\n",
       "  'category': 'SIGHTS',\n",
       "  'tags': ['sightseeing', 'sights', 'historicplace']},\n",
       " {'type': 'location',\n",
       "  'subType': 'POINT_OF_INTEREST',\n",
       "  'geoCode': {'latitude': 51.514294, 'longitude': -0.167885},\n",
       "  'name': 'Bombay Palace',\n",
       "  'category': 'RESTAURANT',\n",
       "  'tags': ['restaurant', 'fastfood']},\n",
       " {'type': 'location',\n",
       "  'subType': 'POINT_OF_INTEREST',\n",
       "  'geoCode': {'latitude': 51.491352, 'longitude': -0.160894},\n",
       "  'name': 'John Sandoe Books Ltd',\n",
       "  'category': 'SHOPPING',\n",
       "  'tags': ['shopping', 'library']},\n",
       " {'type': 'location',\n",
       "  'subType': 'POINT_OF_INTEREST',\n",
       "  'geoCode': {'latitude': 51.51557, 'longitude': -0.161763},\n",
       "  'name': 'West London Synagogue',\n",
       "  'category': 'SIGHTS',\n",
       "  'tags': ['attraction', 'activities', 'synagogue']},\n",
       " {'type': 'location',\n",
       "  'subType': 'POINT_OF_INTEREST',\n",
       "  'geoCode': {'latitude': 51.50176, 'longitude': -0.158841},\n",
       "  'name': 'One O One',\n",
       "  'category': 'RESTAURANT',\n",
       "  'tags': ['restaurant', 'seafood']},\n",
       " {'type': 'location',\n",
       "  'subType': 'POINT_OF_INTEREST',\n",
       "  'geoCode': {'latitude': 51.50898, 'longitude': -0.193876},\n",
       "  'name': 'The Shed',\n",
       "  'category': 'RESTAURANT',\n",
       "  'tags': ['restaurant']},\n",
       " {'type': 'location',\n",
       "  'subType': 'POINT_OF_INTEREST',\n",
       "  'geoCode': {'latitude': 51.49296, 'longitude': -0.176227},\n",
       "  'name': 'Bosphorus Kebabs',\n",
       "  'category': 'RESTAURANT',\n",
       "  'tags': ['restaurant', 'fastfood']},\n",
       " {'type': 'location',\n",
       "  'subType': 'POINT_OF_INTEREST',\n",
       "  'geoCode': {'latitude': 51.499207, 'longitude': -0.166095},\n",
       "  'name': 'Bonhams',\n",
       "  'category': 'RESTAURANT',\n",
       "  'tags': ['restaurant']},\n",
       " {'type': 'location',\n",
       "  'subType': 'POINT_OF_INTEREST',\n",
       "  'geoCode': {'latitude': 51.50053, 'longitude': -0.188749},\n",
       "  'name': 'Thackeray Gallery',\n",
       "  'category': 'SIGHTS',\n",
       "  'tags': ['sightseeing', 'transport', 'artgallerie']},\n",
       " {'type': 'location',\n",
       "  'subType': 'POINT_OF_INTEREST',\n",
       "  'geoCode': {'latitude': 51.484844, 'longitude': -0.17525},\n",
       "  'name': 'Bluebird Chelsea',\n",
       "  'category': 'RESTAURANT',\n",
       "  'tags': ['restaurant']},\n",
       " {'type': 'location',\n",
       "  'subType': 'POINT_OF_INTEREST',\n",
       "  'geoCode': {'latitude': 51.498684, 'longitude': -0.165856},\n",
       "  'name': 'Mamounia Lounge Knightsbridge',\n",
       "  'category': 'RESTAURANT',\n",
       "  'tags': ['restaurant', 'bar']},\n",
       " {'type': 'location',\n",
       "  'subType': 'POINT_OF_INTEREST',\n",
       "  'geoCode': {'latitude': 51.49888, 'longitude': -0.166794},\n",
       "  'name': 'Shezan',\n",
       "  'category': 'RESTAURANT',\n",
       "  'tags': ['restaurant']},\n",
       " {'type': 'location',\n",
       "  'subType': 'POINT_OF_INTEREST',\n",
       "  'geoCode': {'latitude': 51.494324, 'longitude': -0.173618},\n",
       "  'name': 'Daquise',\n",
       "  'category': 'RESTAURANT',\n",
       "  'tags': ['sightseeing', 'restaurant']}]"
      ]
     },
     "execution_count": 73,
     "metadata": {},
     "output_type": "execute_result"
    }
   ],
   "source": [
    "london_poi"
   ]
  },
  {
   "cell_type": "code",
   "execution_count": 74,
   "metadata": {},
   "outputs": [],
   "source": [
    "cats = [poi['category'] for poi in london_poi]"
   ]
  },
  {
   "cell_type": "code",
   "execution_count": 75,
   "metadata": {},
   "outputs": [],
   "source": [
    "cats = list(set(cats))"
   ]
  },
  {
   "cell_type": "code",
   "execution_count": 76,
   "metadata": {},
   "outputs": [],
   "source": [
    "tags = [poi['tags'] for poi in london_poi]"
   ]
  },
  {
   "cell_type": "code",
   "execution_count": 77,
   "metadata": {},
   "outputs": [
    {
     "data": {
      "text/plain": [
       "[['sightseeing', 'artgallerie', 'museum', 'sights', 'landmark'],\n",
       " ['sightseeing', 'sights', 'landmark', 'historicplace'],\n",
       " ['sightseeing', 'restaurant', 'museum', 'cheap'],\n",
       " ['sightseeing', 'shopping', 'restaurant'],\n",
       " ['sightseeing', 'sights', 'landmark', 'historicplace', 'historic'],\n",
       " ['sightseeing', 'museum'],\n",
       " ['restaurant', 'nightlife'],\n",
       " ['sightseeing', 'sights', 'park', 'landmark'],\n",
       " ['restaurant'],\n",
       " ['shopping', 'restaurant', 'vegetarian'],\n",
       " ['restaurant', 'thai'],\n",
       " ['restaurant'],\n",
       " ['restaurant'],\n",
       " ['sightseeing', 'shopping'],\n",
       " ['restaurant', 'nightlife'],\n",
       " ['restaurant'],\n",
       " ['sightseeing', 'artgallerie', 'museum', 'sights'],\n",
       " ['restaurant', 'gastropub'],\n",
       " ['restaurant', 'gastropub'],\n",
       " ['sightseeing', 'restaurant', 'sights', 'landmark'],\n",
       " ['restaurant', 'fastfood'],\n",
       " ['bar', 'nightlife'],\n",
       " ['sightseeing', 'restaurant', 'activities', 'bar'],\n",
       " ['sightseeing', 'museum', 'sights', 'landmark', 'palace'],\n",
       " ['sightseeing', 'restaurant', 'museum', 'sights'],\n",
       " ['restaurant', 'moderncuisine'],\n",
       " ['sightseeing', 'park', 'landmark', 'garden'],\n",
       " ['sightseeing', 'sights', 'historicplace', 'historic'],\n",
       " ['sightseeing', 'artgallerie', 'museum', 'sights'],\n",
       " ['sightseeing', 'sights', 'park', 'landmark'],\n",
       " ['restaurant', 'moderncuisine'],\n",
       " ['sightseeing', 'sights', 'landmark', 'bridge'],\n",
       " ['sightseeing', 'museum', 'sights'],\n",
       " ['sightseeing', 'restaurant'],\n",
       " ['sightseeing', 'sights', 'landmark', 'historicplace', 'historic'],\n",
       " ['sightseeing', 'restaurant', 'sights', 'historicplace', 'historic'],\n",
       " ['sightseeing', 'restaurant'],\n",
       " ['restaurant', 'fastfood', 'pizza'],\n",
       " ['sightseeing', 'restaurant', 'sights', 'landmark'],\n",
       " ['restaurant', 'vegetarian'],\n",
       " ['sightseeing', 'shopping', 'clothing'],\n",
       " ['restaurant', 'breakfast'],\n",
       " ['sightseeing', 'church', 'temple'],\n",
       " ['restaurant'],\n",
       " ['restaurant', 'seafood'],\n",
       " ['attraction', 'artgallerie'],\n",
       " ['shopping', 'restaurant'],\n",
       " ['attraction', 'activities', 'pub', 'gastropub'],\n",
       " ['restaurant'],\n",
       " ['restaurant'],\n",
       " ['restaurant'],\n",
       " ['sightseeing', 'restaurant'],\n",
       " ['restaurant'],\n",
       " ['restaurant'],\n",
       " ['restaurant', 'bar', 'grills', 'club', 'seafood'],\n",
       " ['restaurant', 'bar', 'pub'],\n",
       " ['restaurant'],\n",
       " ['sightseeing', 'church', 'temple', 'sights', 'landmark'],\n",
       " ['sightseeing', 'sights', 'historicplace', 'historic'],\n",
       " ['sightseeing', 'activities', 'events', 'musicvenue'],\n",
       " ['sightseeing', 'restaurant'],\n",
       " ['sightseeing', 'shopping', 'clothing', 'fashion'],\n",
       " ['restaurant'],\n",
       " ['restaurant', 'seafood'],\n",
       " ['sightseeing', 'shopping'],\n",
       " ['restaurant', 'activities', 'pub'],\n",
       " ['sightseeing', 'shopping', 'transport', 'museum'],\n",
       " ['restaurant', 'grills', 'barbecue', 'seafood'],\n",
       " ['vegetarian'],\n",
       " ['restaurant', 'gastropub'],\n",
       " ['restaurant', 'bar', 'pub', 'gastropub'],\n",
       " ['sightseeing', 'sights', 'historicplace'],\n",
       " ['restaurant', 'fastfood'],\n",
       " ['shopping', 'library'],\n",
       " ['attraction', 'activities', 'synagogue'],\n",
       " ['restaurant', 'seafood'],\n",
       " ['restaurant'],\n",
       " ['restaurant', 'fastfood'],\n",
       " ['restaurant'],\n",
       " ['sightseeing', 'transport', 'artgallerie'],\n",
       " ['restaurant'],\n",
       " ['restaurant', 'bar'],\n",
       " ['restaurant'],\n",
       " ['sightseeing', 'restaurant']]"
      ]
     },
     "execution_count": 77,
     "metadata": {},
     "output_type": "execute_result"
    }
   ],
   "source": [
    "tags"
   ]
  },
  {
   "cell_type": "code",
   "execution_count": 78,
   "metadata": {},
   "outputs": [
    {
     "data": {
      "text/plain": [
       "[['sightseeing', 'artgallerie', 'museum', 'sights', 'landmark'],\n",
       " ['sightseeing', 'sights', 'landmark', 'historicplace'],\n",
       " ['sightseeing', 'restaurant', 'museum', 'cheap'],\n",
       " ['sightseeing', 'shopping', 'restaurant'],\n",
       " ['sightseeing', 'sights', 'landmark', 'historicplace', 'historic'],\n",
       " ['sightseeing', 'museum'],\n",
       " ['sightseeing', 'sights', 'park', 'landmark'],\n",
       " ['sightseeing', 'artgallerie', 'museum', 'sights'],\n",
       " ['sightseeing', 'restaurant', 'sights', 'landmark'],\n",
       " ['sightseeing', 'museum', 'sights', 'landmark', 'palace'],\n",
       " ['sightseeing', 'restaurant', 'museum', 'sights'],\n",
       " ['sightseeing', 'park', 'landmark', 'garden'],\n",
       " ['sightseeing', 'sights', 'historicplace', 'historic'],\n",
       " ['sightseeing', 'artgallerie', 'museum', 'sights'],\n",
       " ['sightseeing', 'sights', 'park', 'landmark'],\n",
       " ['sightseeing', 'sights', 'landmark', 'bridge'],\n",
       " ['sightseeing', 'museum', 'sights'],\n",
       " ['sightseeing', 'sights', 'landmark', 'historicplace', 'historic'],\n",
       " ['sightseeing', 'restaurant', 'sights', 'landmark'],\n",
       " ['sightseeing', 'church', 'temple'],\n",
       " ['attraction', 'artgallerie'],\n",
       " ['sightseeing', 'church', 'temple', 'sights', 'landmark'],\n",
       " ['sightseeing', 'sights', 'historicplace', 'historic'],\n",
       " ['sightseeing', 'activities', 'events', 'musicvenue'],\n",
       " ['sightseeing', 'shopping', 'transport', 'museum'],\n",
       " ['sightseeing', 'sights', 'historicplace'],\n",
       " ['attraction', 'activities', 'synagogue'],\n",
       " ['sightseeing', 'transport', 'artgallerie']]"
      ]
     },
     "execution_count": 78,
     "metadata": {},
     "output_type": "execute_result"
    }
   ],
   "source": [
    "[poi['tags'] for poi in london_poi if poi['category'] == cats[0]]"
   ]
  },
  {
   "cell_type": "code",
   "execution_count": 79,
   "metadata": {},
   "outputs": [
    {
     "data": {
      "text/plain": [
       "[['restaurant', 'nightlife'],\n",
       " ['restaurant'],\n",
       " ['shopping', 'restaurant', 'vegetarian'],\n",
       " ['restaurant', 'thai'],\n",
       " ['restaurant'],\n",
       " ['restaurant'],\n",
       " ['restaurant', 'nightlife'],\n",
       " ['restaurant'],\n",
       " ['restaurant', 'gastropub'],\n",
       " ['restaurant', 'gastropub'],\n",
       " ['restaurant', 'fastfood'],\n",
       " ['sightseeing', 'restaurant', 'activities', 'bar'],\n",
       " ['restaurant', 'moderncuisine'],\n",
       " ['restaurant', 'moderncuisine'],\n",
       " ['sightseeing', 'restaurant'],\n",
       " ['sightseeing', 'restaurant', 'sights', 'historicplace', 'historic'],\n",
       " ['sightseeing', 'restaurant'],\n",
       " ['restaurant', 'fastfood', 'pizza'],\n",
       " ['restaurant', 'vegetarian'],\n",
       " ['restaurant', 'breakfast'],\n",
       " ['restaurant'],\n",
       " ['restaurant', 'seafood'],\n",
       " ['shopping', 'restaurant'],\n",
       " ['attraction', 'activities', 'pub', 'gastropub'],\n",
       " ['restaurant'],\n",
       " ['restaurant'],\n",
       " ['restaurant'],\n",
       " ['sightseeing', 'restaurant'],\n",
       " ['restaurant'],\n",
       " ['restaurant'],\n",
       " ['restaurant', 'bar', 'grills', 'club', 'seafood'],\n",
       " ['restaurant', 'bar', 'pub'],\n",
       " ['restaurant'],\n",
       " ['sightseeing', 'restaurant'],\n",
       " ['restaurant'],\n",
       " ['restaurant', 'seafood'],\n",
       " ['restaurant', 'activities', 'pub'],\n",
       " ['restaurant', 'grills', 'barbecue', 'seafood'],\n",
       " ['vegetarian'],\n",
       " ['restaurant', 'gastropub'],\n",
       " ['restaurant', 'bar', 'pub', 'gastropub'],\n",
       " ['restaurant', 'fastfood'],\n",
       " ['restaurant', 'seafood'],\n",
       " ['restaurant'],\n",
       " ['restaurant', 'fastfood'],\n",
       " ['restaurant'],\n",
       " ['restaurant'],\n",
       " ['restaurant', 'bar'],\n",
       " ['restaurant'],\n",
       " ['sightseeing', 'restaurant']]"
      ]
     },
     "execution_count": 79,
     "metadata": {},
     "output_type": "execute_result"
    }
   ],
   "source": [
    "[poi['tags'] for poi in london_poi if poi['category'] == cats[1]]"
   ]
  },
  {
   "cell_type": "code",
   "execution_count": 80,
   "metadata": {},
   "outputs": [
    {
     "data": {
      "text/plain": [
       "[['bar', 'nightlife']]"
      ]
     },
     "execution_count": 80,
     "metadata": {},
     "output_type": "execute_result"
    }
   ],
   "source": [
    "[poi['tags'] for poi in london_poi if poi['category'] == cats[2]]"
   ]
  },
  {
   "cell_type": "code",
   "execution_count": 81,
   "metadata": {},
   "outputs": [
    {
     "data": {
      "text/plain": [
       "['Harvey Nichols',\n",
       " 'Marks & Spencer',\n",
       " 'Primark',\n",
       " 'Peter Jones',\n",
       " 'John Sandoe Books Ltd']"
      ]
     },
     "execution_count": 81,
     "metadata": {},
     "output_type": "execute_result"
    }
   ],
   "source": [
    "[poi['name'] for poi in london_poi if poi['category'] == cats[3]]"
   ]
  },
  {
   "cell_type": "code",
   "execution_count": 82,
   "metadata": {},
   "outputs": [],
   "source": [
    "cats = list(cats)"
   ]
  },
  {
   "cell_type": "code",
   "execution_count": 83,
   "metadata": {},
   "outputs": [
    {
     "data": {
      "text/plain": [
       "['SIGHTS', 'RESTAURANT', 'NIGHTLIFE', 'SHOPPING']"
      ]
     },
     "execution_count": 83,
     "metadata": {},
     "output_type": "execute_result"
    }
   ],
   "source": [
    "cats"
   ]
  },
  {
   "cell_type": "code",
   "execution_count": 84,
   "metadata": {},
   "outputs": [],
   "source": [
    "\n",
    "import gensim, logging\n",
    "\n",
    "logging.basicConfig(format='%(asctime)s : %(levelname)s : %(message)s', level=logging.INFO)\n"
   ]
  },
  {
   "cell_type": "code",
   "execution_count": null,
   "metadata": {},
   "outputs": [],
   "source": []
  },
  {
   "cell_type": "code",
   "execution_count": null,
   "metadata": {},
   "outputs": [],
   "source": [
    "TaggedTags = []\n",
    "for i,tag in enumerate(tags):\n",
    "    TaggedTags += [La]"
   ]
  },
  {
   "cell_type": "code",
   "execution_count": 88,
   "metadata": {},
   "outputs": [
    {
     "data": {
      "text/plain": [
       "[['sightseeing', 'artgallerie', 'museum', 'sights', 'landmark'],\n",
       " ['sightseeing', 'sights', 'landmark', 'historicplace'],\n",
       " ['sightseeing', 'restaurant', 'museum', 'cheap'],\n",
       " ['sightseeing', 'shopping', 'restaurant'],\n",
       " ['sightseeing', 'sights', 'landmark', 'historicplace', 'historic'],\n",
       " ['sightseeing', 'museum'],\n",
       " ['restaurant', 'nightlife'],\n",
       " ['sightseeing', 'sights', 'park', 'landmark'],\n",
       " ['restaurant'],\n",
       " ['shopping', 'restaurant', 'vegetarian'],\n",
       " ['restaurant', 'thai'],\n",
       " ['restaurant'],\n",
       " ['restaurant'],\n",
       " ['sightseeing', 'shopping'],\n",
       " ['restaurant', 'nightlife'],\n",
       " ['restaurant'],\n",
       " ['sightseeing', 'artgallerie', 'museum', 'sights'],\n",
       " ['restaurant', 'gastropub'],\n",
       " ['restaurant', 'gastropub'],\n",
       " ['sightseeing', 'restaurant', 'sights', 'landmark'],\n",
       " ['restaurant', 'fastfood'],\n",
       " ['bar', 'nightlife'],\n",
       " ['sightseeing', 'restaurant', 'activities', 'bar'],\n",
       " ['sightseeing', 'museum', 'sights', 'landmark', 'palace'],\n",
       " ['sightseeing', 'restaurant', 'museum', 'sights'],\n",
       " ['restaurant', 'moderncuisine'],\n",
       " ['sightseeing', 'park', 'landmark', 'garden'],\n",
       " ['sightseeing', 'sights', 'historicplace', 'historic'],\n",
       " ['sightseeing', 'artgallerie', 'museum', 'sights'],\n",
       " ['sightseeing', 'sights', 'park', 'landmark'],\n",
       " ['restaurant', 'moderncuisine'],\n",
       " ['sightseeing', 'sights', 'landmark', 'bridge'],\n",
       " ['sightseeing', 'museum', 'sights'],\n",
       " ['sightseeing', 'restaurant'],\n",
       " ['sightseeing', 'sights', 'landmark', 'historicplace', 'historic'],\n",
       " ['sightseeing', 'restaurant', 'sights', 'historicplace', 'historic'],\n",
       " ['sightseeing', 'restaurant'],\n",
       " ['restaurant', 'fastfood', 'pizza'],\n",
       " ['sightseeing', 'restaurant', 'sights', 'landmark'],\n",
       " ['restaurant', 'vegetarian'],\n",
       " ['sightseeing', 'shopping', 'clothing'],\n",
       " ['restaurant', 'breakfast'],\n",
       " ['sightseeing', 'church', 'temple'],\n",
       " ['restaurant'],\n",
       " ['restaurant', 'seafood'],\n",
       " ['attraction', 'artgallerie'],\n",
       " ['shopping', 'restaurant'],\n",
       " ['attraction', 'activities', 'pub', 'gastropub'],\n",
       " ['restaurant'],\n",
       " ['restaurant'],\n",
       " ['restaurant'],\n",
       " ['sightseeing', 'restaurant'],\n",
       " ['restaurant'],\n",
       " ['restaurant'],\n",
       " ['restaurant', 'bar', 'grills', 'club', 'seafood'],\n",
       " ['restaurant', 'bar', 'pub'],\n",
       " ['restaurant'],\n",
       " ['sightseeing', 'church', 'temple', 'sights', 'landmark'],\n",
       " ['sightseeing', 'sights', 'historicplace', 'historic'],\n",
       " ['sightseeing', 'activities', 'events', 'musicvenue'],\n",
       " ['sightseeing', 'restaurant'],\n",
       " ['sightseeing', 'shopping', 'clothing', 'fashion'],\n",
       " ['restaurant'],\n",
       " ['restaurant', 'seafood'],\n",
       " ['sightseeing', 'shopping'],\n",
       " ['restaurant', 'activities', 'pub'],\n",
       " ['sightseeing', 'shopping', 'transport', 'museum'],\n",
       " ['restaurant', 'grills', 'barbecue', 'seafood'],\n",
       " ['vegetarian'],\n",
       " ['restaurant', 'gastropub'],\n",
       " ['restaurant', 'bar', 'pub', 'gastropub'],\n",
       " ['sightseeing', 'sights', 'historicplace'],\n",
       " ['restaurant', 'fastfood'],\n",
       " ['shopping', 'library'],\n",
       " ['attraction', 'activities', 'synagogue'],\n",
       " ['restaurant', 'seafood'],\n",
       " ['restaurant'],\n",
       " ['restaurant', 'fastfood'],\n",
       " ['restaurant'],\n",
       " ['sightseeing', 'transport', 'artgallerie'],\n",
       " ['restaurant'],\n",
       " ['restaurant', 'bar'],\n",
       " ['restaurant'],\n",
       " ['sightseeing', 'restaurant']]"
      ]
     },
     "execution_count": 88,
     "metadata": {},
     "output_type": "execute_result"
    }
   ],
   "source": [
    "tags"
   ]
  },
  {
   "cell_type": "code",
   "execution_count": 86,
   "metadata": {},
   "outputs": [
    {
     "name": "stderr",
     "output_type": "stream",
     "text": [
      "2019-07-27 20:16:13,105 : INFO : collecting all words and their counts\n",
      "2019-07-27 20:16:13,107 : INFO : PROGRESS: at sentence #0, processed 0 words, keeping 0 word types\n",
      "2019-07-27 20:16:13,109 : INFO : collected 39 word types from a corpus of 223 raw words and 84 sentences\n",
      "2019-07-27 20:16:13,113 : INFO : Loading a fresh vocabulary\n",
      "2019-07-27 20:16:13,115 : INFO : effective_min_count=1 retains 39 unique words (100% of original 39, drops 0)\n",
      "2019-07-27 20:16:13,117 : INFO : effective_min_count=1 leaves 223 word corpus (100% of original 223, drops 0)\n",
      "2019-07-27 20:16:13,120 : INFO : deleting the raw counts dictionary of 39 items\n",
      "2019-07-27 20:16:13,121 : INFO : sample=0.001 downsamples 39 most-common words\n",
      "2019-07-27 20:16:13,123 : INFO : downsampling leaves estimated 44 word corpus (20.2% of prior 223)\n",
      "2019-07-27 20:16:13,125 : INFO : estimated required memory for 39 words and 100 dimensions: 50700 bytes\n",
      "2019-07-27 20:16:13,129 : INFO : resetting layer weights\n",
      "2019-07-27 20:16:13,136 : INFO : training model with 3 workers on 39 vocabulary and 100 features, using sg=0 hs=0 sample=0.001 negative=5 window=5\n",
      "2019-07-27 20:16:13,142 : INFO : worker thread finished; awaiting finish of 2 more threads\n",
      "2019-07-27 20:16:13,143 : INFO : worker thread finished; awaiting finish of 1 more threads\n",
      "2019-07-27 20:16:13,145 : INFO : worker thread finished; awaiting finish of 0 more threads\n",
      "2019-07-27 20:16:13,153 : INFO : EPOCH - 1 : training on 223 raw words (47 effective words) took 0.0s, 4395 effective words/s\n",
      "2019-07-27 20:16:13,166 : INFO : worker thread finished; awaiting finish of 2 more threads\n",
      "2019-07-27 20:16:13,169 : INFO : worker thread finished; awaiting finish of 1 more threads\n",
      "2019-07-27 20:16:13,174 : INFO : worker thread finished; awaiting finish of 0 more threads\n",
      "2019-07-27 20:16:13,175 : INFO : EPOCH - 2 : training on 223 raw words (34 effective words) took 0.0s, 3592 effective words/s\n",
      "2019-07-27 20:16:13,196 : INFO : worker thread finished; awaiting finish of 2 more threads\n",
      "2019-07-27 20:16:13,198 : INFO : worker thread finished; awaiting finish of 1 more threads\n",
      "2019-07-27 20:16:13,205 : INFO : worker thread finished; awaiting finish of 0 more threads\n",
      "2019-07-27 20:16:13,209 : INFO : EPOCH - 3 : training on 223 raw words (58 effective words) took 0.0s, 4301 effective words/s\n",
      "2019-07-27 20:16:13,224 : INFO : worker thread finished; awaiting finish of 2 more threads\n",
      "2019-07-27 20:16:13,225 : INFO : worker thread finished; awaiting finish of 1 more threads\n",
      "2019-07-27 20:16:13,226 : INFO : worker thread finished; awaiting finish of 0 more threads\n",
      "2019-07-27 20:16:13,229 : INFO : EPOCH - 4 : training on 223 raw words (44 effective words) took 0.0s, 7825 effective words/s\n",
      "2019-07-27 20:16:13,235 : INFO : worker thread finished; awaiting finish of 2 more threads\n",
      "2019-07-27 20:16:13,238 : INFO : worker thread finished; awaiting finish of 1 more threads\n",
      "2019-07-27 20:16:13,242 : INFO : worker thread finished; awaiting finish of 0 more threads\n",
      "2019-07-27 20:16:13,245 : INFO : EPOCH - 5 : training on 223 raw words (42 effective words) took 0.0s, 4165 effective words/s\n",
      "2019-07-27 20:16:13,248 : INFO : training on a 1115 raw words (225 effective words) took 0.1s, 2038 effective words/s\n",
      "2019-07-27 20:16:13,249 : WARNING : under 10 jobs per worker: consider setting a smaller `batch_words' for smoother alpha decay\n"
     ]
    }
   ],
   "source": [
    "# train word2vec on the two sentences\n",
    "model = gensim.models.Word2Vec(tags, min_count=1)#,size=20)"
   ]
  },
  {
   "cell_type": "code",
   "execution_count": 49,
   "metadata": {},
   "outputs": [
    {
     "data": {
      "text/plain": [
       "<gensim.models.word2vec.Word2Vec at 0x123065cf8>"
      ]
     },
     "execution_count": 49,
     "metadata": {},
     "output_type": "execute_result"
    }
   ],
   "source": [
    "model"
   ]
  },
  {
   "cell_type": "code",
   "execution_count": 50,
   "metadata": {},
   "outputs": [
    {
     "name": "stdout",
     "output_type": "stream",
     "text": [
      "Word2Vec(vocab=39, size=100, alpha=0.025)\n",
      "{'sightseeing': <gensim.models.keyedvectors.Vocab object at 0x113b9a6d8>, 'artgallerie': <gensim.models.keyedvectors.Vocab object at 0x12307df98>, 'museum': <gensim.models.keyedvectors.Vocab object at 0x12307d7f0>, 'sights': <gensim.models.keyedvectors.Vocab object at 0x12307dac8>, 'landmark': <gensim.models.keyedvectors.Vocab object at 0x12307dc50>, 'historicplace': <gensim.models.keyedvectors.Vocab object at 0x12307dc88>, 'restaurant': <gensim.models.keyedvectors.Vocab object at 0x12307d6a0>, 'cheap': <gensim.models.keyedvectors.Vocab object at 0x12307dc18>, 'shopping': <gensim.models.keyedvectors.Vocab object at 0x1233f2128>, 'historic': <gensim.models.keyedvectors.Vocab object at 0x1233f2550>, 'nightlife': <gensim.models.keyedvectors.Vocab object at 0x1233f2ef0>, 'park': <gensim.models.keyedvectors.Vocab object at 0x123846ba8>, 'vegetarian': <gensim.models.keyedvectors.Vocab object at 0x123846908>, 'thai': <gensim.models.keyedvectors.Vocab object at 0x123846da0>, 'gastropub': <gensim.models.keyedvectors.Vocab object at 0x123846c88>, 'fastfood': <gensim.models.keyedvectors.Vocab object at 0x123846e48>, 'bar': <gensim.models.keyedvectors.Vocab object at 0x123846748>, 'activities': <gensim.models.keyedvectors.Vocab object at 0x1238467b8>, 'palace': <gensim.models.keyedvectors.Vocab object at 0x1238466a0>, 'moderncuisine': <gensim.models.keyedvectors.Vocab object at 0x123846780>, 'garden': <gensim.models.keyedvectors.Vocab object at 0x1238464e0>, 'bridge': <gensim.models.keyedvectors.Vocab object at 0x1238464a8>, 'pizza': <gensim.models.keyedvectors.Vocab object at 0x123846828>, 'clothing': <gensim.models.keyedvectors.Vocab object at 0x1238467f0>, 'breakfast': <gensim.models.keyedvectors.Vocab object at 0x1238462b0>, 'church': <gensim.models.keyedvectors.Vocab object at 0x1238460b8>, 'temple': <gensim.models.keyedvectors.Vocab object at 0x123846160>, 'seafood': <gensim.models.keyedvectors.Vocab object at 0x123844048>, 'attraction': <gensim.models.keyedvectors.Vocab object at 0x123844080>, 'pub': <gensim.models.keyedvectors.Vocab object at 0x1238444a8>, 'grills': <gensim.models.keyedvectors.Vocab object at 0x123844358>, 'club': <gensim.models.keyedvectors.Vocab object at 0x1238444e0>, 'events': <gensim.models.keyedvectors.Vocab object at 0x123844518>, 'musicvenue': <gensim.models.keyedvectors.Vocab object at 0x123844550>, 'fashion': <gensim.models.keyedvectors.Vocab object at 0x123844588>, 'transport': <gensim.models.keyedvectors.Vocab object at 0x1238445c0>, 'barbecue': <gensim.models.keyedvectors.Vocab object at 0x1238445f8>, 'library': <gensim.models.keyedvectors.Vocab object at 0x123844630>, 'synagogue': <gensim.models.keyedvectors.Vocab object at 0x123844668>}\n"
     ]
    }
   ],
   "source": [
    "print(model)\n",
    "print(model.wv.vocab)"
   ]
  },
  {
   "cell_type": "code",
   "execution_count": 43,
   "metadata": {},
   "outputs": [
    {
     "data": {
      "text/plain": [
       "<gensim.models.keyedvectors.Vocab at 0x113c23630>"
      ]
     },
     "execution_count": 43,
     "metadata": {},
     "output_type": "execute_result"
    }
   ],
   "source": [
    "model.wv.vocab['sightseeing']"
   ]
  },
  {
   "cell_type": "code",
   "execution_count": 52,
   "metadata": {},
   "outputs": [
    {
     "name": "stderr",
     "output_type": "stream",
     "text": [
      "/Users/Devansh/anaconda3/lib/python3.6/site-packages/ipykernel_launcher.py:1: DeprecationWarning: Call to deprecated `__getitem__` (Method will be removed in 4.0.0, use self.wv.__getitem__() instead).\n",
      "  \"\"\"Entry point for launching an IPython kernel.\n"
     ]
    },
    {
     "data": {
      "text/plain": [
       "array([ 1.1245217e-03, -1.9308307e-03, -4.6842005e-03, -3.7638969e-03,\n",
       "        1.4000295e-03, -1.9335472e-03,  4.6338639e-03, -4.9788975e-03,\n",
       "       -9.3319650e-05, -5.4057606e-04, -2.3884433e-03, -4.9586417e-03,\n",
       "       -2.8982225e-03, -4.3967748e-03,  4.4319681e-03,  3.8108288e-04,\n",
       "        1.2608978e-03,  4.5960243e-03,  5.8754761e-04, -4.9858405e-03,\n",
       "       -5.5075571e-04,  3.5832920e-03,  4.0263371e-03, -4.6397583e-03,\n",
       "       -4.5113452e-03, -2.0581447e-03,  5.2251038e-04, -1.3881804e-03,\n",
       "       -2.4540871e-03,  2.9271131e-03,  4.0192720e-03,  4.2567402e-03,\n",
       "       -3.1055142e-03, -1.5361136e-04,  1.9992706e-03, -4.5803520e-03,\n",
       "        1.1933316e-03, -4.5736097e-03, -2.6288451e-04, -4.9633430e-03,\n",
       "        3.0785636e-03, -2.4704358e-03, -1.4461710e-03,  4.3740799e-03,\n",
       "        2.5234106e-03,  1.4861081e-03,  2.3742763e-03, -4.8155943e-03,\n",
       "        4.3216157e-03,  4.7734752e-03, -2.5176941e-03, -5.1591796e-04,\n",
       "       -2.7412004e-03, -2.3705135e-03,  2.4589817e-03, -3.0902268e-03,\n",
       "       -3.8329775e-03,  2.6760309e-03,  3.8103878e-03, -3.6361164e-03,\n",
       "       -3.8510314e-03, -3.8835560e-03, -1.7867696e-03, -4.1443435e-03,\n",
       "        1.3441514e-03,  2.7483783e-03, -1.7611698e-03, -1.4663981e-03,\n",
       "       -5.0033634e-03,  1.2455191e-03, -3.8435319e-04,  4.6518841e-03,\n",
       "       -1.3633014e-03,  3.9598224e-04, -1.2573395e-03,  3.1683051e-03,\n",
       "       -1.7091527e-03,  1.8343470e-03,  3.5604585e-03,  3.8540175e-03,\n",
       "       -1.9242668e-03, -4.1447217e-03, -1.3352152e-03, -3.4516782e-03,\n",
       "       -4.4028009e-03,  2.2256158e-03, -4.0969355e-03, -4.6345508e-03,\n",
       "       -3.3558969e-04,  1.4891204e-03, -3.6193591e-03,  1.6950264e-03,\n",
       "        2.0915628e-03, -4.0392624e-03,  2.3397701e-03, -4.9148146e-03,\n",
       "        3.3262570e-03, -1.9741033e-03, -7.9579139e-04,  7.6980412e-04],\n",
       "      dtype=float32)"
      ]
     },
     "execution_count": 52,
     "metadata": {},
     "output_type": "execute_result"
    }
   ],
   "source": [
    "model['sightseeing']"
   ]
  },
  {
   "cell_type": "code",
   "execution_count": 54,
   "metadata": {},
   "outputs": [
    {
     "name": "stderr",
     "output_type": "stream",
     "text": [
      "/Users/Devansh/anaconda3/lib/python3.6/site-packages/ipykernel_launcher.py:1: DeprecationWarning: Call to deprecated `most_similar` (Method will be removed in 4.0.0, use self.wv.most_similar() instead).\n",
      "  \"\"\"Entry point for launching an IPython kernel.\n",
      "2019-07-27 20:11:27,052 : INFO : precomputing L2-norms of word weight vectors\n"
     ]
    },
    {
     "data": {
      "text/plain": [
       "[('attraction', 0.2820136547088623),\n",
       " ('fashion', 0.2648141384124756),\n",
       " ('nightlife', 0.2320231795310974),\n",
       " ('sightseeing', 0.19693973660469055),\n",
       " ('park', 0.16729822754859924),\n",
       " ('events', 0.15810644626617432),\n",
       " ('club', 0.15656331181526184),\n",
       " ('musicvenue', 0.14261141419410706),\n",
       " ('pub', 0.1336338222026825),\n",
       " ('shopping', 0.12409555166959763)]"
      ]
     },
     "execution_count": 54,
     "metadata": {},
     "output_type": "execute_result"
    }
   ],
   "source": [
    "model.most_similar(['restaurant'])"
   ]
  },
  {
   "cell_type": "code",
   "execution_count": 59,
   "metadata": {},
   "outputs": [
    {
     "name": "stderr",
     "output_type": "stream",
     "text": [
      "/Users/Devansh/anaconda3/lib/python3.6/site-packages/gensim/similarities/index.py:184: FutureWarning: The default argument for metric will be removed in future version of Annoy. Please pass metric='angular' explicitly.\n",
      "  index = AnnoyIndex(num_features)\n"
     ]
    }
   ],
   "source": [
    "indexer = AnnoyIndexer(model, 5)"
   ]
  },
  {
   "cell_type": "code",
   "execution_count": 60,
   "metadata": {},
   "outputs": [
    {
     "data": {
      "text/plain": [
       "<gensim.similarities.index.AnnoyIndexer at 0x123836c50>"
      ]
     },
     "execution_count": 60,
     "metadata": {},
     "output_type": "execute_result"
    }
   ],
   "source": [
    "indexer\n"
   ]
  },
  {
   "cell_type": "code",
   "execution_count": 66,
   "metadata": {},
   "outputs": [
    {
     "name": "stderr",
     "output_type": "stream",
     "text": [
      "/Users/Devansh/anaconda3/lib/python3.6/site-packages/ipykernel_launcher.py:1: DeprecationWarning: Call to deprecated `most_similar` (Method will be removed in 4.0.0, use self.wv.most_similar() instead).\n",
      "  \"\"\"Entry point for launching an IPython kernel.\n"
     ]
    },
    {
     "data": {
      "text/plain": [
       "[('bar', 1.0),\n",
       " ('sightseeing', 0.36206358671188354),\n",
       " ('barbecue', 0.3414970636367798),\n",
       " ('activities', 0.3375234007835388),\n",
       " ('palace', 0.33711767196655273),\n",
       " ('attraction', 0.33538365364074707),\n",
       " ('moderncuisine', 0.32837802171707153),\n",
       " ('shopping', 0.315083384513855),\n",
       " ('club', 0.3134060502052307),\n",
       " ('garden', 0.31338179111480713),\n",
       " ('park', 0.31303995847702026),\n",
       " ('museum', 0.3109898567199707),\n",
       " ('grills', 0.310982346534729),\n",
       " ('historicplace', 0.30834561586380005),\n",
       " ('fastfood', 0.3065221905708313),\n",
       " ('vegetarian', 0.30171269178390503),\n",
       " ('landmark', 0.29959559440612793),\n",
       " ('church', 0.298653781414032),\n",
       " ('pizza', 0.2966380715370178),\n",
       " ('nightlife', 0.295121431350708)]"
      ]
     },
     "execution_count": 66,
     "metadata": {},
     "output_type": "execute_result"
    }
   ],
   "source": [
    "model.most_similar(\"bar\", topn=20, indexer=indexer)\n"
   ]
  },
  {
   "cell_type": "code",
   "execution_count": 69,
   "metadata": {},
   "outputs": [
    {
     "data": {
      "text/plain": [
       "['sightseeing', 'restaurant', 'museum', 'cheap']"
      ]
     },
     "execution_count": 69,
     "metadata": {},
     "output_type": "execute_result"
    }
   ],
   "source": []
  },
  {
   "cell_type": "code",
   "execution_count": 87,
   "metadata": {},
   "outputs": [
    {
     "ename": "AttributeError",
     "evalue": "'Word2Vec' object has no attribute 'infer_vector'",
     "output_type": "error",
     "traceback": [
      "\u001b[0;31m---------------------------------------------------------------------------\u001b[0m",
      "\u001b[0;31mAttributeError\u001b[0m                            Traceback (most recent call last)",
      "\u001b[0;32m<ipython-input-87-0d387702e284>\u001b[0m in \u001b[0;36m<module>\u001b[0;34m\u001b[0m\n\u001b[0;32m----> 1\u001b[0;31m \u001b[0mmodel\u001b[0m\u001b[0;34m.\u001b[0m\u001b[0minfer_vector\u001b[0m\u001b[0;34m(\u001b[0m\u001b[0mlondon_poi\u001b[0m\u001b[0;34m[\u001b[0m\u001b[0;36m2\u001b[0m\u001b[0;34m]\u001b[0m\u001b[0;34m[\u001b[0m\u001b[0;34m'tags'\u001b[0m\u001b[0;34m]\u001b[0m\u001b[0;34m)\u001b[0m\u001b[0;34m\u001b[0m\u001b[0;34m\u001b[0m\u001b[0m\n\u001b[0m",
      "\u001b[0;31mAttributeError\u001b[0m: 'Word2Vec' object has no attribute 'infer_vector'"
     ]
    }
   ],
   "source": [
    "model.infer_vector(london_poi[2]['tags'])\n"
   ]
  },
  {
   "cell_type": "code",
   "execution_count": null,
   "metadata": {},
   "outputs": [],
   "source": []
  }
 ],
 "metadata": {
  "kernelspec": {
   "display_name": "Python 3",
   "language": "python",
   "name": "python3"
  },
  "language_info": {
   "codemirror_mode": {
    "name": "ipython",
    "version": 3
   },
   "file_extension": ".py",
   "mimetype": "text/x-python",
   "name": "python",
   "nbconvert_exporter": "python",
   "pygments_lexer": "ipython3",
   "version": "3.6.7"
  }
 },
 "nbformat": 4,
 "nbformat_minor": 2
}
