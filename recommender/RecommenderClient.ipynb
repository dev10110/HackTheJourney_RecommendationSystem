{
 "cells": [
  {
   "cell_type": "code",
   "execution_count": 44,
   "metadata": {},
   "outputs": [],
   "source": [
    "import turicreate as tc\n",
    "import pandas as pd\n",
    "import numpy as np\n",
    "import random\n",
    "\n",
    "class RecommenderClient:\n",
    "    def __init__(self,data):\n",
    "        # data is what is returned by Vishnu's client\n",
    "        self.data = data;\n",
    "        \n",
    "        #the ref data is the raw data table\n",
    "        ref_data = self.ref_data = pd.DataFrame.from_dict(data)\n",
    "        self.num_of_choices = len(ref_data);\n",
    "        \n",
    "        #construct data frame that contains only the training categories\n",
    "        model_data = self.model_data = ref_data[['category', 'tags']]\n",
    "        model_data['index'] = model_data.index\n",
    "        \n",
    "        self.categories = self.model_data['category'].unique()\n",
    "        \n",
    "        #create turicreate SFrame\n",
    "        tc_data = self.tc_data = tc.SFrame(model_data)\n",
    "        \n",
    "        #create model\n",
    "        model = self.model = tc.recommender.item_content_recommender.create(tc_data, item_id = 'index', verbose=False)\n",
    "        \n",
    "        \n",
    "    def cold_start(self,k=10):\n",
    "        #k is the number of items to suggest. \n",
    "        #randomly suggests k items\n",
    "        # returns list of indices. \n",
    "        \n",
    "        suggestion_id = [random.randrange(self.num_of_choices) for _ in range(k)]\n",
    "        \n",
    "        return suggestion_id\n",
    "        \n",
    "        \n",
    "    def suggest(self, k = 10, likes = [], dislikes = [], categories = []):\n",
    "        #likes is the list of items that have been liked. \n",
    "        #categories is either a string matching the category, or a list of strings matching the categories\n",
    "        #returns pandas dataframe with index and the score\n",
    "\n",
    "        \n",
    "        #create list of allowed items\n",
    "        if categories  == []:\n",
    "            allowed_index = list(range(self.num_of_choices));\n",
    "        else:\n",
    "            allowed_index = [i for i in range(self.num_of_choices) if self.model_data['category'][i] in categories]\n",
    "            #allowed_items = tc.SFrame(allowed_index)\n",
    "        \n",
    "        recommendations = self.model.recommend_from_interactions(observed_items = likes,\n",
    "                                                                 k=k,\n",
    "                                                                 exclude=None, #dislikes,#tc.SFrame(self.model_data.iloc[dislikes]),\n",
    "                                                                 items=allowed_index,\n",
    "                                                                 new_user_data=None,\n",
    "                                                                 new_item_data=None,\n",
    "                                                                 exclude_known=True,\n",
    "                                                                 diversity=0,\n",
    "                                                                 random_seed=None,\n",
    "                                                                 verbose=False)\n",
    "        \n",
    "        return recommendations"
   ]
  },
  {
   "cell_type": "code",
   "execution_count": 45,
   "metadata": {},
   "outputs": [],
   "source": [
    "import pickle\n",
    "import os\n",
    "os.chdir('../data-import/')\n",
    "if 0:\n",
    "    %run main.py \n",
    "else:\n",
    "    data = pickle.load( open( \"london_poi.pickle\", \"rb\" ) )\n",
    "os.chdir('../recommender/')"
   ]
  },
  {
   "cell_type": "code",
   "execution_count": 46,
   "metadata": {},
   "outputs": [
    {
     "name": "stderr",
     "output_type": "stream",
     "text": [
      "/Users/Devansh/anaconda3/lib/python3.6/site-packages/ipykernel_launcher.py:17: SettingWithCopyWarning: \n",
      "A value is trying to be set on a copy of a slice from a DataFrame.\n",
      "Try using .loc[row_indexer,col_indexer] = value instead\n",
      "\n",
      "See the caveats in the documentation: http://pandas.pydata.org/pandas-docs/stable/indexing.html#indexing-view-versus-copy\n"
     ]
    }
   ],
   "source": [
    "rc = RecommenderClient(data)"
   ]
  },
  {
   "cell_type": "code",
   "execution_count": 47,
   "metadata": {},
   "outputs": [
    {
     "data": {
      "text/plain": [
       "[78, 69, 45, 17, 49, 78, 63, 4, 74, 64]"
      ]
     },
     "execution_count": 47,
     "metadata": {},
     "output_type": "execute_result"
    }
   ],
   "source": [
    "rc.cold_start()"
   ]
  },
  {
   "cell_type": "code",
   "execution_count": 48,
   "metadata": {
    "scrolled": true
   },
   "outputs": [],
   "source": [
    "suggestions = rc.suggest(k  = 10 , likes = [0,], dislikes=[83,64],categories=['RESTAURANT','SHOPPING'])"
   ]
  },
  {
   "cell_type": "code",
   "execution_count": 49,
   "metadata": {},
   "outputs": [
    {
     "data": {
      "text/html": [
       "<div>\n",
       "<style scoped>\n",
       "    .dataframe tbody tr th:only-of-type {\n",
       "        vertical-align: middle;\n",
       "    }\n",
       "\n",
       "    .dataframe tbody tr th {\n",
       "        vertical-align: top;\n",
       "    }\n",
       "\n",
       "    .dataframe thead th {\n",
       "        text-align: right;\n",
       "    }\n",
       "</style>\n",
       "<table border=\"1\" class=\"dataframe\">\n",
       "  <thead>\n",
       "    <tr style=\"text-align: right;\">\n",
       "      <th></th>\n",
       "      <th>category</th>\n",
       "      <th>geoCode</th>\n",
       "      <th>name</th>\n",
       "      <th>subType</th>\n",
       "      <th>tags</th>\n",
       "      <th>type</th>\n",
       "    </tr>\n",
       "  </thead>\n",
       "  <tbody>\n",
       "    <tr>\n",
       "      <th>83</th>\n",
       "      <td>RESTAURANT</td>\n",
       "      <td>{'latitude': 51.494324, 'longitude': -0.173618}</td>\n",
       "      <td>Daquise</td>\n",
       "      <td>POINT_OF_INTEREST</td>\n",
       "      <td>[sightseeing, restaurant]</td>\n",
       "      <td>location</td>\n",
       "    </tr>\n",
       "    <tr>\n",
       "      <th>64</th>\n",
       "      <td>SHOPPING</td>\n",
       "      <td>{'latitude': 51.49227, 'longitude': -0.158959}</td>\n",
       "      <td>Peter Jones</td>\n",
       "      <td>POINT_OF_INTEREST</td>\n",
       "      <td>[sightseeing, shopping]</td>\n",
       "      <td>location</td>\n",
       "    </tr>\n",
       "    <tr>\n",
       "      <th>60</th>\n",
       "      <td>RESTAURANT</td>\n",
       "      <td>{'latitude': 51.51464, 'longitude': -0.157891}</td>\n",
       "      <td>La Porte des Indes</td>\n",
       "      <td>POINT_OF_INTEREST</td>\n",
       "      <td>[sightseeing, restaurant]</td>\n",
       "      <td>location</td>\n",
       "    </tr>\n",
       "    <tr>\n",
       "      <th>51</th>\n",
       "      <td>RESTAURANT</td>\n",
       "      <td>{'latitude': 51.506638, 'longitude': -0.187725}</td>\n",
       "      <td>The Orangery</td>\n",
       "      <td>POINT_OF_INTEREST</td>\n",
       "      <td>[sightseeing, restaurant]</td>\n",
       "      <td>location</td>\n",
       "    </tr>\n",
       "    <tr>\n",
       "      <th>36</th>\n",
       "      <td>RESTAURANT</td>\n",
       "      <td>{'latitude': 51.501553, 'longitude': -0.174984}</td>\n",
       "      <td>Royal Geographical Society</td>\n",
       "      <td>POINT_OF_INTEREST</td>\n",
       "      <td>[sightseeing, restaurant]</td>\n",
       "      <td>location</td>\n",
       "    </tr>\n",
       "    <tr>\n",
       "      <th>33</th>\n",
       "      <td>RESTAURANT</td>\n",
       "      <td>{'latitude': 51.499073, 'longitude': -0.174051}</td>\n",
       "      <td>Ognisko Restaurant</td>\n",
       "      <td>POINT_OF_INTEREST</td>\n",
       "      <td>[sightseeing, restaurant]</td>\n",
       "      <td>location</td>\n",
       "    </tr>\n",
       "    <tr>\n",
       "      <th>13</th>\n",
       "      <td>SHOPPING</td>\n",
       "      <td>{'latitude': 51.50159, 'longitude': -0.15972}</td>\n",
       "      <td>Harvey Nichols</td>\n",
       "      <td>POINT_OF_INTEREST</td>\n",
       "      <td>[sightseeing, shopping]</td>\n",
       "      <td>location</td>\n",
       "    </tr>\n",
       "    <tr>\n",
       "      <th>40</th>\n",
       "      <td>SHOPPING</td>\n",
       "      <td>{'latitude': 51.513874, 'longitude': -0.153936}</td>\n",
       "      <td>Marks &amp; Spencer</td>\n",
       "      <td>POINT_OF_INTEREST</td>\n",
       "      <td>[sightseeing, shopping, clothing]</td>\n",
       "      <td>location</td>\n",
       "    </tr>\n",
       "    <tr>\n",
       "      <th>61</th>\n",
       "      <td>SHOPPING</td>\n",
       "      <td>{'latitude': 51.513615, 'longitude': -0.155719}</td>\n",
       "      <td>Primark</td>\n",
       "      <td>POINT_OF_INTEREST</td>\n",
       "      <td>[sightseeing, shopping, clothing, fashion]</td>\n",
       "      <td>location</td>\n",
       "    </tr>\n",
       "    <tr>\n",
       "      <th>22</th>\n",
       "      <td>RESTAURANT</td>\n",
       "      <td>{'latitude': 51.488823, 'longitude': -0.191904}</td>\n",
       "      <td>The Troubadour</td>\n",
       "      <td>POINT_OF_INTEREST</td>\n",
       "      <td>[sightseeing, restaurant, activities, bar]</td>\n",
       "      <td>location</td>\n",
       "    </tr>\n",
       "  </tbody>\n",
       "</table>\n",
       "</div>"
      ],
      "text/plain": [
       "      category                                          geoCode  \\\n",
       "83  RESTAURANT  {'latitude': 51.494324, 'longitude': -0.173618}   \n",
       "64    SHOPPING   {'latitude': 51.49227, 'longitude': -0.158959}   \n",
       "60  RESTAURANT   {'latitude': 51.51464, 'longitude': -0.157891}   \n",
       "51  RESTAURANT  {'latitude': 51.506638, 'longitude': -0.187725}   \n",
       "36  RESTAURANT  {'latitude': 51.501553, 'longitude': -0.174984}   \n",
       "33  RESTAURANT  {'latitude': 51.499073, 'longitude': -0.174051}   \n",
       "13    SHOPPING    {'latitude': 51.50159, 'longitude': -0.15972}   \n",
       "40    SHOPPING  {'latitude': 51.513874, 'longitude': -0.153936}   \n",
       "61    SHOPPING  {'latitude': 51.513615, 'longitude': -0.155719}   \n",
       "22  RESTAURANT  {'latitude': 51.488823, 'longitude': -0.191904}   \n",
       "\n",
       "                          name            subType  \\\n",
       "83                     Daquise  POINT_OF_INTEREST   \n",
       "64                 Peter Jones  POINT_OF_INTEREST   \n",
       "60          La Porte des Indes  POINT_OF_INTEREST   \n",
       "51                The Orangery  POINT_OF_INTEREST   \n",
       "36  Royal Geographical Society  POINT_OF_INTEREST   \n",
       "33          Ognisko Restaurant  POINT_OF_INTEREST   \n",
       "13              Harvey Nichols  POINT_OF_INTEREST   \n",
       "40             Marks & Spencer  POINT_OF_INTEREST   \n",
       "61                     Primark  POINT_OF_INTEREST   \n",
       "22              The Troubadour  POINT_OF_INTEREST   \n",
       "\n",
       "                                          tags      type  \n",
       "83                   [sightseeing, restaurant]  location  \n",
       "64                     [sightseeing, shopping]  location  \n",
       "60                   [sightseeing, restaurant]  location  \n",
       "51                   [sightseeing, restaurant]  location  \n",
       "36                   [sightseeing, restaurant]  location  \n",
       "33                   [sightseeing, restaurant]  location  \n",
       "13                     [sightseeing, shopping]  location  \n",
       "40           [sightseeing, shopping, clothing]  location  \n",
       "61  [sightseeing, shopping, clothing, fashion]  location  \n",
       "22  [sightseeing, restaurant, activities, bar]  location  "
      ]
     },
     "execution_count": 49,
     "metadata": {},
     "output_type": "execute_result"
    }
   ],
   "source": [
    "rc.ref_data.iloc[list(suggestions['index'])]"
   ]
  },
  {
   "cell_type": "code",
   "execution_count": 7,
   "metadata": {},
   "outputs": [
    {
     "data": {
      "text/plain": [
       "array(['SIGHTS', 'RESTAURANT', 'SHOPPING', 'NIGHTLIFE'], dtype=object)"
      ]
     },
     "execution_count": 7,
     "metadata": {},
     "output_type": "execute_result"
    }
   ],
   "source": [
    "rc.model_data['category'].unique()"
   ]
  },
  {
   "cell_type": "code",
   "execution_count": 8,
   "metadata": {},
   "outputs": [
    {
     "ename": "ValueError",
     "evalue": "The truth value of a Series is ambiguous. Use a.empty, a.bool(), a.item(), a.any() or a.all().",
     "output_type": "error",
     "traceback": [
      "\u001b[0;31m---------------------------------------------------------------------------\u001b[0m",
      "\u001b[0;31mValueError\u001b[0m                                Traceback (most recent call last)",
      "\u001b[0;32m<ipython-input-8-0a560c370c0e>\u001b[0m in \u001b[0;36m<module>\u001b[0;34m\u001b[0m\n\u001b[0;32m----> 1\u001b[0;31m \u001b[0mrc\u001b[0m\u001b[0;34m.\u001b[0m\u001b[0mmodel_data\u001b[0m\u001b[0;34m[\u001b[0m\u001b[0;34m(\u001b[0m\u001b[0mrc\u001b[0m\u001b[0;34m.\u001b[0m\u001b[0mmodel_data\u001b[0m\u001b[0;34m[\u001b[0m\u001b[0;34m'category'\u001b[0m\u001b[0;34m]\u001b[0m \u001b[0;32min\u001b[0m \u001b[0;34m[\u001b[0m\u001b[0;34m'SIGHTS'\u001b[0m\u001b[0;34m,\u001b[0m \u001b[0;34m'SHOPPING'\u001b[0m\u001b[0;34m]\u001b[0m\u001b[0;34m)\u001b[0m\u001b[0;34m]\u001b[0m\u001b[0;34m\u001b[0m\u001b[0;34m\u001b[0m\u001b[0m\n\u001b[0m",
      "\u001b[0;32m~/anaconda3/lib/python3.6/site-packages/pandas/core/generic.py\u001b[0m in \u001b[0;36m__nonzero__\u001b[0;34m(self)\u001b[0m\n\u001b[1;32m   1476\u001b[0m         raise ValueError(\"The truth value of a {0} is ambiguous. \"\n\u001b[1;32m   1477\u001b[0m                          \u001b[0;34m\"Use a.empty, a.bool(), a.item(), a.any() or a.all().\"\u001b[0m\u001b[0;34m\u001b[0m\u001b[0;34m\u001b[0m\u001b[0m\n\u001b[0;32m-> 1478\u001b[0;31m                          .format(self.__class__.__name__))\n\u001b[0m\u001b[1;32m   1479\u001b[0m \u001b[0;34m\u001b[0m\u001b[0m\n\u001b[1;32m   1480\u001b[0m     \u001b[0m__bool__\u001b[0m \u001b[0;34m=\u001b[0m \u001b[0m__nonzero__\u001b[0m\u001b[0;34m\u001b[0m\u001b[0;34m\u001b[0m\u001b[0m\n",
      "\u001b[0;31mValueError\u001b[0m: The truth value of a Series is ambiguous. Use a.empty, a.bool(), a.item(), a.any() or a.all()."
     ]
    }
   ],
   "source": [
    "rc.model_data[(rc.model_data['category'] in ['SIGHTS', 'SHOPPING'])]"
   ]
  },
  {
   "cell_type": "code",
   "execution_count": null,
   "metadata": {},
   "outputs": [],
   "source": [
    "any(rc.model_data['category']) in ['SIGHTS', \"SHOPPING\"]"
   ]
  },
  {
   "cell_type": "code",
   "execution_count": null,
   "metadata": {},
   "outputs": [],
   "source": [
    "allowed_index = [i for i in range(rc.num_of_choices) if rc.model_data['category'][i] in ['SIGHTS', \"SHOPPING\"]]"
   ]
  },
  {
   "cell_type": "code",
   "execution_count": null,
   "metadata": {},
   "outputs": [],
   "source": [
    "allowed_index"
   ]
  },
  {
   "cell_type": "code",
   "execution_count": null,
   "metadata": {},
   "outputs": [],
   "source": [
    "rc.model_data['category']"
   ]
  },
  {
   "cell_type": "code",
   "execution_count": null,
   "metadata": {},
   "outputs": [],
   "source": [
    "rc.tc_data"
   ]
  },
  {
   "cell_type": "code",
   "execution_count": null,
   "metadata": {},
   "outputs": [],
   "source": [
    "list(range(4))"
   ]
  },
  {
   "cell_type": "code",
   "execution_count": 20,
   "metadata": {},
   "outputs": [],
   "source": [
    "disallowed=[]"
   ]
  },
  {
   "cell_type": "code",
   "execution_count": 21,
   "metadata": {},
   "outputs": [
    {
     "data": {
      "text/html": [
       "<div style=\"max-height:1000px;max-width:1500px;overflow:auto;\"><table frame=\"box\" rules=\"cols\">\n",
       "    <tr>\n",
       "        <th style=\"padding-left: 1em; padding-right: 1em; text-align: center\">category</th>\n",
       "        <th style=\"padding-left: 1em; padding-right: 1em; text-align: center\">tags</th>\n",
       "        <th style=\"padding-left: 1em; padding-right: 1em; text-align: center\">index</th>\n",
       "    </tr>\n",
       "</table>\n",
       "[0 rows x 3 columns]<br/>\n",
       "</div>"
      ],
      "text/plain": [
       "Columns:\n",
       "\tcategory\tfloat\n",
       "\ttags\tfloat\n",
       "\tindex\tint\n",
       "\n",
       "Rows: 0\n",
       "\n",
       "Data:\n",
       "\t[]"
      ]
     },
     "execution_count": 21,
     "metadata": {},
     "output_type": "execute_result"
    }
   ],
   "source": [
    "tc.SFrame(rc.model_data.iloc[disallowed])"
   ]
  },
  {
   "cell_type": "code",
   "execution_count": 15,
   "metadata": {},
   "outputs": [
    {
     "data": {
      "text/html": [
       "<div>\n",
       "<style scoped>\n",
       "    .dataframe tbody tr th:only-of-type {\n",
       "        vertical-align: middle;\n",
       "    }\n",
       "\n",
       "    .dataframe tbody tr th {\n",
       "        vertical-align: top;\n",
       "    }\n",
       "\n",
       "    .dataframe thead th {\n",
       "        text-align: right;\n",
       "    }\n",
       "</style>\n",
       "<table border=\"1\" class=\"dataframe\">\n",
       "  <thead>\n",
       "    <tr style=\"text-align: right;\">\n",
       "      <th></th>\n",
       "      <th>category</th>\n",
       "      <th>tags</th>\n",
       "      <th>index</th>\n",
       "    </tr>\n",
       "  </thead>\n",
       "  <tbody>\n",
       "    <tr>\n",
       "      <th>5</th>\n",
       "      <td>SIGHTS</td>\n",
       "      <td>[sightseeing, museum]</td>\n",
       "      <td>5</td>\n",
       "    </tr>\n",
       "    <tr>\n",
       "      <th>6</th>\n",
       "      <td>RESTAURANT</td>\n",
       "      <td>[restaurant, nightlife]</td>\n",
       "      <td>6</td>\n",
       "    </tr>\n",
       "  </tbody>\n",
       "</table>\n",
       "</div>"
      ],
      "text/plain": [
       "     category                     tags  index\n",
       "5      SIGHTS    [sightseeing, museum]      5\n",
       "6  RESTAURANT  [restaurant, nightlife]      6"
      ]
     },
     "execution_count": 15,
     "metadata": {},
     "output_type": "execute_result"
    }
   ],
   "source": [
    "rc.model_data.iloc[[5, 6]]"
   ]
  },
  {
   "cell_type": "code",
   "execution_count": null,
   "metadata": {},
   "outputs": [],
   "source": []
  }
 ],
 "metadata": {
  "kernelspec": {
   "display_name": "Python 3",
   "language": "python",
   "name": "python3"
  },
  "language_info": {
   "codemirror_mode": {
    "name": "ipython",
    "version": 3
   },
   "file_extension": ".py",
   "mimetype": "text/x-python",
   "name": "python",
   "nbconvert_exporter": "python",
   "pygments_lexer": "ipython3",
   "version": "3.6.7"
  }
 },
 "nbformat": 4,
 "nbformat_minor": 2
}
