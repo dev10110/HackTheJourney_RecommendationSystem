{
 "cells": [
  {
   "cell_type": "code",
   "execution_count": 53,
   "metadata": {},
   "outputs": [],
   "source": [
    "import turicreate as tc\n",
    "import pandas as pd\n",
    "import numpy as np\n",
    "import random\n",
    "import os\n",
    "os.chdir('../data-import/')\n",
    "from AmadeusClient import AmadeusClient\n",
    "\n",
    "am = AmadeusClient()\n",
    "\n",
    "os.chdir('../recommender/')\n",
    "\n",
    "\n",
    "class RecommenderClient:\n",
    "    def __init__(self):\n",
    "        # data is what is returned by Vishnu's client\n",
    "        self.data = [];\n",
    "        self.cities_added = set();\n",
    "        \n",
    "    def add_data(self,newdata, city = '', create_model=True):\n",
    "        \n",
    "        city = city.lower()\n",
    "        \n",
    "        if city in self.cities_added:\n",
    "            return\n",
    "        \n",
    "        self.data += newdata\n",
    "        \n",
    "        #the ref data is the raw data table\n",
    "        ref_data = self.ref_data = pd.DataFrame.from_dict(self.data)\n",
    "        self.num_of_choices = len(ref_data);\n",
    "        \n",
    "        #if city is not an empty string, add the name of the city to the list of cities.\n",
    "        if not city:\n",
    "            self.cities_added.add('city')\n",
    "        \n",
    "        if create_model:\n",
    "            self.create_model()\n",
    "        return\n",
    "        \n",
    "        \n",
    "    def create_model(self):\n",
    "        \n",
    "        #construct data frame that contains only the training categories\n",
    "        model_data = self.model_data = self.ref_data[['category', 'tags','city']]\n",
    "        model_data['index'] = model_data.index\n",
    "        \n",
    "        #update list of categories\n",
    "        self.categories = self.model_data['category'].unique()\n",
    "        \n",
    "        #create turicreate SFrame\n",
    "        tc_data = self.tc_data = tc.SFrame(model_data)\n",
    "        \n",
    "        #create model\n",
    "        self.model = tc.recommender.item_content_recommender.create(tc_data, item_id = 'index', verbose=False)\n",
    "        \n",
    "        return\n",
    "        \n",
    "        \n",
    "    def cold_start(self,k=10):\n",
    "        #k is the number of items to suggest. \n",
    "        #randomly suggests k items\n",
    "        # returns list of indices. \n",
    "        \n",
    "        suggestion_id = random.sample(list(range(self.num_of_choices)), k=k)\n",
    "        \n",
    "        return suggestion_id\n",
    "        \n",
    "        \n",
    "    def suggest(self, k = 10, likes = [], dislikes = [], categories = [], cities = [], diversity=2):\n",
    "        #likes is the list of items that have been liked. \n",
    "        #categories is either a string matching the category, or a list of strings matching the categories\n",
    "        #returns pandas dataframe with index and the score\n",
    "\n",
    "        \n",
    "        #create list of allowed items based on categories\n",
    "        if categories  == []:\n",
    "            allowed_index_cat = list(range(self.num_of_choices));\n",
    "        else:\n",
    "            allowed_index_cat = [i for i in range(self.num_of_choices) if self.model_data['category'][i] in categories]\n",
    "            #allowed_items = tc.SFrame(allowed_index)\n",
    "        \n",
    "        #create list of allowed items based on city\n",
    "        if cities == []:\n",
    "            allowed_index_city = list(range(self.num_of_choices))\n",
    "        else:\n",
    "            allowed_index_city = [i for i in range(self.num_of_choices) if self.model_data['city'][i] in cities]\n",
    "        \n",
    "        #take intersection\n",
    "        allowed_index = list(set(allowed_index_cat) & set(allowed_index_city)) \n",
    "        \n",
    "        recommendations = self.model.recommend_from_interactions(observed_items = likes,\n",
    "                                                                 k=k,\n",
    "                                                                 exclude=None, #dislikes,#tc.SFrame(self.model_data.iloc[dislikes]),\n",
    "                                                                 items=allowed_index,\n",
    "                                                                 new_user_data=None,\n",
    "                                                                 new_item_data=None,\n",
    "                                                                 exclude_known=True,\n",
    "                                                                 diversity=diversity,\n",
    "                                                                 random_seed=None,\n",
    "                                                                 verbose=False)\n",
    "        \n",
    "        return recommendations\n",
    "    \n",
    "    def recs2data(self,recommendations, df = True):\n",
    "        #recommendations is a pandas frame including the indicies\n",
    "        #returns the dictionary of data that is desired\n",
    "        #if df is true, it returns the data frame, or else it returns the dictionary\n",
    "        \n",
    "        indices = list(recommendations['index'])\n",
    "        recdf = self.ref_data.iloc[indices]\n",
    "        recdf['score'] = recommendations['score']\n",
    "        \n",
    "        if df:\n",
    "            \n",
    "            return recdf\n",
    "        \n",
    "        else:\n",
    "            return recdf.to_dict()\n",
    "        \n",
    "    def ind2data(self,index, df = True):\n",
    "        #converts list of indices to recommdation data\n",
    "        if df:\n",
    "            return self.ref_data.iloc[index]\n",
    "        else:\n",
    "            return [self.data[i] for i in index]"
   ]
  },
  {
   "cell_type": "code",
   "execution_count": null,
   "metadata": {},
   "outputs": [],
   "source": []
  },
  {
   "cell_type": "code",
   "execution_count": 54,
   "metadata": {
    "scrolled": true
   },
   "outputs": [
    {
     "name": "stdout",
     "output_type": "stream",
     "text": [
      "Loaded city: Paris, with 20 POIs\n",
      "Loaded city: Rome, with 20 POIs\n",
      "Loaded city: Venice, with 20 POIs\n",
      "Loaded city: London, with 20 POIs\n",
      "Loaded city: Barcelona, with 20 POIs\n",
      "Loaded city: Florence, with 20 POIs\n",
      "Loaded city: Prague, with 20 POIs\n",
      "Loaded city: Madrid, with 0 POIs\n",
      "Loaded city: Vienna, with 20 POIs\n",
      "Loaded city: Istanbul, with 20 POIs\n",
      "Loaded city: Amsterdam, with 20 POIs\n"
     ]
    }
   ],
   "source": [
    "import pickle\n",
    "import pandas\n",
    "import os\n",
    "\n",
    "os.chdir('../data-import/')\n",
    "from AmadeusClient import AmadeusClient\n",
    "\n",
    "am = AmadeusClient()\n",
    "\n",
    "recData = am.build_default_data()\n",
    "\n"
   ]
  },
  {
   "cell_type": "code",
   "execution_count": null,
   "metadata": {},
   "outputs": [],
   "source": []
  },
  {
   "cell_type": "code",
   "execution_count": null,
   "metadata": {},
   "outputs": [],
   "source": []
  },
  {
   "cell_type": "code",
   "execution_count": 55,
   "metadata": {},
   "outputs": [
    {
     "name": "stderr",
     "output_type": "stream",
     "text": [
      "/Users/Devansh/anaconda3/lib/python3.6/site-packages/ipykernel_launcher.py:46: SettingWithCopyWarning: \n",
      "A value is trying to be set on a copy of a slice from a DataFrame.\n",
      "Try using .loc[row_indexer,col_indexer] = value instead\n",
      "\n",
      "See the caveats in the documentation: http://pandas.pydata.org/pandas-docs/stable/indexing.html#indexing-view-versus-copy\n"
     ]
    },
    {
     "data": {
      "text/html": [
       "<div>\n",
       "<style scoped>\n",
       "    .dataframe tbody tr th:only-of-type {\n",
       "        vertical-align: middle;\n",
       "    }\n",
       "\n",
       "    .dataframe tbody tr th {\n",
       "        vertical-align: top;\n",
       "    }\n",
       "\n",
       "    .dataframe thead th {\n",
       "        text-align: right;\n",
       "    }\n",
       "</style>\n",
       "<table border=\"1\" class=\"dataframe\">\n",
       "  <thead>\n",
       "    <tr style=\"text-align: right;\">\n",
       "      <th></th>\n",
       "      <th>category</th>\n",
       "      <th>city</th>\n",
       "      <th>geoCode</th>\n",
       "      <th>name</th>\n",
       "      <th>subType</th>\n",
       "      <th>tags</th>\n",
       "      <th>type</th>\n",
       "    </tr>\n",
       "  </thead>\n",
       "  <tbody>\n",
       "    <tr>\n",
       "      <th>120</th>\n",
       "      <td>RESTAURANT</td>\n",
       "      <td>Prague</td>\n",
       "      <td>{'latitude': 50.089848, 'longitude': 14.432865}</td>\n",
       "      <td>Café Imperial</td>\n",
       "      <td>POINT_OF_INTEREST</td>\n",
       "      <td>[sightseeing, restaurant]</td>\n",
       "      <td>location</td>\n",
       "    </tr>\n",
       "    <tr>\n",
       "      <th>138</th>\n",
       "      <td>SIGHTS</td>\n",
       "      <td>Prague</td>\n",
       "      <td>{'latitude': 50.08972, 'longitude': 14.417222}</td>\n",
       "      <td>Old Jewish Cemetery</td>\n",
       "      <td>POINT_OF_INTEREST</td>\n",
       "      <td>[sightseeing, museum, sights]</td>\n",
       "      <td>location</td>\n",
       "    </tr>\n",
       "    <tr>\n",
       "      <th>104</th>\n",
       "      <td>SIGHTS</td>\n",
       "      <td>Florence</td>\n",
       "      <td>{'latitude': 43.763065, 'longitude': 11.264667}</td>\n",
       "      <td>Piazzale Michelangelo</td>\n",
       "      <td>POINT_OF_INTEREST</td>\n",
       "      <td>[sightseeing, restaurant, sights]</td>\n",
       "      <td>location</td>\n",
       "    </tr>\n",
       "    <tr>\n",
       "      <th>61</th>\n",
       "      <td>SIGHTS</td>\n",
       "      <td>London</td>\n",
       "      <td>{'latitude': 51.50078, 'longitude': -0.124601}</td>\n",
       "      <td>Big Ben</td>\n",
       "      <td>POINT_OF_INTEREST</td>\n",
       "      <td>[sightseeing, restaurant, sights, landmark, hi...</td>\n",
       "      <td>location</td>\n",
       "    </tr>\n",
       "    <tr>\n",
       "      <th>108</th>\n",
       "      <td>RESTAURANT</td>\n",
       "      <td>Florence</td>\n",
       "      <td>{'latitude': 43.77504, 'longitude': 11.25306}</td>\n",
       "      <td>Cappelle Medicee</td>\n",
       "      <td>POINT_OF_INTEREST</td>\n",
       "      <td>[restaurant, church, museum]</td>\n",
       "      <td>location</td>\n",
       "    </tr>\n",
       "    <tr>\n",
       "      <th>180</th>\n",
       "      <td>SIGHTS</td>\n",
       "      <td>Amsterdam</td>\n",
       "      <td>{'latitude': 52.37522, 'longitude': 4.883956}</td>\n",
       "      <td>Anne Frank House</td>\n",
       "      <td>POINT_OF_INTEREST</td>\n",
       "      <td>[sightseeing, museum, sights, historicplace]</td>\n",
       "      <td>location</td>\n",
       "    </tr>\n",
       "    <tr>\n",
       "      <th>84</th>\n",
       "      <td>RESTAURANT</td>\n",
       "      <td>Barcelona</td>\n",
       "      <td>{'latitude': 41.38507, 'longitude': 2.16799}</td>\n",
       "      <td>Teresa Carles</td>\n",
       "      <td>POINT_OF_INTEREST</td>\n",
       "      <td>[restaurant, vegetarian]</td>\n",
       "      <td>location</td>\n",
       "    </tr>\n",
       "    <tr>\n",
       "      <th>49</th>\n",
       "      <td>SIGHTS</td>\n",
       "      <td>Venice</td>\n",
       "      <td>{'latitude': 45.43378, 'longitude': 12.339088}</td>\n",
       "      <td>Bridge of Sighs</td>\n",
       "      <td>POINT_OF_INTEREST</td>\n",
       "      <td>[sightseeing, sights, historicplace, historic]</td>\n",
       "      <td>location</td>\n",
       "    </tr>\n",
       "    <tr>\n",
       "      <th>37</th>\n",
       "      <td>RESTAURANT</td>\n",
       "      <td>Rome</td>\n",
       "      <td>{'latitude': 41.9008, 'longitude': 12.484928}</td>\n",
       "      <td>Piccolo Arancio</td>\n",
       "      <td>POINT_OF_INTEREST</td>\n",
       "      <td>[restaurant]</td>\n",
       "      <td>location</td>\n",
       "    </tr>\n",
       "    <tr>\n",
       "      <th>13</th>\n",
       "      <td>RESTAURANT</td>\n",
       "      <td>Paris</td>\n",
       "      <td>{'latitude': 48.84991, 'longitude': 2.355101}</td>\n",
       "      <td>La Tour d'Argent</td>\n",
       "      <td>POINT_OF_INTEREST</td>\n",
       "      <td>[sightseeing, restaurant]</td>\n",
       "      <td>location</td>\n",
       "    </tr>\n",
       "    <tr>\n",
       "      <th>3</th>\n",
       "      <td>SIGHTS</td>\n",
       "      <td>Paris</td>\n",
       "      <td>{'latitude': 48.855614, 'longitude': 2.365553}</td>\n",
       "      <td>Place des Vosges</td>\n",
       "      <td>POINT_OF_INTEREST</td>\n",
       "      <td>[sightseeing, sights, landmark, historicplace,...</td>\n",
       "      <td>location</td>\n",
       "    </tr>\n",
       "    <tr>\n",
       "      <th>85</th>\n",
       "      <td>RESTAURANT</td>\n",
       "      <td>Barcelona</td>\n",
       "      <td>{'latitude': 41.38175, 'longitude': 2.18342}</td>\n",
       "      <td>Can Paixano</td>\n",
       "      <td>POINT_OF_INTEREST</td>\n",
       "      <td>[restaurant, cheap, tapas]</td>\n",
       "      <td>location</td>\n",
       "    </tr>\n",
       "    <tr>\n",
       "      <th>153</th>\n",
       "      <td>SIGHTS</td>\n",
       "      <td>Vienna</td>\n",
       "      <td>{'latitude': 48.202587, 'longitude': 16.35905}</td>\n",
       "      <td>Leopold Museum</td>\n",
       "      <td>POINT_OF_INTEREST</td>\n",
       "      <td>[sightseeing, restaurant, museum, sights]</td>\n",
       "      <td>location</td>\n",
       "    </tr>\n",
       "    <tr>\n",
       "      <th>92</th>\n",
       "      <td>RESTAURANT</td>\n",
       "      <td>Barcelona</td>\n",
       "      <td>{'latitude': 41.37397, 'longitude': 2.16556}</td>\n",
       "      <td>Quimet &amp; Quimet</td>\n",
       "      <td>POINT_OF_INTEREST</td>\n",
       "      <td>[sightseeing, restaurant, bar, nightlife, tapas]</td>\n",
       "      <td>location</td>\n",
       "    </tr>\n",
       "    <tr>\n",
       "      <th>185</th>\n",
       "      <td>SIGHTS</td>\n",
       "      <td>Amsterdam</td>\n",
       "      <td>{'latitude': 52.35787, 'longitude': 4.8915}</td>\n",
       "      <td>Heineken Experience</td>\n",
       "      <td>POINT_OF_INTEREST</td>\n",
       "      <td>[sightseeing, museum, brewery, landmark]</td>\n",
       "      <td>location</td>\n",
       "    </tr>\n",
       "    <tr>\n",
       "      <th>69</th>\n",
       "      <td>RESTAURANT</td>\n",
       "      <td>London</td>\n",
       "      <td>{'latitude': 51.51078, 'longitude': -0.123083}</td>\n",
       "      <td>Rules</td>\n",
       "      <td>POINT_OF_INTEREST</td>\n",
       "      <td>[restaurant, bar]</td>\n",
       "      <td>location</td>\n",
       "    </tr>\n",
       "    <tr>\n",
       "      <th>149</th>\n",
       "      <td>SIGHTS</td>\n",
       "      <td>Vienna</td>\n",
       "      <td>{'latitude': 48.205215, 'longitude': 16.359842}</td>\n",
       "      <td>Naturhistorisches Museum</td>\n",
       "      <td>POINT_OF_INTEREST</td>\n",
       "      <td>[sightseeing, restaurant, museum, sights]</td>\n",
       "      <td>location</td>\n",
       "    </tr>\n",
       "    <tr>\n",
       "      <th>31</th>\n",
       "      <td>RESTAURANT</td>\n",
       "      <td>Rome</td>\n",
       "      <td>{'latitude': 41.900963, 'longitude': 12.499965}</td>\n",
       "      <td>Stazione Termini</td>\n",
       "      <td>POINT_OF_INTEREST</td>\n",
       "      <td>[restaurant, transport, train, trainstation]</td>\n",
       "      <td>location</td>\n",
       "    </tr>\n",
       "    <tr>\n",
       "      <th>184</th>\n",
       "      <td>RESTAURANT</td>\n",
       "      <td>Amsterdam</td>\n",
       "      <td>{'latitude': 52.3551, 'longitude': 4.89099}</td>\n",
       "      <td>De Albert Cuypmarkt</td>\n",
       "      <td>POINT_OF_INTEREST</td>\n",
       "      <td>[sightseeing, restaurant, landmark]</td>\n",
       "      <td>location</td>\n",
       "    </tr>\n",
       "    <tr>\n",
       "      <th>6</th>\n",
       "      <td>SHOPPING</td>\n",
       "      <td>Paris</td>\n",
       "      <td>{'latitude': 48.852657, 'longitude': 2.346962}</td>\n",
       "      <td>Shakespeare and Company</td>\n",
       "      <td>POINT_OF_INTEREST</td>\n",
       "      <td>[shopping, attraction, activities, library]</td>\n",
       "      <td>location</td>\n",
       "    </tr>\n",
       "    <tr>\n",
       "      <th>178</th>\n",
       "      <td>RESTAURANT</td>\n",
       "      <td>Istanbul</td>\n",
       "      <td>{'latitude': 41.008156, 'longitude': 28.977497}</td>\n",
       "      <td>Dubb Indian Restaurant</td>\n",
       "      <td>POINT_OF_INTEREST</td>\n",
       "      <td>[restaurant, vegetarian]</td>\n",
       "      <td>location</td>\n",
       "    </tr>\n",
       "    <tr>\n",
       "      <th>136</th>\n",
       "      <td>RESTAURANT</td>\n",
       "      <td>Prague</td>\n",
       "      <td>{'latitude': 50.085323, 'longitude': 14.42018}</td>\n",
       "      <td>AnonymouS Bar</td>\n",
       "      <td>POINT_OF_INTEREST</td>\n",
       "      <td>[restaurant, bar, club, nightlife]</td>\n",
       "      <td>location</td>\n",
       "    </tr>\n",
       "    <tr>\n",
       "      <th>175</th>\n",
       "      <td>SIGHTS</td>\n",
       "      <td>Istanbul</td>\n",
       "      <td>{'latitude': 41.012604, 'longitude': 28.961838}</td>\n",
       "      <td>Istanbul University</td>\n",
       "      <td>POINT_OF_INTEREST</td>\n",
       "      <td>[sightseeing, sights]</td>\n",
       "      <td>location</td>\n",
       "    </tr>\n",
       "    <tr>\n",
       "      <th>129</th>\n",
       "      <td>RESTAURANT</td>\n",
       "      <td>Prague</td>\n",
       "      <td>{'latitude': 50.07891, 'longitude': 14.41692}</td>\n",
       "      <td>U Fleků</td>\n",
       "      <td>POINT_OF_INTEREST</td>\n",
       "      <td>[sightseeing, restaurant]</td>\n",
       "      <td>location</td>\n",
       "    </tr>\n",
       "    <tr>\n",
       "      <th>162</th>\n",
       "      <td>SIGHTS</td>\n",
       "      <td>Istanbul</td>\n",
       "      <td>{'latitude': 41.02584, 'longitude': 28.974459}</td>\n",
       "      <td>Galata Tower</td>\n",
       "      <td>POINT_OF_INTEREST</td>\n",
       "      <td>[sightseeing, museum, sights, landmark]</td>\n",
       "      <td>location</td>\n",
       "    </tr>\n",
       "    <tr>\n",
       "      <th>76</th>\n",
       "      <td>RESTAURANT</td>\n",
       "      <td>London</td>\n",
       "      <td>{'latitude': 51.505585, 'longitude': -0.150255}</td>\n",
       "      <td>Galvin at Windows</td>\n",
       "      <td>POINT_OF_INTEREST</td>\n",
       "      <td>[sightseeing, restaurant, bar, moderncuisine]</td>\n",
       "      <td>location</td>\n",
       "    </tr>\n",
       "    <tr>\n",
       "      <th>7</th>\n",
       "      <td>RESTAURANT</td>\n",
       "      <td>Paris</td>\n",
       "      <td>{'latitude': 48.8575, 'longitude': 2.35908}</td>\n",
       "      <td>L'As du Fallafel</td>\n",
       "      <td>POINT_OF_INTEREST</td>\n",
       "      <td>[restaurant, vegetarian, fastfood, sandwich]</td>\n",
       "      <td>location</td>\n",
       "    </tr>\n",
       "    <tr>\n",
       "      <th>163</th>\n",
       "      <td>SIGHTS</td>\n",
       "      <td>Istanbul</td>\n",
       "      <td>{'latitude': 41.01152, 'longitude': 28.983377}</td>\n",
       "      <td>Topkapı Sarayı Müzesi</td>\n",
       "      <td>POINT_OF_INTEREST</td>\n",
       "      <td>[museum, sights, landmark, historicplace, palace]</td>\n",
       "      <td>location</td>\n",
       "    </tr>\n",
       "    <tr>\n",
       "      <th>60</th>\n",
       "      <td>SIGHTS</td>\n",
       "      <td>London</td>\n",
       "      <td>{'latitude': 51.499447, 'longitude': -0.128121}</td>\n",
       "      <td>Westminster Abbey</td>\n",
       "      <td>POINT_OF_INTEREST</td>\n",
       "      <td>[sightseeing, church, temple, sights, landmark]</td>\n",
       "      <td>location</td>\n",
       "    </tr>\n",
       "    <tr>\n",
       "      <th>8</th>\n",
       "      <td>SIGHTS</td>\n",
       "      <td>Paris</td>\n",
       "      <td>{'latitude': 48.85492, 'longitude': 2.34523}</td>\n",
       "      <td>Sainte Chapelle</td>\n",
       "      <td>POINT_OF_INTEREST</td>\n",
       "      <td>[sightseeing, church, temple, landmark]</td>\n",
       "      <td>location</td>\n",
       "    </tr>\n",
       "  </tbody>\n",
       "</table>\n",
       "</div>"
      ],
      "text/plain": [
       "       category       city                                          geoCode  \\\n",
       "120  RESTAURANT     Prague  {'latitude': 50.089848, 'longitude': 14.432865}   \n",
       "138      SIGHTS     Prague   {'latitude': 50.08972, 'longitude': 14.417222}   \n",
       "104      SIGHTS   Florence  {'latitude': 43.763065, 'longitude': 11.264667}   \n",
       "61       SIGHTS     London   {'latitude': 51.50078, 'longitude': -0.124601}   \n",
       "108  RESTAURANT   Florence    {'latitude': 43.77504, 'longitude': 11.25306}   \n",
       "180      SIGHTS  Amsterdam    {'latitude': 52.37522, 'longitude': 4.883956}   \n",
       "84   RESTAURANT  Barcelona     {'latitude': 41.38507, 'longitude': 2.16799}   \n",
       "49       SIGHTS     Venice   {'latitude': 45.43378, 'longitude': 12.339088}   \n",
       "37   RESTAURANT       Rome    {'latitude': 41.9008, 'longitude': 12.484928}   \n",
       "13   RESTAURANT      Paris    {'latitude': 48.84991, 'longitude': 2.355101}   \n",
       "3        SIGHTS      Paris   {'latitude': 48.855614, 'longitude': 2.365553}   \n",
       "85   RESTAURANT  Barcelona     {'latitude': 41.38175, 'longitude': 2.18342}   \n",
       "153      SIGHTS     Vienna   {'latitude': 48.202587, 'longitude': 16.35905}   \n",
       "92   RESTAURANT  Barcelona     {'latitude': 41.37397, 'longitude': 2.16556}   \n",
       "185      SIGHTS  Amsterdam      {'latitude': 52.35787, 'longitude': 4.8915}   \n",
       "69   RESTAURANT     London   {'latitude': 51.51078, 'longitude': -0.123083}   \n",
       "149      SIGHTS     Vienna  {'latitude': 48.205215, 'longitude': 16.359842}   \n",
       "31   RESTAURANT       Rome  {'latitude': 41.900963, 'longitude': 12.499965}   \n",
       "184  RESTAURANT  Amsterdam      {'latitude': 52.3551, 'longitude': 4.89099}   \n",
       "6      SHOPPING      Paris   {'latitude': 48.852657, 'longitude': 2.346962}   \n",
       "178  RESTAURANT   Istanbul  {'latitude': 41.008156, 'longitude': 28.977497}   \n",
       "136  RESTAURANT     Prague   {'latitude': 50.085323, 'longitude': 14.42018}   \n",
       "175      SIGHTS   Istanbul  {'latitude': 41.012604, 'longitude': 28.961838}   \n",
       "129  RESTAURANT     Prague    {'latitude': 50.07891, 'longitude': 14.41692}   \n",
       "162      SIGHTS   Istanbul   {'latitude': 41.02584, 'longitude': 28.974459}   \n",
       "76   RESTAURANT     London  {'latitude': 51.505585, 'longitude': -0.150255}   \n",
       "7    RESTAURANT      Paris      {'latitude': 48.8575, 'longitude': 2.35908}   \n",
       "163      SIGHTS   Istanbul   {'latitude': 41.01152, 'longitude': 28.983377}   \n",
       "60       SIGHTS     London  {'latitude': 51.499447, 'longitude': -0.128121}   \n",
       "8        SIGHTS      Paris     {'latitude': 48.85492, 'longitude': 2.34523}   \n",
       "\n",
       "                         name            subType  \\\n",
       "120             Café Imperial  POINT_OF_INTEREST   \n",
       "138       Old Jewish Cemetery  POINT_OF_INTEREST   \n",
       "104     Piazzale Michelangelo  POINT_OF_INTEREST   \n",
       "61                    Big Ben  POINT_OF_INTEREST   \n",
       "108          Cappelle Medicee  POINT_OF_INTEREST   \n",
       "180          Anne Frank House  POINT_OF_INTEREST   \n",
       "84              Teresa Carles  POINT_OF_INTEREST   \n",
       "49            Bridge of Sighs  POINT_OF_INTEREST   \n",
       "37            Piccolo Arancio  POINT_OF_INTEREST   \n",
       "13           La Tour d'Argent  POINT_OF_INTEREST   \n",
       "3            Place des Vosges  POINT_OF_INTEREST   \n",
       "85                Can Paixano  POINT_OF_INTEREST   \n",
       "153            Leopold Museum  POINT_OF_INTEREST   \n",
       "92            Quimet & Quimet  POINT_OF_INTEREST   \n",
       "185       Heineken Experience  POINT_OF_INTEREST   \n",
       "69                      Rules  POINT_OF_INTEREST   \n",
       "149  Naturhistorisches Museum  POINT_OF_INTEREST   \n",
       "31           Stazione Termini  POINT_OF_INTEREST   \n",
       "184       De Albert Cuypmarkt  POINT_OF_INTEREST   \n",
       "6     Shakespeare and Company  POINT_OF_INTEREST   \n",
       "178    Dubb Indian Restaurant  POINT_OF_INTEREST   \n",
       "136             AnonymouS Bar  POINT_OF_INTEREST   \n",
       "175       Istanbul University  POINT_OF_INTEREST   \n",
       "129                   U Fleků  POINT_OF_INTEREST   \n",
       "162              Galata Tower  POINT_OF_INTEREST   \n",
       "76          Galvin at Windows  POINT_OF_INTEREST   \n",
       "7            L'As du Fallafel  POINT_OF_INTEREST   \n",
       "163     Topkapı Sarayı Müzesi  POINT_OF_INTEREST   \n",
       "60          Westminster Abbey  POINT_OF_INTEREST   \n",
       "8             Sainte Chapelle  POINT_OF_INTEREST   \n",
       "\n",
       "                                                  tags      type  \n",
       "120                          [sightseeing, restaurant]  location  \n",
       "138                      [sightseeing, museum, sights]  location  \n",
       "104                  [sightseeing, restaurant, sights]  location  \n",
       "61   [sightseeing, restaurant, sights, landmark, hi...  location  \n",
       "108                       [restaurant, church, museum]  location  \n",
       "180       [sightseeing, museum, sights, historicplace]  location  \n",
       "84                            [restaurant, vegetarian]  location  \n",
       "49      [sightseeing, sights, historicplace, historic]  location  \n",
       "37                                        [restaurant]  location  \n",
       "13                           [sightseeing, restaurant]  location  \n",
       "3    [sightseeing, sights, landmark, historicplace,...  location  \n",
       "85                          [restaurant, cheap, tapas]  location  \n",
       "153          [sightseeing, restaurant, museum, sights]  location  \n",
       "92    [sightseeing, restaurant, bar, nightlife, tapas]  location  \n",
       "185           [sightseeing, museum, brewery, landmark]  location  \n",
       "69                                   [restaurant, bar]  location  \n",
       "149          [sightseeing, restaurant, museum, sights]  location  \n",
       "31        [restaurant, transport, train, trainstation]  location  \n",
       "184                [sightseeing, restaurant, landmark]  location  \n",
       "6          [shopping, attraction, activities, library]  location  \n",
       "178                           [restaurant, vegetarian]  location  \n",
       "136                 [restaurant, bar, club, nightlife]  location  \n",
       "175                              [sightseeing, sights]  location  \n",
       "129                          [sightseeing, restaurant]  location  \n",
       "162            [sightseeing, museum, sights, landmark]  location  \n",
       "76       [sightseeing, restaurant, bar, moderncuisine]  location  \n",
       "7         [restaurant, vegetarian, fastfood, sandwich]  location  \n",
       "163  [museum, sights, landmark, historicplace, palace]  location  \n",
       "60     [sightseeing, church, temple, sights, landmark]  location  \n",
       "8              [sightseeing, church, temple, landmark]  location  "
      ]
     },
     "execution_count": 55,
     "metadata": {},
     "output_type": "execute_result"
    }
   ],
   "source": [
    "rc = RecommenderClient()\n",
    "rc.add_data(recData,create_model=False)\n",
    "rc.create_model()\n",
    "cold_guess = rc.cold_start(k=30)\n",
    "rc.ind2data(cold_guess)"
   ]
  },
  {
   "cell_type": "code",
   "execution_count": 56,
   "metadata": {},
   "outputs": [],
   "source": [
    "likes = [7, 88, 56]"
   ]
  },
  {
   "cell_type": "code",
   "execution_count": 57,
   "metadata": {},
   "outputs": [],
   "source": [
    "berlinlat, berlinlon = 52.5067614,13.2846511"
   ]
  },
  {
   "cell_type": "code",
   "execution_count": 58,
   "metadata": {},
   "outputs": [],
   "source": [
    "berlin_data = am.get_poi(lat = berlinlat, lon = berlinlon, name='Berlin')"
   ]
  },
  {
   "cell_type": "code",
   "execution_count": 59,
   "metadata": {},
   "outputs": [
    {
     "data": {
      "text/plain": [
       "32"
      ]
     },
     "execution_count": 59,
     "metadata": {},
     "output_type": "execute_result"
    }
   ],
   "source": [
    "len(berlin_data)"
   ]
  },
  {
   "cell_type": "code",
   "execution_count": 60,
   "metadata": {},
   "outputs": [
    {
     "name": "stderr",
     "output_type": "stream",
     "text": [
      "/Users/Devansh/anaconda3/lib/python3.6/site-packages/ipykernel_launcher.py:46: SettingWithCopyWarning: \n",
      "A value is trying to be set on a copy of a slice from a DataFrame.\n",
      "Try using .loc[row_indexer,col_indexer] = value instead\n",
      "\n",
      "See the caveats in the documentation: http://pandas.pydata.org/pandas-docs/stable/indexing.html#indexing-view-versus-copy\n"
     ]
    }
   ],
   "source": [
    "rc.add_data(berlin_data,create_model=True)"
   ]
  },
  {
   "cell_type": "code",
   "execution_count": 61,
   "metadata": {},
   "outputs": [
    {
     "data": {
      "text/plain": [
       "array(['SIGHTS', 'RESTAURANT', 'SHOPPING', 'NIGHTLIFE'], dtype=object)"
      ]
     },
     "execution_count": 61,
     "metadata": {},
     "output_type": "execute_result"
    }
   ],
   "source": [
    "rc.categories"
   ]
  },
  {
   "cell_type": "code",
   "execution_count": 62,
   "metadata": {},
   "outputs": [],
   "source": [
    " cats = list(rc.categories) != ['RESTAURANTS']"
   ]
  },
  {
   "cell_type": "code",
   "execution_count": 63,
   "metadata": {},
   "outputs": [
    {
     "data": {
      "text/plain": [
       "True"
      ]
     },
     "execution_count": 63,
     "metadata": {},
     "output_type": "execute_result"
    }
   ],
   "source": [
    "cats"
   ]
  },
  {
   "cell_type": "code",
   "execution_count": 64,
   "metadata": {},
   "outputs": [],
   "source": [
    "recs = rc.suggest(k = 10, likes = likes,categories= ['SIGHTS', 'SHOPPING', 'NIGHTLIFE'],  cities='Berlin')"
   ]
  },
  {
   "cell_type": "code",
   "execution_count": 65,
   "metadata": {},
   "outputs": [
    {
     "data": {
      "text/html": [
       "<div style=\"max-height:1000px;max-width:1500px;overflow:auto;\"><table frame=\"box\" rules=\"cols\">\n",
       "    <tr>\n",
       "        <th style=\"padding-left: 1em; padding-right: 1em; text-align: center\">index</th>\n",
       "        <th style=\"padding-left: 1em; padding-right: 1em; text-align: center\">score</th>\n",
       "        <th style=\"padding-left: 1em; padding-right: 1em; text-align: center\">rank</th>\n",
       "    </tr>\n",
       "    <tr>\n",
       "        <td style=\"padding-left: 1em; padding-right: 1em; text-align: center; vertical-align: top\">214</td>\n",
       "        <td style=\"padding-left: 1em; padding-right: 1em; text-align: center; vertical-align: top\">0.3505222797393799</td>\n",
       "        <td style=\"padding-left: 1em; padding-right: 1em; text-align: center; vertical-align: top\">1</td>\n",
       "    </tr>\n",
       "    <tr>\n",
       "        <td style=\"padding-left: 1em; padding-right: 1em; text-align: center; vertical-align: top\">220</td>\n",
       "        <td style=\"padding-left: 1em; padding-right: 1em; text-align: center; vertical-align: top\">0.3007896343866984</td>\n",
       "        <td style=\"padding-left: 1em; padding-right: 1em; text-align: center; vertical-align: top\">2</td>\n",
       "    </tr>\n",
       "    <tr>\n",
       "        <td style=\"padding-left: 1em; padding-right: 1em; text-align: center; vertical-align: top\">222</td>\n",
       "        <td style=\"padding-left: 1em; padding-right: 1em; text-align: center; vertical-align: top\">0.16080151001612344</td>\n",
       "        <td style=\"padding-left: 1em; padding-right: 1em; text-align: center; vertical-align: top\">3</td>\n",
       "    </tr>\n",
       "    <tr>\n",
       "        <td style=\"padding-left: 1em; padding-right: 1em; text-align: center; vertical-align: top\">209</td>\n",
       "        <td style=\"padding-left: 1em; padding-right: 1em; text-align: center; vertical-align: top\">0.0</td>\n",
       "        <td style=\"padding-left: 1em; padding-right: 1em; text-align: center; vertical-align: top\">4</td>\n",
       "    </tr>\n",
       "    <tr>\n",
       "        <td style=\"padding-left: 1em; padding-right: 1em; text-align: center; vertical-align: top\">210</td>\n",
       "        <td style=\"padding-left: 1em; padding-right: 1em; text-align: center; vertical-align: top\">0.0</td>\n",
       "        <td style=\"padding-left: 1em; padding-right: 1em; text-align: center; vertical-align: top\">5</td>\n",
       "    </tr>\n",
       "    <tr>\n",
       "        <td style=\"padding-left: 1em; padding-right: 1em; text-align: center; vertical-align: top\">201</td>\n",
       "        <td style=\"padding-left: 1em; padding-right: 1em; text-align: center; vertical-align: top\">0.0</td>\n",
       "        <td style=\"padding-left: 1em; padding-right: 1em; text-align: center; vertical-align: top\">6</td>\n",
       "    </tr>\n",
       "    <tr>\n",
       "        <td style=\"padding-left: 1em; padding-right: 1em; text-align: center; vertical-align: top\">208</td>\n",
       "        <td style=\"padding-left: 1em; padding-right: 1em; text-align: center; vertical-align: top\">0.0</td>\n",
       "        <td style=\"padding-left: 1em; padding-right: 1em; text-align: center; vertical-align: top\">7</td>\n",
       "    </tr>\n",
       "    <tr>\n",
       "        <td style=\"padding-left: 1em; padding-right: 1em; text-align: center; vertical-align: top\">218</td>\n",
       "        <td style=\"padding-left: 1em; padding-right: 1em; text-align: center; vertical-align: top\">0.0</td>\n",
       "        <td style=\"padding-left: 1em; padding-right: 1em; text-align: center; vertical-align: top\">8</td>\n",
       "    </tr>\n",
       "    <tr>\n",
       "        <td style=\"padding-left: 1em; padding-right: 1em; text-align: center; vertical-align: top\">203</td>\n",
       "        <td style=\"padding-left: 1em; padding-right: 1em; text-align: center; vertical-align: top\">0.0</td>\n",
       "        <td style=\"padding-left: 1em; padding-right: 1em; text-align: center; vertical-align: top\">9</td>\n",
       "    </tr>\n",
       "    <tr>\n",
       "        <td style=\"padding-left: 1em; padding-right: 1em; text-align: center; vertical-align: top\">202</td>\n",
       "        <td style=\"padding-left: 1em; padding-right: 1em; text-align: center; vertical-align: top\">0.0</td>\n",
       "        <td style=\"padding-left: 1em; padding-right: 1em; text-align: center; vertical-align: top\">10</td>\n",
       "    </tr>\n",
       "</table>\n",
       "[10 rows x 3 columns]<br/>\n",
       "</div>"
      ],
      "text/plain": [
       "Columns:\n",
       "\tindex\tint\n",
       "\tscore\tfloat\n",
       "\trank\tint\n",
       "\n",
       "Rows: 10\n",
       "\n",
       "Data:\n",
       "+-------+---------------------+------+\n",
       "| index |        score        | rank |\n",
       "+-------+---------------------+------+\n",
       "|  214  |  0.3505222797393799 |  1   |\n",
       "|  220  |  0.3007896343866984 |  2   |\n",
       "|  222  | 0.16080151001612344 |  3   |\n",
       "|  209  |         0.0         |  4   |\n",
       "|  210  |         0.0         |  5   |\n",
       "|  201  |         0.0         |  6   |\n",
       "|  208  |         0.0         |  7   |\n",
       "|  218  |         0.0         |  8   |\n",
       "|  203  |         0.0         |  9   |\n",
       "|  202  |         0.0         |  10  |\n",
       "+-------+---------------------+------+\n",
       "[10 rows x 3 columns]"
      ]
     },
     "execution_count": 65,
     "metadata": {},
     "output_type": "execute_result"
    }
   ],
   "source": [
    "recs"
   ]
  },
  {
   "cell_type": "code",
   "execution_count": 67,
   "metadata": {
    "scrolled": false
   },
   "outputs": [
    {
     "name": "stderr",
     "output_type": "stream",
     "text": [
      "/Users/Devansh/anaconda3/lib/python3.6/site-packages/ipykernel_launcher.py:112: SettingWithCopyWarning: \n",
      "A value is trying to be set on a copy of a slice from a DataFrame.\n",
      "Try using .loc[row_indexer,col_indexer] = value instead\n",
      "\n",
      "See the caveats in the documentation: http://pandas.pydata.org/pandas-docs/stable/indexing.html#indexing-view-versus-copy\n"
     ]
    },
    {
     "data": {
      "text/html": [
       "<div>\n",
       "<style scoped>\n",
       "    .dataframe tbody tr th:only-of-type {\n",
       "        vertical-align: middle;\n",
       "    }\n",
       "\n",
       "    .dataframe tbody tr th {\n",
       "        vertical-align: top;\n",
       "    }\n",
       "\n",
       "    .dataframe thead th {\n",
       "        text-align: right;\n",
       "    }\n",
       "</style>\n",
       "<table border=\"1\" class=\"dataframe\">\n",
       "  <thead>\n",
       "    <tr style=\"text-align: right;\">\n",
       "      <th></th>\n",
       "      <th>category</th>\n",
       "      <th>city</th>\n",
       "      <th>geoCode</th>\n",
       "      <th>name</th>\n",
       "      <th>subType</th>\n",
       "      <th>tags</th>\n",
       "      <th>type</th>\n",
       "      <th>score</th>\n",
       "    </tr>\n",
       "  </thead>\n",
       "  <tbody>\n",
       "    <tr>\n",
       "      <th>214</th>\n",
       "      <td>SIGHTS</td>\n",
       "      <td>Berlin</td>\n",
       "      <td>{'latitude': 52.51889, 'longitude': 13.29534}</td>\n",
       "      <td>Bröhan Museum</td>\n",
       "      <td>POINT_OF_INTEREST</td>\n",
       "      <td>[sightseeing, artgallerie, museum]</td>\n",
       "      <td>location</td>\n",
       "      <td>0.350522</td>\n",
       "    </tr>\n",
       "    <tr>\n",
       "      <th>220</th>\n",
       "      <td>SIGHTS</td>\n",
       "      <td>Berlin</td>\n",
       "      <td>{'latitude': 52.52012, 'longitude': 13.299757}</td>\n",
       "      <td>Brauhaus Lemke am Schloss</td>\n",
       "      <td>POINT_OF_INTEREST</td>\n",
       "      <td>[sightseeing, restaurant]</td>\n",
       "      <td>location</td>\n",
       "      <td>0.300790</td>\n",
       "    </tr>\n",
       "    <tr>\n",
       "      <th>222</th>\n",
       "      <td>SIGHTS</td>\n",
       "      <td>Berlin</td>\n",
       "      <td>{'latitude': 52.50503, 'longitude': 13.278189}</td>\n",
       "      <td>Funkturm</td>\n",
       "      <td>POINT_OF_INTEREST</td>\n",
       "      <td>[sightseeing, sights, landmark, historicplace,...</td>\n",
       "      <td>location</td>\n",
       "      <td>0.160802</td>\n",
       "    </tr>\n",
       "    <tr>\n",
       "      <th>209</th>\n",
       "      <td>SHOPPING</td>\n",
       "      <td>Berlin</td>\n",
       "      <td>{'latitude': 52.509235, 'longitude': 13.304466}</td>\n",
       "      <td>Wilmersdorfer Arcaden</td>\n",
       "      <td>POINT_OF_INTEREST</td>\n",
       "      <td>[shopping, mall]</td>\n",
       "      <td>location</td>\n",
       "      <td>0.000000</td>\n",
       "    </tr>\n",
       "    <tr>\n",
       "      <th>210</th>\n",
       "      <td>NIGHTLIFE</td>\n",
       "      <td>Berlin</td>\n",
       "      <td>{'latitude': 52.506783, 'longitude': 13.302495}</td>\n",
       "      <td>Zum Hecht</td>\n",
       "      <td>POINT_OF_INTEREST</td>\n",
       "      <td>[attraction, activities, pub, liquor]</td>\n",
       "      <td>location</td>\n",
       "      <td>0.000000</td>\n",
       "    </tr>\n",
       "    <tr>\n",
       "      <th>201</th>\n",
       "      <td>SIGHTS</td>\n",
       "      <td>Berlin</td>\n",
       "      <td>{'latitude': 52.521103, 'longitude': 13.295592}</td>\n",
       "      <td>Schloss Charlottenburg</td>\n",
       "      <td>POINT_OF_INTEREST</td>\n",
       "      <td>[sightseeing, museum, sights, castle, palace]</td>\n",
       "      <td>location</td>\n",
       "      <td>0.000000</td>\n",
       "    </tr>\n",
       "    <tr>\n",
       "      <th>208</th>\n",
       "      <td>SIGHTS</td>\n",
       "      <td>Berlin</td>\n",
       "      <td>{'latitude': 52.519108, 'longitude': 13.295314}</td>\n",
       "      <td>Museum Berggruen</td>\n",
       "      <td>POINT_OF_INTEREST</td>\n",
       "      <td>[sightseeing, restaurant, artgallerie, museum]</td>\n",
       "      <td>location</td>\n",
       "      <td>0.000000</td>\n",
       "    </tr>\n",
       "    <tr>\n",
       "      <th>218</th>\n",
       "      <td>SHOPPING</td>\n",
       "      <td>Berlin</td>\n",
       "      <td>{'latitude': 52.509823, 'longitude': 13.255288}</td>\n",
       "      <td>Café K</td>\n",
       "      <td>POINT_OF_INTEREST</td>\n",
       "      <td>[sightseeing, shopping, restaurant]</td>\n",
       "      <td>location</td>\n",
       "      <td>0.000000</td>\n",
       "    </tr>\n",
       "    <tr>\n",
       "      <th>203</th>\n",
       "      <td>NIGHTLIFE</td>\n",
       "      <td>Berlin</td>\n",
       "      <td>{'latitude': 52.502552, 'longitude': 13.308702}</td>\n",
       "      <td>Juleps New York Bar &amp; Restaurant</td>\n",
       "      <td>POINT_OF_INTEREST</td>\n",
       "      <td>[restaurant, bar, nightlife]</td>\n",
       "      <td>location</td>\n",
       "      <td>0.000000</td>\n",
       "    </tr>\n",
       "    <tr>\n",
       "      <th>202</th>\n",
       "      <td>SIGHTS</td>\n",
       "      <td>Berlin</td>\n",
       "      <td>{'latitude': 52.512238, 'longitude': 13.308321}</td>\n",
       "      <td>Deutsche Oper Berlin</td>\n",
       "      <td>POINT_OF_INTEREST</td>\n",
       "      <td>[sightseeing, events, music, operahouse]</td>\n",
       "      <td>location</td>\n",
       "      <td>0.000000</td>\n",
       "    </tr>\n",
       "  </tbody>\n",
       "</table>\n",
       "</div>"
      ],
      "text/plain": [
       "      category    city                                          geoCode  \\\n",
       "214     SIGHTS  Berlin    {'latitude': 52.51889, 'longitude': 13.29534}   \n",
       "220     SIGHTS  Berlin   {'latitude': 52.52012, 'longitude': 13.299757}   \n",
       "222     SIGHTS  Berlin   {'latitude': 52.50503, 'longitude': 13.278189}   \n",
       "209   SHOPPING  Berlin  {'latitude': 52.509235, 'longitude': 13.304466}   \n",
       "210  NIGHTLIFE  Berlin  {'latitude': 52.506783, 'longitude': 13.302495}   \n",
       "201     SIGHTS  Berlin  {'latitude': 52.521103, 'longitude': 13.295592}   \n",
       "208     SIGHTS  Berlin  {'latitude': 52.519108, 'longitude': 13.295314}   \n",
       "218   SHOPPING  Berlin  {'latitude': 52.509823, 'longitude': 13.255288}   \n",
       "203  NIGHTLIFE  Berlin  {'latitude': 52.502552, 'longitude': 13.308702}   \n",
       "202     SIGHTS  Berlin  {'latitude': 52.512238, 'longitude': 13.308321}   \n",
       "\n",
       "                                 name            subType  \\\n",
       "214                     Bröhan Museum  POINT_OF_INTEREST   \n",
       "220         Brauhaus Lemke am Schloss  POINT_OF_INTEREST   \n",
       "222                          Funkturm  POINT_OF_INTEREST   \n",
       "209             Wilmersdorfer Arcaden  POINT_OF_INTEREST   \n",
       "210                         Zum Hecht  POINT_OF_INTEREST   \n",
       "201            Schloss Charlottenburg  POINT_OF_INTEREST   \n",
       "208                  Museum Berggruen  POINT_OF_INTEREST   \n",
       "218                            Café K  POINT_OF_INTEREST   \n",
       "203  Juleps New York Bar & Restaurant  POINT_OF_INTEREST   \n",
       "202              Deutsche Oper Berlin  POINT_OF_INTEREST   \n",
       "\n",
       "                                                  tags      type     score  \n",
       "214                 [sightseeing, artgallerie, museum]  location  0.350522  \n",
       "220                          [sightseeing, restaurant]  location  0.300790  \n",
       "222  [sightseeing, sights, landmark, historicplace,...  location  0.160802  \n",
       "209                                   [shopping, mall]  location  0.000000  \n",
       "210              [attraction, activities, pub, liquor]  location  0.000000  \n",
       "201      [sightseeing, museum, sights, castle, palace]  location  0.000000  \n",
       "208     [sightseeing, restaurant, artgallerie, museum]  location  0.000000  \n",
       "218                [sightseeing, shopping, restaurant]  location  0.000000  \n",
       "203                       [restaurant, bar, nightlife]  location  0.000000  \n",
       "202           [sightseeing, events, music, operahouse]  location  0.000000  "
      ]
     },
     "execution_count": 67,
     "metadata": {},
     "output_type": "execute_result"
    }
   ],
   "source": [
    "rc.recs2data(recs, df=True)"
   ]
  },
  {
   "cell_type": "code",
   "execution_count": 14,
   "metadata": {},
   "outputs": [
    {
     "ename": "NameError",
     "evalue": "name 'ind' is not defined",
     "output_type": "error",
     "traceback": [
      "\u001b[0;31m---------------------------------------------------------------------------\u001b[0m",
      "\u001b[0;31mNameError\u001b[0m                                 Traceback (most recent call last)",
      "\u001b[0;32m<ipython-input-14-e1a97b754286>\u001b[0m in \u001b[0;36m<module>\u001b[0;34m\u001b[0m\n\u001b[0;32m----> 1\u001b[0;31m \u001b[0;34m[\u001b[0m\u001b[0mrc\u001b[0m\u001b[0;34m.\u001b[0m\u001b[0mdata\u001b[0m\u001b[0;34m[\u001b[0m\u001b[0mi\u001b[0m\u001b[0;34m]\u001b[0m \u001b[0;32mfor\u001b[0m \u001b[0mi\u001b[0m \u001b[0;32min\u001b[0m \u001b[0mind\u001b[0m\u001b[0;34m]\u001b[0m\u001b[0;34m\u001b[0m\u001b[0;34m\u001b[0m\u001b[0m\n\u001b[0m",
      "\u001b[0;31mNameError\u001b[0m: name 'ind' is not defined"
     ]
    }
   ],
   "source": [
    "[rc.data[i] for i in ind]"
   ]
  },
  {
   "cell_type": "code",
   "execution_count": null,
   "metadata": {},
   "outputs": [],
   "source": []
  },
  {
   "cell_type": "code",
   "execution_count": null,
   "metadata": {},
   "outputs": [],
   "source": [
    "rc.ref_data"
   ]
  },
  {
   "cell_type": "code",
   "execution_count": null,
   "metadata": {},
   "outputs": [],
   "source": []
  },
  {
   "cell_type": "code",
   "execution_count": null,
   "metadata": {},
   "outputs": [],
   "source": [
    "\n",
    "#data = am.get_poi(lat=51.50, lon=-0.177)\n",
    "data = am.get_poi(lat=41.39715, lon=2.160873)\n",
    "\n",
    "#pickle.dump(data, open('london_poi.pickle', 'wb'))\n",
    "pickle.dump(data, open('spain_poi.pickle', 'wb'))\n",
    "\n"
   ]
  },
  {
   "cell_type": "code",
   "execution_count": null,
   "metadata": {},
   "outputs": [],
   "source": [
    "data"
   ]
  },
  {
   "cell_type": "code",
   "execution_count": null,
   "metadata": {},
   "outputs": [],
   "source": [
    "rc = RecommenderClient(data)"
   ]
  },
  {
   "cell_type": "code",
   "execution_count": null,
   "metadata": {},
   "outputs": [],
   "source": [
    "rc.cold_start()"
   ]
  },
  {
   "cell_type": "code",
   "execution_count": null,
   "metadata": {
    "scrolled": true
   },
   "outputs": [],
   "source": [
    "suggestions = rc.suggest(k  = 10 , likes = [0,], dislikes=[83,64],categories=['RESTAURANT','SHOPPING'])"
   ]
  },
  {
   "cell_type": "code",
   "execution_count": null,
   "metadata": {},
   "outputs": [],
   "source": [
    "rc.ref_data.iloc[list(suggestions['index'])]"
   ]
  },
  {
   "cell_type": "code",
   "execution_count": null,
   "metadata": {},
   "outputs": [],
   "source": [
    "rc.model_data['category'].unique()"
   ]
  },
  {
   "cell_type": "code",
   "execution_count": null,
   "metadata": {},
   "outputs": [],
   "source": [
    "rc.model_data[(rc.model_data['category'] in ['SIGHTS', 'SHOPPING'])]"
   ]
  },
  {
   "cell_type": "code",
   "execution_count": null,
   "metadata": {},
   "outputs": [],
   "source": [
    "any(rc.model_data['category']) in ['SIGHTS', \"SHOPPING\"]"
   ]
  },
  {
   "cell_type": "code",
   "execution_count": null,
   "metadata": {},
   "outputs": [],
   "source": [
    "allowed_index = [i for i in range(rc.num_of_choices) if rc.model_data['category'][i] in ['SIGHTS', \"SHOPPING\"]]"
   ]
  },
  {
   "cell_type": "code",
   "execution_count": null,
   "metadata": {},
   "outputs": [],
   "source": [
    "allowed_index"
   ]
  },
  {
   "cell_type": "code",
   "execution_count": null,
   "metadata": {},
   "outputs": [],
   "source": [
    "rc.model_data['category']"
   ]
  },
  {
   "cell_type": "code",
   "execution_count": null,
   "metadata": {},
   "outputs": [],
   "source": [
    "rc.tc_data"
   ]
  },
  {
   "cell_type": "code",
   "execution_count": null,
   "metadata": {},
   "outputs": [],
   "source": [
    "list(range(4))"
   ]
  },
  {
   "cell_type": "code",
   "execution_count": null,
   "metadata": {},
   "outputs": [],
   "source": [
    "disallowed=[]"
   ]
  },
  {
   "cell_type": "code",
   "execution_count": null,
   "metadata": {},
   "outputs": [],
   "source": [
    "tc.SFrame(rc.model_data.iloc[disallowed])"
   ]
  },
  {
   "cell_type": "code",
   "execution_count": null,
   "metadata": {},
   "outputs": [],
   "source": [
    "rc.model_data.iloc[[5, 6]]"
   ]
  },
  {
   "cell_type": "code",
   "execution_count": null,
   "metadata": {},
   "outputs": [],
   "source": [
    "rc.categories"
   ]
  },
  {
   "cell_type": "code",
   "execution_count": null,
   "metadata": {},
   "outputs": [],
   "source": [
    "cat = 'SIGHTS'"
   ]
  },
  {
   "cell_type": "code",
   "execution_count": null,
   "metadata": {},
   "outputs": [],
   "source": [
    "likes = [0,1,3,4]"
   ]
  },
  {
   "cell_type": "code",
   "execution_count": null,
   "metadata": {},
   "outputs": [],
   "source": [
    "rc.model.recommend_from_interactions(observed_items = likes, new_item_data=tc_spain_data)"
   ]
  },
  {
   "cell_type": "code",
   "execution_count": null,
   "metadata": {},
   "outputs": [],
   "source": [
    "rc.tc_data"
   ]
  },
  {
   "cell_type": "code",
   "execution_count": null,
   "metadata": {},
   "outputs": [],
   "source": [
    "rc.tc_data"
   ]
  },
  {
   "cell_type": "code",
   "execution_count": null,
   "metadata": {},
   "outputs": [],
   "source": [
    "items = tc.SFrame({'category':['SIGHTS', 'SIGHTS', 'SIGHTS'], 'tags': [['sightseeing', 'restaurant', 'cheap'], ['cheap', 'museum'], ['landmark','vegetarian']],'index':[0,1,2]})"
   ]
  },
  {
   "cell_type": "code",
   "execution_count": null,
   "metadata": {},
   "outputs": [],
   "source": [
    "items"
   ]
  },
  {
   "cell_type": "code",
   "execution_count": null,
   "metadata": {},
   "outputs": [],
   "source": [
    "spain_data = pd.DataFrame.from_dict(data)[['category', 'tags']]"
   ]
  },
  {
   "cell_type": "code",
   "execution_count": null,
   "metadata": {},
   "outputs": [],
   "source": [
    "spain_data['index'] = spain_data.index"
   ]
  },
  {
   "cell_type": "code",
   "execution_count": null,
   "metadata": {},
   "outputs": [],
   "source": [
    "tc_spain_data = tc.SFrame(spain_data)"
   ]
  },
  {
   "cell_type": "code",
   "execution_count": null,
   "metadata": {},
   "outputs": [],
   "source": [
    "tc_spain_data"
   ]
  },
  {
   "cell_type": "code",
   "execution_count": null,
   "metadata": {},
   "outputs": [],
   "source": []
  }
 ],
 "metadata": {
  "kernelspec": {
   "display_name": "Python 3",
   "language": "python",
   "name": "python3"
  },
  "language_info": {
   "codemirror_mode": {
    "name": "ipython",
    "version": 3
   },
   "file_extension": ".py",
   "mimetype": "text/x-python",
   "name": "python",
   "nbconvert_exporter": "python",
   "pygments_lexer": "ipython3",
   "version": "3.6.7"
  }
 },
 "nbformat": 4,
 "nbformat_minor": 2
}
