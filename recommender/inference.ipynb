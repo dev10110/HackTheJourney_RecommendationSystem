{
 "cells": [
  {
   "cell_type": "code",
   "execution_count": 71,
   "metadata": {},
   "outputs": [],
   "source": [
    "import pickle\n",
    "import annoy\n",
    "from gensim.similarities.index import AnnoyIndexer"
   ]
  },
  {
   "cell_type": "code",
   "execution_count": 72,
   "metadata": {},
   "outputs": [],
   "source": [
    "london_poi = pickle.load( open( \"london_poi.pickle\", \"rb\" ) )"
   ]
  },
  {
   "cell_type": "code",
   "execution_count": 73,
   "metadata": {},
   "outputs": [
    {
     "data": {
      "text/plain": [
       "[{'type': 'location',\n",
       "  'subType': 'POINT_OF_INTEREST',\n",
       "  'geoCode': {'latitude': 51.496395, 'longitude': -0.171935},\n",
       "  'name': 'Victoria and Albert Museum',\n",
       "  'category': 'SIGHTS',\n",
       "  'tags': ['sightseeing', 'artgallerie', 'museum', 'sights', 'landmark']},\n",
       " {'type': 'location',\n",
       "  'subType': 'POINT_OF_INTEREST',\n",
       "  'geoCode': {'latitude': 51.500996, 'longitude': -0.177414},\n",
       "  'name': 'Royal Albert Hall',\n",
       "  'category': 'SIGHTS',\n",
       "  'tags': ['sightseeing', 'sights', 'landmark', 'historicplace']},\n",
       " {'type': 'location',\n",
       "  'subType': 'POINT_OF_INTEREST',\n",
       "  'geoCode': {'latitude': 51.496143, 'longitude': -0.174409},\n",
       "  'name': 'Natural History Museum',\n",
       "  'category': 'SIGHTS',\n",
       "  'tags': ['sightseeing', 'restaurant', 'museum', 'cheap']},\n",
       " {'type': 'location',\n",
       "  'subType': 'POINT_OF_INTEREST',\n",
       "  'geoCode': {'latitude': 51.499092, 'longitude': -0.162348},\n",
       "  'name': 'Harrods',\n",
       "  'category': 'SIGHTS',\n",
       "  'tags': ['sightseeing', 'shopping', 'restaurant']},\n",
       " {'type': 'location',\n",
       "  'subType': 'POINT_OF_INTEREST',\n",
       "  'geoCode': {'latitude': 51.506935, 'longitude': -0.179232},\n",
       "  'name': 'Kensington Gardens',\n",
       "  'category': 'SIGHTS',\n",
       "  'tags': ['sightseeing', 'sights', 'landmark', 'historicplace', 'historic']},\n",
       " {'type': 'location',\n",
       "  'subType': 'POINT_OF_INTEREST',\n",
       "  'geoCode': {'latitude': 51.497604, 'longitude': -0.17434},\n",
       "  'name': 'Science Museum',\n",
       "  'category': 'SIGHTS',\n",
       "  'tags': ['sightseeing', 'museum']},\n",
       " {'type': 'location',\n",
       "  'subType': 'POINT_OF_INTEREST',\n",
       "  'geoCode': {'latitude': 51.50095, 'longitude': -0.163151},\n",
       "  'name': 'Zuma',\n",
       "  'category': 'RESTAURANT',\n",
       "  'tags': ['restaurant', 'nightlife']},\n",
       " {'type': 'location',\n",
       "  'subType': 'POINT_OF_INTEREST',\n",
       "  'geoCode': {'latitude': 51.507267, 'longitude': -0.16573},\n",
       "  'name': 'Hyde Park',\n",
       "  'category': 'SIGHTS',\n",
       "  'tags': ['sightseeing', 'sights', 'park', 'landmark']},\n",
       " {'type': 'location',\n",
       "  'subType': 'POINT_OF_INTEREST',\n",
       "  'geoCode': {'latitude': 51.502125, 'longitude': -0.160123},\n",
       "  'name': 'Dinner by Heston Blumenthal',\n",
       "  'category': 'RESTAURANT',\n",
       "  'tags': ['restaurant']},\n",
       " {'type': 'location',\n",
       "  'subType': 'POINT_OF_INTEREST',\n",
       "  'geoCode': {'latitude': 51.50163, 'longitude': -0.190795},\n",
       "  'name': 'Whole Foods Market',\n",
       "  'category': 'RESTAURANT',\n",
       "  'tags': ['shopping', 'restaurant', 'vegetarian']},\n",
       " {'type': 'location',\n",
       "  'subType': 'POINT_OF_INTEREST',\n",
       "  'geoCode': {'latitude': 51.506824, 'longitude': -0.194781},\n",
       "  'name': 'The Churchill Arms',\n",
       "  'category': 'RESTAURANT',\n",
       "  'tags': ['restaurant', 'thai']},\n",
       " {'type': 'location',\n",
       "  'subType': 'POINT_OF_INTEREST',\n",
       "  'geoCode': {'latitude': 51.51143, 'longitude': -0.155106},\n",
       "  'name': 'Le Gavroche',\n",
       "  'category': 'RESTAURANT',\n",
       "  'tags': ['restaurant']},\n",
       " {'type': 'location',\n",
       "  'subType': 'POINT_OF_INTEREST',\n",
       "  'geoCode': {'latitude': 51.485832, 'longitude': -0.161966},\n",
       "  'name': 'Restaurant Gordon Ramsay',\n",
       "  'category': 'RESTAURANT',\n",
       "  'tags': ['restaurant']},\n",
       " {'type': 'location',\n",
       "  'subType': 'POINT_OF_INTEREST',\n",
       "  'geoCode': {'latitude': 51.50159, 'longitude': -0.15972},\n",
       "  'name': 'Harvey Nichols',\n",
       "  'category': 'SHOPPING',\n",
       "  'tags': ['sightseeing', 'shopping']},\n",
       " {'type': 'location',\n",
       "  'subType': 'POINT_OF_INTEREST',\n",
       "  'geoCode': {'latitude': 51.50203, 'longitude': -0.160253},\n",
       "  'name': 'Bar Boulud',\n",
       "  'category': 'RESTAURANT',\n",
       "  'tags': ['restaurant', 'nightlife']},\n",
       " {'type': 'location',\n",
       "  'subType': 'POINT_OF_INTEREST',\n",
       "  'geoCode': {'latitude': 51.499287, 'longitude': -0.157143},\n",
       "  'name': 'Amaya',\n",
       "  'category': 'RESTAURANT',\n",
       "  'tags': ['restaurant']},\n",
       " {'type': 'location',\n",
       "  'subType': 'POINT_OF_INTEREST',\n",
       "  'geoCode': {'latitude': 51.490696, 'longitude': -0.158716},\n",
       "  'name': 'Saatchi Gallery',\n",
       "  'category': 'SIGHTS',\n",
       "  'tags': ['sightseeing', 'artgallerie', 'museum', 'sights']},\n",
       " {'type': 'location',\n",
       "  'subType': 'POINT_OF_INTEREST',\n",
       "  'geoCode': {'latitude': 51.48291, 'longitude': -0.19647},\n",
       "  'name': 'The Harwood Arms',\n",
       "  'category': 'RESTAURANT',\n",
       "  'tags': ['restaurant', 'gastropub']},\n",
       " {'type': 'location',\n",
       "  'subType': 'POINT_OF_INTEREST',\n",
       "  'geoCode': {'latitude': 51.515377, 'longitude': -0.158235},\n",
       "  'name': 'The Grazing Goat',\n",
       "  'category': 'RESTAURANT',\n",
       "  'tags': ['restaurant', 'gastropub']},\n",
       " {'type': 'location',\n",
       "  'subType': 'POINT_OF_INTEREST',\n",
       "  'geoCode': {'latitude': 51.50235, 'longitude': -0.177707},\n",
       "  'name': 'Albert Memorial',\n",
       "  'category': 'SIGHTS',\n",
       "  'tags': ['sightseeing', 'restaurant', 'sights', 'landmark']},\n",
       " {'type': 'location',\n",
       "  'subType': 'POINT_OF_INTEREST',\n",
       "  'geoCode': {'latitude': 51.51462, 'longitude': -0.155713},\n",
       "  'name': 'Roti Chai',\n",
       "  'category': 'RESTAURANT',\n",
       "  'tags': ['restaurant', 'fastfood']},\n",
       " {'type': 'location',\n",
       "  'subType': 'POINT_OF_INTEREST',\n",
       "  'geoCode': {'latitude': 51.490295, 'longitude': -0.191228},\n",
       "  'name': 'Evans & Peel Detective Agency',\n",
       "  'category': 'NIGHTLIFE',\n",
       "  'tags': ['bar', 'nightlife']},\n",
       " {'type': 'location',\n",
       "  'subType': 'POINT_OF_INTEREST',\n",
       "  'geoCode': {'latitude': 51.488823, 'longitude': -0.191904},\n",
       "  'name': 'The Troubadour',\n",
       "  'category': 'RESTAURANT',\n",
       "  'tags': ['sightseeing', 'restaurant', 'activities', 'bar']},\n",
       " {'type': 'location',\n",
       "  'subType': 'POINT_OF_INTEREST',\n",
       "  'geoCode': {'latitude': 51.505836, 'longitude': -0.187723},\n",
       "  'name': 'Kensington Palace',\n",
       "  'category': 'SIGHTS',\n",
       "  'tags': ['sightseeing', 'museum', 'sights', 'landmark', 'palace']},\n",
       " {'type': 'location',\n",
       "  'subType': 'POINT_OF_INTEREST',\n",
       "  'geoCode': {'latitude': 51.48674, 'longitude': -0.160508},\n",
       "  'name': 'National Army Museum',\n",
       "  'category': 'SIGHTS',\n",
       "  'tags': ['sightseeing', 'restaurant', 'museum', 'sights']},\n",
       " {'type': 'location',\n",
       "  'subType': 'POINT_OF_INTEREST',\n",
       "  'geoCode': {'latitude': 51.499092, 'longitude': -0.185134},\n",
       "  'name': 'Launceston Place',\n",
       "  'category': 'RESTAURANT',\n",
       "  'tags': ['restaurant', 'moderncuisine']},\n",
       " {'type': 'location',\n",
       "  'subType': 'POINT_OF_INTEREST',\n",
       "  'geoCode': {'latitude': 51.48461, 'longitude': -0.16346},\n",
       "  'name': 'Chelsea Physic Garden',\n",
       "  'category': 'SIGHTS',\n",
       "  'tags': ['sightseeing', 'park', 'landmark', 'garden']},\n",
       " {'type': 'location',\n",
       "  'subType': 'POINT_OF_INTEREST',\n",
       "  'geoCode': {'latitude': 51.501144, 'longitude': -0.179284},\n",
       "  'name': 'Royal College of Art',\n",
       "  'category': 'SIGHTS',\n",
       "  'tags': ['sightseeing', 'sights', 'historicplace', 'historic']},\n",
       " {'type': 'location',\n",
       "  'subType': 'POINT_OF_INTEREST',\n",
       "  'geoCode': {'latitude': 51.50475, 'longitude': -0.175034},\n",
       "  'name': 'Serpentine Gallery',\n",
       "  'category': 'SIGHTS',\n",
       "  'tags': ['sightseeing', 'artgallerie', 'museum', 'sights']},\n",
       " {'type': 'location',\n",
       "  'subType': 'POINT_OF_INTEREST',\n",
       "  'geoCode': {'latitude': 51.50911, 'longitude': -0.188191},\n",
       "  'name': 'Diana Memorial Playground',\n",
       "  'category': 'SIGHTS',\n",
       "  'tags': ['sightseeing', 'sights', 'park', 'landmark']},\n",
       " {'type': 'location',\n",
       "  'subType': 'POINT_OF_INTEREST',\n",
       "  'geoCode': {'latitude': 51.48306, 'longitude': -0.177651},\n",
       "  'name': 'Medlar',\n",
       "  'category': 'RESTAURANT',\n",
       "  'tags': ['restaurant', 'moderncuisine']},\n",
       " {'type': 'location',\n",
       "  'subType': 'POINT_OF_INTEREST',\n",
       "  'geoCode': {'latitude': 51.482212, 'longitude': -0.166667},\n",
       "  'name': 'Albert Bridge',\n",
       "  'category': 'SIGHTS',\n",
       "  'tags': ['sightseeing', 'sights', 'landmark', 'bridge']},\n",
       " {'type': 'location',\n",
       "  'subType': 'POINT_OF_INTEREST',\n",
       "  'geoCode': {'latitude': 51.48741, 'longitude': -0.158219},\n",
       "  'name': 'Royal Hospital Chelsea',\n",
       "  'category': 'SIGHTS',\n",
       "  'tags': ['sightseeing', 'museum', 'sights']},\n",
       " {'type': 'location',\n",
       "  'subType': 'POINT_OF_INTEREST',\n",
       "  'geoCode': {'latitude': 51.499073, 'longitude': -0.174051},\n",
       "  'name': 'Ognisko Restaurant',\n",
       "  'category': 'RESTAURANT',\n",
       "  'tags': ['sightseeing', 'restaurant']},\n",
       " {'type': 'location',\n",
       "  'subType': 'POINT_OF_INTEREST',\n",
       "  'geoCode': {'latitude': 51.49238, 'longitude': -0.16025},\n",
       "  'name': 'Sloane Square',\n",
       "  'category': 'SIGHTS',\n",
       "  'tags': ['sightseeing', 'sights', 'landmark', 'historicplace', 'historic']},\n",
       " {'type': 'location',\n",
       "  'subType': 'POINT_OF_INTEREST',\n",
       "  'geoCode': {'latitude': 51.49944, 'longitude': -0.177087},\n",
       "  'name': 'Royal College of Music',\n",
       "  'category': 'RESTAURANT',\n",
       "  'tags': ['sightseeing',\n",
       "   'restaurant',\n",
       "   'sights',\n",
       "   'historicplace',\n",
       "   'historic']},\n",
       " {'type': 'location',\n",
       "  'subType': 'POINT_OF_INTEREST',\n",
       "  'geoCode': {'latitude': 51.501553, 'longitude': -0.174984},\n",
       "  'name': 'Royal Geographical Society',\n",
       "  'category': 'RESTAURANT',\n",
       "  'tags': ['sightseeing', 'restaurant']},\n",
       " {'type': 'location',\n",
       "  'subType': 'POINT_OF_INTEREST',\n",
       "  'geoCode': {'latitude': 51.489082, 'longitude': -0.165412},\n",
       "  'name': 'Pizza Express',\n",
       "  'category': 'RESTAURANT',\n",
       "  'tags': ['restaurant', 'fastfood', 'pizza']},\n",
       " {'type': 'location',\n",
       "  'subType': 'POINT_OF_INTEREST',\n",
       "  'geoCode': {'latitude': 51.513107, 'longitude': -0.158914},\n",
       "  'name': 'Marble Arch',\n",
       "  'category': 'SIGHTS',\n",
       "  'tags': ['sightseeing', 'restaurant', 'sights', 'landmark']},\n",
       " {'type': 'location',\n",
       "  'subType': 'POINT_OF_INTEREST',\n",
       "  'geoCode': {'latitude': 51.508835, 'longitude': -0.196546},\n",
       "  'name': 'Le Pain Quotidien',\n",
       "  'category': 'RESTAURANT',\n",
       "  'tags': ['restaurant', 'vegetarian']},\n",
       " {'type': 'location',\n",
       "  'subType': 'POINT_OF_INTEREST',\n",
       "  'geoCode': {'latitude': 51.513874, 'longitude': -0.153936},\n",
       "  'name': 'Marks & Spencer',\n",
       "  'category': 'SHOPPING',\n",
       "  'tags': ['sightseeing', 'shopping', 'clothing']},\n",
       " {'type': 'location',\n",
       "  'subType': 'POINT_OF_INTEREST',\n",
       "  'geoCode': {'latitude': 51.49272, 'longitude': -0.156966},\n",
       "  'name': 'The Botanist',\n",
       "  'category': 'RESTAURANT',\n",
       "  'tags': ['restaurant', 'breakfast']},\n",
       " {'type': 'location',\n",
       "  'subType': 'POINT_OF_INTEREST',\n",
       "  'geoCode': {'latitude': 51.49783, 'longitude': -0.169847},\n",
       "  'name': 'Holy Trinity Brompton',\n",
       "  'category': 'SIGHTS',\n",
       "  'tags': ['sightseeing', 'church', 'temple']},\n",
       " {'type': 'location',\n",
       "  'subType': 'POINT_OF_INTEREST',\n",
       "  'geoCode': {'latitude': 51.49957, 'longitude': -0.156896},\n",
       "  'name': 'Petrus',\n",
       "  'category': 'RESTAURANT',\n",
       "  'tags': ['restaurant']},\n",
       " {'type': 'location',\n",
       "  'subType': 'POINT_OF_INTEREST',\n",
       "  'geoCode': {'latitude': 51.49043, 'longitude': -0.168181},\n",
       "  'name': \"Tom's Kitchen\",\n",
       "  'category': 'RESTAURANT',\n",
       "  'tags': ['restaurant', 'seafood']},\n",
       " {'type': 'location',\n",
       "  'subType': 'POINT_OF_INTEREST',\n",
       "  'geoCode': {'latitude': 51.52089, 'longitude': -0.169594},\n",
       "  'name': 'Lisson Gallery',\n",
       "  'category': 'SIGHTS',\n",
       "  'tags': ['attraction', 'artgallerie']},\n",
       " {'type': 'location',\n",
       "  'subType': 'POINT_OF_INTEREST',\n",
       "  'geoCode': {'latitude': 51.49357, 'longitude': -0.174042},\n",
       "  'name': \"Carluccio's\",\n",
       "  'category': 'RESTAURANT',\n",
       "  'tags': ['shopping', 'restaurant']},\n",
       " {'type': 'location',\n",
       "  'subType': 'POINT_OF_INTEREST',\n",
       "  'geoCode': {'latitude': 51.50146, 'longitude': -0.155004},\n",
       "  'name': 'The Grenadier',\n",
       "  'category': 'RESTAURANT',\n",
       "  'tags': ['attraction', 'activities', 'pub', 'gastropub']},\n",
       " {'type': 'location',\n",
       "  'subType': 'POINT_OF_INTEREST',\n",
       "  'geoCode': {'latitude': 51.504974, 'longitude': -0.159903},\n",
       "  'name': 'Serpentine Bar & Kitchen',\n",
       "  'category': 'RESTAURANT',\n",
       "  'tags': ['restaurant']},\n",
       " {'type': 'location',\n",
       "  'subType': 'POINT_OF_INTEREST',\n",
       "  'geoCode': {'latitude': 51.515568, 'longitude': -0.189636},\n",
       "  'name': \"Khan's\",\n",
       "  'category': 'RESTAURANT',\n",
       "  'tags': ['restaurant']},\n",
       " {'type': 'location',\n",
       "  'subType': 'POINT_OF_INTEREST',\n",
       "  'geoCode': {'latitude': 51.511513, 'longitude': -0.176875},\n",
       "  'name': 'The Swan',\n",
       "  'category': 'RESTAURANT',\n",
       "  'tags': ['restaurant']},\n",
       " {'type': 'location',\n",
       "  'subType': 'POINT_OF_INTEREST',\n",
       "  'geoCode': {'latitude': 51.506638, 'longitude': -0.187725},\n",
       "  'name': 'The Orangery',\n",
       "  'category': 'RESTAURANT',\n",
       "  'tags': ['sightseeing', 'restaurant']},\n",
       " {'type': 'location',\n",
       "  'subType': 'POINT_OF_INTEREST',\n",
       "  'geoCode': {'latitude': 51.499184, 'longitude': -0.157539},\n",
       "  'name': 'Zafferano',\n",
       "  'category': 'RESTAURANT',\n",
       "  'tags': ['restaurant']},\n",
       " {'type': 'location',\n",
       "  'subType': 'POINT_OF_INTEREST',\n",
       "  'geoCode': {'latitude': 51.4929, 'longitude': -0.17651},\n",
       "  'name': 'Rocca di Papa',\n",
       "  'category': 'RESTAURANT',\n",
       "  'tags': ['restaurant']},\n",
       " {'type': 'location',\n",
       "  'subType': 'POINT_OF_INTEREST',\n",
       "  'geoCode': {'latitude': 51.508423, 'longitude': -0.19538},\n",
       "  'name': 'Kensington Place',\n",
       "  'category': 'RESTAURANT',\n",
       "  'tags': ['restaurant', 'bar', 'grills', 'club', 'seafood']},\n",
       " {'type': 'location',\n",
       "  'subType': 'POINT_OF_INTEREST',\n",
       "  'geoCode': {'latitude': 51.513504, 'longitude': -0.171199},\n",
       "  'name': 'The Victoria',\n",
       "  'category': 'RESTAURANT',\n",
       "  'tags': ['restaurant', 'bar', 'pub']},\n",
       " {'type': 'location',\n",
       "  'subType': 'POINT_OF_INTEREST',\n",
       "  'geoCode': {'latitude': 51.519844, 'longitude': -0.164691},\n",
       "  'name': 'Dinings',\n",
       "  'category': 'RESTAURANT',\n",
       "  'tags': ['restaurant']},\n",
       " {'type': 'location',\n",
       "  'subType': 'POINT_OF_INTEREST',\n",
       "  'geoCode': {'latitude': 51.483044, 'longitude': -0.170947},\n",
       "  'name': 'Chelsea Old Church',\n",
       "  'category': 'SIGHTS',\n",
       "  'tags': ['sightseeing', 'church', 'temple', 'sights', 'landmark']},\n",
       " {'type': 'location',\n",
       "  'subType': 'POINT_OF_INTEREST',\n",
       "  'geoCode': {'latitude': 51.510548, 'longitude': -0.175484},\n",
       "  'name': 'Italian Gardens',\n",
       "  'category': 'SIGHTS',\n",
       "  'tags': ['sightseeing', 'sights', 'historicplace', 'historic']},\n",
       " {'type': 'location',\n",
       "  'subType': 'POINT_OF_INTEREST',\n",
       "  'geoCode': {'latitude': 51.493763, 'longitude': -0.157029},\n",
       "  'name': 'Cadogan Hall',\n",
       "  'category': 'SIGHTS',\n",
       "  'tags': ['sightseeing', 'activities', 'events', 'musicvenue']},\n",
       " {'type': 'location',\n",
       "  'subType': 'POINT_OF_INTEREST',\n",
       "  'geoCode': {'latitude': 51.51464, 'longitude': -0.157891},\n",
       "  'name': 'La Porte des Indes',\n",
       "  'category': 'RESTAURANT',\n",
       "  'tags': ['sightseeing', 'restaurant']},\n",
       " {'type': 'location',\n",
       "  'subType': 'POINT_OF_INTEREST',\n",
       "  'geoCode': {'latitude': 51.513615, 'longitude': -0.155719},\n",
       "  'name': 'Primark',\n",
       "  'category': 'SHOPPING',\n",
       "  'tags': ['sightseeing', 'shopping', 'clothing', 'fashion']},\n",
       " {'type': 'location',\n",
       "  'subType': 'POINT_OF_INTEREST',\n",
       "  'geoCode': {'latitude': 51.49865, 'longitude': -0.18366},\n",
       "  'name': 'Da Mario',\n",
       "  'category': 'RESTAURANT',\n",
       "  'tags': ['restaurant']},\n",
       " {'type': 'location',\n",
       "  'subType': 'POINT_OF_INTEREST',\n",
       "  'geoCode': {'latitude': 51.498947, 'longitude': -0.163961},\n",
       "  'name': 'Zia Teresa',\n",
       "  'category': 'RESTAURANT',\n",
       "  'tags': ['restaurant', 'seafood']},\n",
       " {'type': 'location',\n",
       "  'subType': 'POINT_OF_INTEREST',\n",
       "  'geoCode': {'latitude': 51.49227, 'longitude': -0.158959},\n",
       "  'name': 'Peter Jones',\n",
       "  'category': 'SHOPPING',\n",
       "  'tags': ['sightseeing', 'shopping']},\n",
       " {'type': 'location',\n",
       "  'subType': 'POINT_OF_INTEREST',\n",
       "  'geoCode': {'latitude': 51.501343, 'longitude': -0.157104},\n",
       "  'name': 'The Nags Head',\n",
       "  'category': 'RESTAURANT',\n",
       "  'tags': ['restaurant', 'activities', 'pub']},\n",
       " {'type': 'location',\n",
       "  'subType': 'POINT_OF_INTEREST',\n",
       "  'geoCode': {'latitude': 51.501427, 'longitude': -0.17287},\n",
       "  'name': 'Polish Institute and Sikorski Museum',\n",
       "  'category': 'SIGHTS',\n",
       "  'tags': ['sightseeing', 'shopping', 'transport', 'museum']},\n",
       " {'type': 'location',\n",
       "  'subType': 'POINT_OF_INTEREST',\n",
       "  'geoCode': {'latitude': 51.485294, 'longitude': -0.17442},\n",
       "  'name': 'Big Easy',\n",
       "  'category': 'RESTAURANT',\n",
       "  'tags': ['restaurant', 'grills', 'barbecue', 'seafood']},\n",
       " {'type': 'location',\n",
       "  'subType': 'POINT_OF_INTEREST',\n",
       "  'geoCode': {'latitude': 51.515545, 'longitude': -0.191107},\n",
       "  'name': 'Planet Organic',\n",
       "  'category': 'RESTAURANT',\n",
       "  'tags': ['vegetarian']},\n",
       " {'type': 'location',\n",
       "  'subType': 'POINT_OF_INTEREST',\n",
       "  'geoCode': {'latitude': 51.4889, 'longitude': -0.191563},\n",
       "  'name': 'The Pembroke',\n",
       "  'category': 'RESTAURANT',\n",
       "  'tags': ['restaurant', 'gastropub']},\n",
       " {'type': 'location',\n",
       "  'subType': 'POINT_OF_INTEREST',\n",
       "  'geoCode': {'latitude': 51.508507, 'longitude': -0.193862},\n",
       "  'name': 'The Mall Tavern',\n",
       "  'category': 'RESTAURANT',\n",
       "  'tags': ['restaurant', 'bar', 'pub', 'gastropub']},\n",
       " {'type': 'location',\n",
       "  'subType': 'POINT_OF_INTEREST',\n",
       "  'geoCode': {'latitude': 51.51737, 'longitude': -0.173597},\n",
       "  'name': \"St Mary's Hospital\",\n",
       "  'category': 'SIGHTS',\n",
       "  'tags': ['sightseeing', 'sights', 'historicplace']},\n",
       " {'type': 'location',\n",
       "  'subType': 'POINT_OF_INTEREST',\n",
       "  'geoCode': {'latitude': 51.514294, 'longitude': -0.167885},\n",
       "  'name': 'Bombay Palace',\n",
       "  'category': 'RESTAURANT',\n",
       "  'tags': ['restaurant', 'fastfood']},\n",
       " {'type': 'location',\n",
       "  'subType': 'POINT_OF_INTEREST',\n",
       "  'geoCode': {'latitude': 51.491352, 'longitude': -0.160894},\n",
       "  'name': 'John Sandoe Books Ltd',\n",
       "  'category': 'SHOPPING',\n",
       "  'tags': ['shopping', 'library']},\n",
       " {'type': 'location',\n",
       "  'subType': 'POINT_OF_INTEREST',\n",
       "  'geoCode': {'latitude': 51.51557, 'longitude': -0.161763},\n",
       "  'name': 'West London Synagogue',\n",
       "  'category': 'SIGHTS',\n",
       "  'tags': ['attraction', 'activities', 'synagogue']},\n",
       " {'type': 'location',\n",
       "  'subType': 'POINT_OF_INTEREST',\n",
       "  'geoCode': {'latitude': 51.50176, 'longitude': -0.158841},\n",
       "  'name': 'One O One',\n",
       "  'category': 'RESTAURANT',\n",
       "  'tags': ['restaurant', 'seafood']},\n",
       " {'type': 'location',\n",
       "  'subType': 'POINT_OF_INTEREST',\n",
       "  'geoCode': {'latitude': 51.50898, 'longitude': -0.193876},\n",
       "  'name': 'The Shed',\n",
       "  'category': 'RESTAURANT',\n",
       "  'tags': ['restaurant']},\n",
       " {'type': 'location',\n",
       "  'subType': 'POINT_OF_INTEREST',\n",
       "  'geoCode': {'latitude': 51.49296, 'longitude': -0.176227},\n",
       "  'name': 'Bosphorus Kebabs',\n",
       "  'category': 'RESTAURANT',\n",
       "  'tags': ['restaurant', 'fastfood']},\n",
       " {'type': 'location',\n",
       "  'subType': 'POINT_OF_INTEREST',\n",
       "  'geoCode': {'latitude': 51.499207, 'longitude': -0.166095},\n",
       "  'name': 'Bonhams',\n",
       "  'category': 'RESTAURANT',\n",
       "  'tags': ['restaurant']},\n",
       " {'type': 'location',\n",
       "  'subType': 'POINT_OF_INTEREST',\n",
       "  'geoCode': {'latitude': 51.50053, 'longitude': -0.188749},\n",
       "  'name': 'Thackeray Gallery',\n",
       "  'category': 'SIGHTS',\n",
       "  'tags': ['sightseeing', 'transport', 'artgallerie']},\n",
       " {'type': 'location',\n",
       "  'subType': 'POINT_OF_INTEREST',\n",
       "  'geoCode': {'latitude': 51.484844, 'longitude': -0.17525},\n",
       "  'name': 'Bluebird Chelsea',\n",
       "  'category': 'RESTAURANT',\n",
       "  'tags': ['restaurant']},\n",
       " {'type': 'location',\n",
       "  'subType': 'POINT_OF_INTEREST',\n",
       "  'geoCode': {'latitude': 51.498684, 'longitude': -0.165856},\n",
       "  'name': 'Mamounia Lounge Knightsbridge',\n",
       "  'category': 'RESTAURANT',\n",
       "  'tags': ['restaurant', 'bar']},\n",
       " {'type': 'location',\n",
       "  'subType': 'POINT_OF_INTEREST',\n",
       "  'geoCode': {'latitude': 51.49888, 'longitude': -0.166794},\n",
       "  'name': 'Shezan',\n",
       "  'category': 'RESTAURANT',\n",
       "  'tags': ['restaurant']},\n",
       " {'type': 'location',\n",
       "  'subType': 'POINT_OF_INTEREST',\n",
       "  'geoCode': {'latitude': 51.494324, 'longitude': -0.173618},\n",
       "  'name': 'Daquise',\n",
       "  'category': 'RESTAURANT',\n",
       "  'tags': ['sightseeing', 'restaurant']}]"
      ]
     },
     "execution_count": 73,
     "metadata": {},
     "output_type": "execute_result"
    }
   ],
   "source": [
    "london_poi"
   ]
  },
  {
   "cell_type": "code",
   "execution_count": 74,
   "metadata": {},
   "outputs": [],
   "source": [
    "cats = [poi['category'] for poi in london_poi]"
   ]
  },
  {
   "cell_type": "code",
   "execution_count": 75,
   "metadata": {},
   "outputs": [],
   "source": [
    "cats = list(set(cats))"
   ]
  },
  {
   "cell_type": "code",
   "execution_count": 76,
   "metadata": {},
   "outputs": [],
   "source": [
    "tags = [poi['tags'] for poi in london_poi]"
   ]
  },
  {
   "cell_type": "code",
   "execution_count": 77,
   "metadata": {},
   "outputs": [
    {
     "data": {
      "text/plain": [
       "[['sightseeing', 'artgallerie', 'museum', 'sights', 'landmark'],\n",
       " ['sightseeing', 'sights', 'landmark', 'historicplace'],\n",
       " ['sightseeing', 'restaurant', 'museum', 'cheap'],\n",
       " ['sightseeing', 'shopping', 'restaurant'],\n",
       " ['sightseeing', 'sights', 'landmark', 'historicplace', 'historic'],\n",
       " ['sightseeing', 'museum'],\n",
       " ['restaurant', 'nightlife'],\n",
       " ['sightseeing', 'sights', 'park', 'landmark'],\n",
       " ['restaurant'],\n",
       " ['shopping', 'restaurant', 'vegetarian'],\n",
       " ['restaurant', 'thai'],\n",
       " ['restaurant'],\n",
       " ['restaurant'],\n",
       " ['sightseeing', 'shopping'],\n",
       " ['restaurant', 'nightlife'],\n",
       " ['restaurant'],\n",
       " ['sightseeing', 'artgallerie', 'museum', 'sights'],\n",
       " ['restaurant', 'gastropub'],\n",
       " ['restaurant', 'gastropub'],\n",
       " ['sightseeing', 'restaurant', 'sights', 'landmark'],\n",
       " ['restaurant', 'fastfood'],\n",
       " ['bar', 'nightlife'],\n",
       " ['sightseeing', 'restaurant', 'activities', 'bar'],\n",
       " ['sightseeing', 'museum', 'sights', 'landmark', 'palace'],\n",
       " ['sightseeing', 'restaurant', 'museum', 'sights'],\n",
       " ['restaurant', 'moderncuisine'],\n",
       " ['sightseeing', 'park', 'landmark', 'garden'],\n",
       " ['sightseeing', 'sights', 'historicplace', 'historic'],\n",
       " ['sightseeing', 'artgallerie', 'museum', 'sights'],\n",
       " ['sightseeing', 'sights', 'park', 'landmark'],\n",
       " ['restaurant', 'moderncuisine'],\n",
       " ['sightseeing', 'sights', 'landmark', 'bridge'],\n",
       " ['sightseeing', 'museum', 'sights'],\n",
       " ['sightseeing', 'restaurant'],\n",
       " ['sightseeing', 'sights', 'landmark', 'historicplace', 'historic'],\n",
       " ['sightseeing', 'restaurant', 'sights', 'historicplace', 'historic'],\n",
       " ['sightseeing', 'restaurant'],\n",
       " ['restaurant', 'fastfood', 'pizza'],\n",
       " ['sightseeing', 'restaurant', 'sights', 'landmark'],\n",
       " ['restaurant', 'vegetarian'],\n",
       " ['sightseeing', 'shopping', 'clothing'],\n",
       " ['restaurant', 'breakfast'],\n",
       " ['sightseeing', 'church', 'temple'],\n",
       " ['restaurant'],\n",
       " ['restaurant', 'seafood'],\n",
       " ['attraction', 'artgallerie'],\n",
       " ['shopping', 'restaurant'],\n",
       " ['attraction', 'activities', 'pub', 'gastropub'],\n",
       " ['restaurant'],\n",
       " ['restaurant'],\n",
       " ['restaurant'],\n",
       " ['sightseeing', 'restaurant'],\n",
       " ['restaurant'],\n",
       " ['restaurant'],\n",
       " ['restaurant', 'bar', 'grills', 'club', 'seafood'],\n",
       " ['restaurant', 'bar', 'pub'],\n",
       " ['restaurant'],\n",
       " ['sightseeing', 'church', 'temple', 'sights', 'landmark'],\n",
       " ['sightseeing', 'sights', 'historicplace', 'historic'],\n",
       " ['sightseeing', 'activities', 'events', 'musicvenue'],\n",
       " ['sightseeing', 'restaurant'],\n",
       " ['sightseeing', 'shopping', 'clothing', 'fashion'],\n",
       " ['restaurant'],\n",
       " ['restaurant', 'seafood'],\n",
       " ['sightseeing', 'shopping'],\n",
       " ['restaurant', 'activities', 'pub'],\n",
       " ['sightseeing', 'shopping', 'transport', 'museum'],\n",
       " ['restaurant', 'grills', 'barbecue', 'seafood'],\n",
       " ['vegetarian'],\n",
       " ['restaurant', 'gastropub'],\n",
       " ['restaurant', 'bar', 'pub', 'gastropub'],\n",
       " ['sightseeing', 'sights', 'historicplace'],\n",
       " ['restaurant', 'fastfood'],\n",
       " ['shopping', 'library'],\n",
       " ['attraction', 'activities', 'synagogue'],\n",
       " ['restaurant', 'seafood'],\n",
       " ['restaurant'],\n",
       " ['restaurant', 'fastfood'],\n",
       " ['restaurant'],\n",
       " ['sightseeing', 'transport', 'artgallerie'],\n",
       " ['restaurant'],\n",
       " ['restaurant', 'bar'],\n",
       " ['restaurant'],\n",
       " ['sightseeing', 'restaurant']]"
      ]
     },
     "execution_count": 77,
     "metadata": {},
     "output_type": "execute_result"
    }
   ],
   "source": [
    "tags"
   ]
  },
  {
   "cell_type": "code",
   "execution_count": 78,
   "metadata": {},
   "outputs": [
    {
     "data": {
      "text/plain": [
       "[['sightseeing', 'artgallerie', 'museum', 'sights', 'landmark'],\n",
       " ['sightseeing', 'sights', 'landmark', 'historicplace'],\n",
       " ['sightseeing', 'restaurant', 'museum', 'cheap'],\n",
       " ['sightseeing', 'shopping', 'restaurant'],\n",
       " ['sightseeing', 'sights', 'landmark', 'historicplace', 'historic'],\n",
       " ['sightseeing', 'museum'],\n",
       " ['sightseeing', 'sights', 'park', 'landmark'],\n",
       " ['sightseeing', 'artgallerie', 'museum', 'sights'],\n",
       " ['sightseeing', 'restaurant', 'sights', 'landmark'],\n",
       " ['sightseeing', 'museum', 'sights', 'landmark', 'palace'],\n",
       " ['sightseeing', 'restaurant', 'museum', 'sights'],\n",
       " ['sightseeing', 'park', 'landmark', 'garden'],\n",
       " ['sightseeing', 'sights', 'historicplace', 'historic'],\n",
       " ['sightseeing', 'artgallerie', 'museum', 'sights'],\n",
       " ['sightseeing', 'sights', 'park', 'landmark'],\n",
       " ['sightseeing', 'sights', 'landmark', 'bridge'],\n",
       " ['sightseeing', 'museum', 'sights'],\n",
       " ['sightseeing', 'sights', 'landmark', 'historicplace', 'historic'],\n",
       " ['sightseeing', 'restaurant', 'sights', 'landmark'],\n",
       " ['sightseeing', 'church', 'temple'],\n",
       " ['attraction', 'artgallerie'],\n",
       " ['sightseeing', 'church', 'temple', 'sights', 'landmark'],\n",
       " ['sightseeing', 'sights', 'historicplace', 'historic'],\n",
       " ['sightseeing', 'activities', 'events', 'musicvenue'],\n",
       " ['sightseeing', 'shopping', 'transport', 'museum'],\n",
       " ['sightseeing', 'sights', 'historicplace'],\n",
       " ['attraction', 'activities', 'synagogue'],\n",
       " ['sightseeing', 'transport', 'artgallerie']]"
      ]
     },
     "execution_count": 78,
     "metadata": {},
     "output_type": "execute_result"
    }
   ],
   "source": [
    "[poi['tags'] for poi in london_poi if poi['category'] == cats[0]]"
   ]
  },
  {
   "cell_type": "code",
   "execution_count": 79,
   "metadata": {},
   "outputs": [
    {
     "data": {
      "text/plain": [
       "[['restaurant', 'nightlife'],\n",
       " ['restaurant'],\n",
       " ['shopping', 'restaurant', 'vegetarian'],\n",
       " ['restaurant', 'thai'],\n",
       " ['restaurant'],\n",
       " ['restaurant'],\n",
       " ['restaurant', 'nightlife'],\n",
       " ['restaurant'],\n",
       " ['restaurant', 'gastropub'],\n",
       " ['restaurant', 'gastropub'],\n",
       " ['restaurant', 'fastfood'],\n",
       " ['sightseeing', 'restaurant', 'activities', 'bar'],\n",
       " ['restaurant', 'moderncuisine'],\n",
       " ['restaurant', 'moderncuisine'],\n",
       " ['sightseeing', 'restaurant'],\n",
       " ['sightseeing', 'restaurant', 'sights', 'historicplace', 'historic'],\n",
       " ['sightseeing', 'restaurant'],\n",
       " ['restaurant', 'fastfood', 'pizza'],\n",
       " ['restaurant', 'vegetarian'],\n",
       " ['restaurant', 'breakfast'],\n",
       " ['restaurant'],\n",
       " ['restaurant', 'seafood'],\n",
       " ['shopping', 'restaurant'],\n",
       " ['attraction', 'activities', 'pub', 'gastropub'],\n",
       " ['restaurant'],\n",
       " ['restaurant'],\n",
       " ['restaurant'],\n",
       " ['sightseeing', 'restaurant'],\n",
       " ['restaurant'],\n",
       " ['restaurant'],\n",
       " ['restaurant', 'bar', 'grills', 'club', 'seafood'],\n",
       " ['restaurant', 'bar', 'pub'],\n",
       " ['restaurant'],\n",
       " ['sightseeing', 'restaurant'],\n",
       " ['restaurant'],\n",
       " ['restaurant', 'seafood'],\n",
       " ['restaurant', 'activities', 'pub'],\n",
       " ['restaurant', 'grills', 'barbecue', 'seafood'],\n",
       " ['vegetarian'],\n",
       " ['restaurant', 'gastropub'],\n",
       " ['restaurant', 'bar', 'pub', 'gastropub'],\n",
       " ['restaurant', 'fastfood'],\n",
       " ['restaurant', 'seafood'],\n",
       " ['restaurant'],\n",
       " ['restaurant', 'fastfood'],\n",
       " ['restaurant'],\n",
       " ['restaurant'],\n",
       " ['restaurant', 'bar'],\n",
       " ['restaurant'],\n",
       " ['sightseeing', 'restaurant']]"
      ]
     },
     "execution_count": 79,
     "metadata": {},
     "output_type": "execute_result"
    }
   ],
   "source": [
    "[poi['tags'] for poi in london_poi if poi['category'] == cats[1]]"
   ]
  },
  {
   "cell_type": "code",
   "execution_count": 80,
   "metadata": {},
   "outputs": [
    {
     "data": {
      "text/plain": [
       "[['bar', 'nightlife']]"
      ]
     },
     "execution_count": 80,
     "metadata": {},
     "output_type": "execute_result"
    }
   ],
   "source": [
    "[poi['tags'] for poi in london_poi if poi['category'] == cats[2]]"
   ]
  },
  {
   "cell_type": "code",
   "execution_count": 81,
   "metadata": {},
   "outputs": [
    {
     "data": {
      "text/plain": [
       "['Harvey Nichols',\n",
       " 'Marks & Spencer',\n",
       " 'Primark',\n",
       " 'Peter Jones',\n",
       " 'John Sandoe Books Ltd']"
      ]
     },
     "execution_count": 81,
     "metadata": {},
     "output_type": "execute_result"
    }
   ],
   "source": [
    "[poi['name'] for poi in london_poi if poi['category'] == cats[3]]"
   ]
  },
  {
   "cell_type": "code",
   "execution_count": 82,
   "metadata": {},
   "outputs": [],
   "source": [
    "cats = list(cats)"
   ]
  },
  {
   "cell_type": "code",
   "execution_count": 83,
   "metadata": {},
   "outputs": [
    {
     "data": {
      "text/plain": [
       "['SIGHTS', 'RESTAURANT', 'NIGHTLIFE', 'SHOPPING']"
      ]
     },
     "execution_count": 83,
     "metadata": {},
     "output_type": "execute_result"
    }
   ],
   "source": [
    "cats"
   ]
  },
  {
   "cell_type": "code",
   "execution_count": 84,
   "metadata": {},
   "outputs": [],
   "source": [
    "\n",
    "import gensim, logging\n",
    "\n",
    "logging.basicConfig(format='%(asctime)s : %(levelname)s : %(message)s', level=logging.INFO)\n"
   ]
  },
  {
   "cell_type": "code",
   "execution_count": 94,
   "metadata": {},
   "outputs": [],
   "source": [
    "from gensim.models import doc2vec as Doc2Vec\n",
    "from gensim.models.doc2vec import TaggedDocument"
   ]
  },
  {
   "cell_type": "code",
   "execution_count": 101,
   "metadata": {},
   "outputs": [],
   "source": [
    "TaggedTags = []\n",
    "for i,tag in enumerate(tags):\n",
    "    TaggedTags += [TaggedDocument(words=tag, tags=[i])]"
   ]
  },
  {
   "cell_type": "code",
   "execution_count": null,
   "metadata": {},
   "outputs": [],
   "source": []
  },
  {
   "cell_type": "code",
   "execution_count": 113,
   "metadata": {},
   "outputs": [],
   "source": [
    "# train word2vec on the two sentences\n",
    "model = gensim.models.Doc2Vec(vector_size=20, min_count=1, epochs=20)"
   ]
  },
  {
   "cell_type": "code",
   "execution_count": 157,
   "metadata": {},
   "outputs": [
    {
     "name": "stderr",
     "output_type": "stream",
     "text": [
      "2019-07-27 20:38:59,446 : INFO : collecting all words and their counts\n",
      "2019-07-27 20:38:59,448 : INFO : PROGRESS: at example #0, processed 0 words (0/s), 0 word types, 84 tags\n",
      "2019-07-27 20:38:59,450 : INFO : collected 39 word types and 84 unique tags from a corpus of 84 examples and 223 words\n",
      "2019-07-27 20:38:59,452 : INFO : Loading a fresh vocabulary\n",
      "2019-07-27 20:38:59,454 : INFO : effective_min_count=1 retains 39 unique words (100% of original 39, drops 0)\n",
      "2019-07-27 20:38:59,456 : INFO : effective_min_count=1 leaves 223 word corpus (100% of original 223, drops 0)\n",
      "2019-07-27 20:38:59,458 : INFO : deleting the raw counts dictionary of 39 items\n",
      "2019-07-27 20:38:59,460 : INFO : sample=0.001 downsamples 39 most-common words\n",
      "2019-07-27 20:38:59,462 : INFO : downsampling leaves estimated 44 word corpus (20.2% of prior 223)\n"
     ]
    },
    {
     "ename": "RuntimeError",
     "evalue": "cannot sort vocabulary after model weights already initialized.",
     "output_type": "error",
     "traceback": [
      "\u001b[0;31m---------------------------------------------------------------------------\u001b[0m",
      "\u001b[0;31mRuntimeError\u001b[0m                              Traceback (most recent call last)",
      "\u001b[0;32m<ipython-input-157-da025dc051da>\u001b[0m in \u001b[0;36m<module>\u001b[0;34m\u001b[0m\n\u001b[0;32m----> 1\u001b[0;31m \u001b[0mmodel\u001b[0m\u001b[0;34m.\u001b[0m\u001b[0mbuild_vocab\u001b[0m\u001b[0;34m(\u001b[0m\u001b[0mTaggedTags\u001b[0m\u001b[0;34m)\u001b[0m\u001b[0;34m\u001b[0m\u001b[0;34m\u001b[0m\u001b[0m\n\u001b[0m",
      "\u001b[0;32m~/anaconda3/lib/python3.6/site-packages/gensim/models/doc2vec.py\u001b[0m in \u001b[0;36mbuild_vocab\u001b[0;34m(self, documents, corpus_file, update, progress_per, keep_raw_vocab, trim_rule, **kwargs)\u001b[0m\n\u001b[1;32m   1188\u001b[0m         report_values = self.vocabulary.prepare_vocab(\n\u001b[1;32m   1189\u001b[0m             \u001b[0mself\u001b[0m\u001b[0;34m.\u001b[0m\u001b[0mhs\u001b[0m\u001b[0;34m,\u001b[0m \u001b[0mself\u001b[0m\u001b[0;34m.\u001b[0m\u001b[0mnegative\u001b[0m\u001b[0;34m,\u001b[0m \u001b[0mself\u001b[0m\u001b[0;34m.\u001b[0m\u001b[0mwv\u001b[0m\u001b[0;34m,\u001b[0m \u001b[0mupdate\u001b[0m\u001b[0;34m=\u001b[0m\u001b[0mupdate\u001b[0m\u001b[0;34m,\u001b[0m \u001b[0mkeep_raw_vocab\u001b[0m\u001b[0;34m=\u001b[0m\u001b[0mkeep_raw_vocab\u001b[0m\u001b[0;34m,\u001b[0m \u001b[0mtrim_rule\u001b[0m\u001b[0;34m=\u001b[0m\u001b[0mtrim_rule\u001b[0m\u001b[0;34m,\u001b[0m\u001b[0;34m\u001b[0m\u001b[0;34m\u001b[0m\u001b[0m\n\u001b[0;32m-> 1190\u001b[0;31m             **kwargs)\n\u001b[0m\u001b[1;32m   1191\u001b[0m \u001b[0;34m\u001b[0m\u001b[0m\n\u001b[1;32m   1192\u001b[0m         \u001b[0mreport_values\u001b[0m\u001b[0;34m[\u001b[0m\u001b[0;34m'memory'\u001b[0m\u001b[0;34m]\u001b[0m \u001b[0;34m=\u001b[0m \u001b[0mself\u001b[0m\u001b[0;34m.\u001b[0m\u001b[0mestimate_memory\u001b[0m\u001b[0;34m(\u001b[0m\u001b[0mvocab_size\u001b[0m\u001b[0;34m=\u001b[0m\u001b[0mreport_values\u001b[0m\u001b[0;34m[\u001b[0m\u001b[0;34m'num_retained_words'\u001b[0m\u001b[0;34m]\u001b[0m\u001b[0;34m)\u001b[0m\u001b[0;34m\u001b[0m\u001b[0;34m\u001b[0m\u001b[0m\n",
      "\u001b[0;32m~/anaconda3/lib/python3.6/site-packages/gensim/models/word2vec.py\u001b[0m in \u001b[0;36mprepare_vocab\u001b[0;34m(self, hs, negative, wv, update, keep_raw_vocab, trim_rule, min_count, sample, dry_run)\u001b[0m\n\u001b[1;32m   1755\u001b[0m \u001b[0;34m\u001b[0m\u001b[0m\n\u001b[1;32m   1756\u001b[0m         \u001b[0;32mif\u001b[0m \u001b[0mself\u001b[0m\u001b[0;34m.\u001b[0m\u001b[0msorted_vocab\u001b[0m \u001b[0;32mand\u001b[0m \u001b[0;32mnot\u001b[0m \u001b[0mupdate\u001b[0m\u001b[0;34m:\u001b[0m\u001b[0;34m\u001b[0m\u001b[0;34m\u001b[0m\u001b[0m\n\u001b[0;32m-> 1757\u001b[0;31m             \u001b[0mself\u001b[0m\u001b[0;34m.\u001b[0m\u001b[0msort_vocab\u001b[0m\u001b[0;34m(\u001b[0m\u001b[0mwv\u001b[0m\u001b[0;34m)\u001b[0m\u001b[0;34m\u001b[0m\u001b[0;34m\u001b[0m\u001b[0m\n\u001b[0m\u001b[1;32m   1758\u001b[0m         \u001b[0;32mif\u001b[0m \u001b[0mhs\u001b[0m\u001b[0;34m:\u001b[0m\u001b[0;34m\u001b[0m\u001b[0;34m\u001b[0m\u001b[0m\n\u001b[1;32m   1759\u001b[0m             \u001b[0;31m# add info about each word's Huffman encoding\u001b[0m\u001b[0;34m\u001b[0m\u001b[0;34m\u001b[0m\u001b[0;34m\u001b[0m\u001b[0m\n",
      "\u001b[0;32m~/anaconda3/lib/python3.6/site-packages/gensim/models/word2vec.py\u001b[0m in \u001b[0;36msort_vocab\u001b[0;34m(self, wv)\u001b[0m\n\u001b[1;32m   1602\u001b[0m         \u001b[0;34m\"\"\"Sort the vocabulary so the most frequent words have the lowest indexes.\"\"\"\u001b[0m\u001b[0;34m\u001b[0m\u001b[0;34m\u001b[0m\u001b[0m\n\u001b[1;32m   1603\u001b[0m         \u001b[0;32mif\u001b[0m \u001b[0mlen\u001b[0m\u001b[0;34m(\u001b[0m\u001b[0mwv\u001b[0m\u001b[0;34m.\u001b[0m\u001b[0mvectors\u001b[0m\u001b[0;34m)\u001b[0m\u001b[0;34m:\u001b[0m\u001b[0;34m\u001b[0m\u001b[0;34m\u001b[0m\u001b[0m\n\u001b[0;32m-> 1604\u001b[0;31m             \u001b[0;32mraise\u001b[0m \u001b[0mRuntimeError\u001b[0m\u001b[0;34m(\u001b[0m\u001b[0;34m\"cannot sort vocabulary after model weights already initialized.\"\u001b[0m\u001b[0;34m)\u001b[0m\u001b[0;34m\u001b[0m\u001b[0;34m\u001b[0m\u001b[0m\n\u001b[0m\u001b[1;32m   1605\u001b[0m         \u001b[0mwv\u001b[0m\u001b[0;34m.\u001b[0m\u001b[0mindex2word\u001b[0m\u001b[0;34m.\u001b[0m\u001b[0msort\u001b[0m\u001b[0;34m(\u001b[0m\u001b[0mkey\u001b[0m\u001b[0;34m=\u001b[0m\u001b[0;32mlambda\u001b[0m \u001b[0mword\u001b[0m\u001b[0;34m:\u001b[0m \u001b[0mwv\u001b[0m\u001b[0;34m.\u001b[0m\u001b[0mvocab\u001b[0m\u001b[0;34m[\u001b[0m\u001b[0mword\u001b[0m\u001b[0;34m]\u001b[0m\u001b[0;34m.\u001b[0m\u001b[0mcount\u001b[0m\u001b[0;34m,\u001b[0m \u001b[0mreverse\u001b[0m\u001b[0;34m=\u001b[0m\u001b[0;32mTrue\u001b[0m\u001b[0;34m)\u001b[0m\u001b[0;34m\u001b[0m\u001b[0;34m\u001b[0m\u001b[0m\n\u001b[1;32m   1606\u001b[0m         \u001b[0;32mfor\u001b[0m \u001b[0mi\u001b[0m\u001b[0;34m,\u001b[0m \u001b[0mword\u001b[0m \u001b[0;32min\u001b[0m \u001b[0menumerate\u001b[0m\u001b[0;34m(\u001b[0m\u001b[0mwv\u001b[0m\u001b[0;34m.\u001b[0m\u001b[0mindex2word\u001b[0m\u001b[0;34m)\u001b[0m\u001b[0;34m:\u001b[0m\u001b[0;34m\u001b[0m\u001b[0;34m\u001b[0m\u001b[0m\n",
      "\u001b[0;31mRuntimeError\u001b[0m: cannot sort vocabulary after model weights already initialized."
     ]
    }
   ],
   "source": [
    "model.build_vocab(TaggedTags)"
   ]
  },
  {
   "cell_type": "code",
   "execution_count": 158,
   "metadata": {},
   "outputs": [
    {
     "name": "stdout",
     "output_type": "stream",
     "text": [
      "Doc2Vec(dm/m,d20,n5,w5,s0.001,t3)\n",
      "{'sightseeing': <gensim.models.keyedvectors.Vocab object at 0x1241e1b38>, 'artgallerie': <gensim.models.keyedvectors.Vocab object at 0x124a162b0>, 'museum': <gensim.models.keyedvectors.Vocab object at 0x123ed8400>, 'sights': <gensim.models.keyedvectors.Vocab object at 0x123ed8a90>, 'landmark': <gensim.models.keyedvectors.Vocab object at 0x123ed8358>, 'historicplace': <gensim.models.keyedvectors.Vocab object at 0x123ed89e8>, 'restaurant': <gensim.models.keyedvectors.Vocab object at 0x123ed8e10>, 'cheap': <gensim.models.keyedvectors.Vocab object at 0x123ed84a8>, 'shopping': <gensim.models.keyedvectors.Vocab object at 0x123ed8b70>, 'historic': <gensim.models.keyedvectors.Vocab object at 0x123ed8a58>, 'nightlife': <gensim.models.keyedvectors.Vocab object at 0x123ed8fd0>, 'park': <gensim.models.keyedvectors.Vocab object at 0x123ed8ac8>, 'vegetarian': <gensim.models.keyedvectors.Vocab object at 0x123ed86a0>, 'thai': <gensim.models.keyedvectors.Vocab object at 0x123ed8048>, 'gastropub': <gensim.models.keyedvectors.Vocab object at 0x123ed8ba8>, 'fastfood': <gensim.models.keyedvectors.Vocab object at 0x123ed8470>, 'bar': <gensim.models.keyedvectors.Vocab object at 0x123ed8240>, 'activities': <gensim.models.keyedvectors.Vocab object at 0x123ed80f0>, 'palace': <gensim.models.keyedvectors.Vocab object at 0x123ed84e0>, 'moderncuisine': <gensim.models.keyedvectors.Vocab object at 0x123ed8208>, 'garden': <gensim.models.keyedvectors.Vocab object at 0x123ed8c50>, 'bridge': <gensim.models.keyedvectors.Vocab object at 0x12420c1d0>, 'pizza': <gensim.models.keyedvectors.Vocab object at 0x12420c7b8>, 'clothing': <gensim.models.keyedvectors.Vocab object at 0x123e52898>, 'breakfast': <gensim.models.keyedvectors.Vocab object at 0x123e52780>, 'church': <gensim.models.keyedvectors.Vocab object at 0x123e52748>, 'temple': <gensim.models.keyedvectors.Vocab object at 0x123e52cc0>, 'seafood': <gensim.models.keyedvectors.Vocab object at 0x123e523c8>, 'attraction': <gensim.models.keyedvectors.Vocab object at 0x123e522b0>, 'pub': <gensim.models.keyedvectors.Vocab object at 0x123e557b8>, 'grills': <gensim.models.keyedvectors.Vocab object at 0x123e55ac8>, 'club': <gensim.models.keyedvectors.Vocab object at 0x123e55c50>, 'events': <gensim.models.keyedvectors.Vocab object at 0x123e558d0>, 'musicvenue': <gensim.models.keyedvectors.Vocab object at 0x123e559b0>, 'fashion': <gensim.models.keyedvectors.Vocab object at 0x123e55160>, 'transport': <gensim.models.keyedvectors.Vocab object at 0x123e55908>, 'barbecue': <gensim.models.keyedvectors.Vocab object at 0x123e550b8>, 'library': <gensim.models.keyedvectors.Vocab object at 0x123e720f0>, 'synagogue': <gensim.models.keyedvectors.Vocab object at 0x123e72208>}\n"
     ]
    }
   ],
   "source": [
    "print(model)\n",
    "print(model.wv.vocab)"
   ]
  },
  {
   "cell_type": "code",
   "execution_count": 116,
   "metadata": {},
   "outputs": [
    {
     "data": {
      "text/plain": [
       "<gensim.models.keyedvectors.Vocab at 0x123d860b8>"
      ]
     },
     "execution_count": 116,
     "metadata": {},
     "output_type": "execute_result"
    }
   ],
   "source": [
    "model.wv.vocab['sightseeing']"
   ]
  },
  {
   "cell_type": "code",
   "execution_count": 117,
   "metadata": {},
   "outputs": [
    {
     "data": {
      "text/plain": [
       "array([ 0.00570856, -0.00964782, -0.02337595, -0.01886506,  0.00703548,\n",
       "       -0.00970199,  0.02316762, -0.02490017, -0.00039403, -0.00269926,\n",
       "       -0.01194149, -0.0248141 , -0.01450913, -0.02196172,  0.02219516,\n",
       "        0.00190702,  0.0062907 ,  0.02300322,  0.00293163, -0.02491839],\n",
       "      dtype=float32)"
      ]
     },
     "execution_count": 117,
     "metadata": {},
     "output_type": "execute_result"
    }
   ],
   "source": [
    "model['sightseeing']"
   ]
  },
  {
   "cell_type": "code",
   "execution_count": 118,
   "metadata": {},
   "outputs": [
    {
     "name": "stderr",
     "output_type": "stream",
     "text": [
      "/Users/Devansh/anaconda3/lib/python3.6/site-packages/ipykernel_launcher.py:1: DeprecationWarning: Call to deprecated `most_similar` (Method will be removed in 4.0.0, use self.wv.most_similar() instead).\n",
      "  \"\"\"Entry point for launching an IPython kernel.\n",
      "2019-07-27 20:29:04,013 : INFO : precomputing L2-norms of word weight vectors\n"
     ]
    },
    {
     "data": {
      "text/plain": [
       "[('fashion', 0.46063533425331116),\n",
       " ('church', 0.43762072920799255),\n",
       " ('nightlife', 0.3020525574684143),\n",
       " ('thai', 0.2924412488937378),\n",
       " ('shopping', 0.2741735875606537),\n",
       " ('bridge', 0.252629816532135),\n",
       " ('sightseeing', 0.24759943783283234),\n",
       " ('attraction', 0.2457324117422104),\n",
       " ('club', 0.1838836669921875),\n",
       " ('pub', 0.16755637526512146)]"
      ]
     },
     "execution_count": 118,
     "metadata": {},
     "output_type": "execute_result"
    }
   ],
   "source": [
    "model.most_similar(['restaurant'])"
   ]
  },
  {
   "cell_type": "code",
   "execution_count": 59,
   "metadata": {},
   "outputs": [
    {
     "name": "stderr",
     "output_type": "stream",
     "text": [
      "/Users/Devansh/anaconda3/lib/python3.6/site-packages/gensim/similarities/index.py:184: FutureWarning: The default argument for metric will be removed in future version of Annoy. Please pass metric='angular' explicitly.\n",
      "  index = AnnoyIndex(num_features)\n"
     ]
    }
   ],
   "source": [
    "model.infer_vector(TaggedTags[doc_id].words)"
   ]
  },
  {
   "cell_type": "code",
   "execution_count": 156,
   "metadata": {},
   "outputs": [
    {
     "data": {
      "text/plain": [
       "{}"
      ]
     },
     "execution_count": 156,
     "metadata": {},
     "output_type": "execute_result"
    }
   ],
   "source": []
  },
  {
   "cell_type": "code",
   "execution_count": 120,
   "metadata": {},
   "outputs": [
    {
     "name": "stderr",
     "output_type": "stream",
     "text": [
      "2019-07-27 20:31:55,687 : INFO : precomputing L2-norms of doc weight vectors\n"
     ]
    }
   ],
   "source": [
    "ranks = []\n",
    "second_ranks = []\n",
    "for doc_id in range(len(TaggedTags)):\n",
    "    inferred_vector = model.infer_vector(TaggedTags[doc_id].words)\n",
    "    sims = model.docvecs.most_similar([inferred_vector], topn=len(model.docvecs))\n",
    "    rank = [docid for docid, sim in sims].index(doc_id)\n",
    "    ranks.append(rank)\n",
    "    \n",
    "    second_ranks.append(sims[1])\n"
   ]
  },
  {
   "cell_type": "code",
   "execution_count": 123,
   "metadata": {},
   "outputs": [
    {
     "name": "stdout",
     "output_type": "stream",
     "text": [
      "Document (83): «sightseeing restaurant»\n",
      "\n",
      "SIMILAR/DISSIMILAR DOCS PER MODEL Doc2Vec(dm/m,d20,n5,w5,s0.001,t3):\n",
      "\n",
      "MOST (49, 0.7962898015975952): «restaurant»\n",
      "\n",
      "SECOND-MOST (44, 0.5176961421966553): «restaurant seafood»\n",
      "\n",
      "MEDIAN (8, -0.015683773905038834): «restaurant»\n",
      "\n",
      "LEAST (29, -0.371626615524292): «sightseeing sights park landmark»\n",
      "\n"
     ]
    }
   ],
   "source": [
    "print('Document ({}): «{}»\\n'.format(doc_id, ' '.join(TaggedTags[doc_id].words)))\n",
    "print(u'SIMILAR/DISSIMILAR DOCS PER MODEL %s:\\n' % model)\n",
    "for label, index in [('MOST', 0), ('SECOND-MOST', 1), ('MEDIAN', len(sims)//2), ('LEAST', len(sims) - 1)]:\n",
    "    print(u'%s %s: «%s»\\n' % (label, sims[index], ' '.join(TaggedTags[sims[index][0]].words)))\n"
   ]
  },
  {
   "cell_type": "code",
   "execution_count": 145,
   "metadata": {},
   "outputs": [
    {
     "name": "stdout",
     "output_type": "stream",
     "text": [
      "Train Document (33): «sightseeing restaurant»\n",
      "\n",
      "Ognisko Restaurant\n"
     ]
    },
    {
     "ename": "TypeError",
     "evalue": "'int' object is not subscriptable",
     "output_type": "error",
     "traceback": [
      "\u001b[0;31m---------------------------------------------------------------------------\u001b[0m",
      "\u001b[0;31mTypeError\u001b[0m                                 Traceback (most recent call last)",
      "\u001b[0;32m<ipython-input-145-8c914ed055ac>\u001b[0m in \u001b[0;36m<module>\u001b[0;34m\u001b[0m\n\u001b[1;32m      7\u001b[0m \u001b[0mprint\u001b[0m\u001b[0;34m(\u001b[0m\u001b[0mlondon_poi\u001b[0m\u001b[0;34m[\u001b[0m\u001b[0mdoc_id\u001b[0m\u001b[0;34m]\u001b[0m\u001b[0;34m[\u001b[0m\u001b[0;34m'name'\u001b[0m\u001b[0;34m]\u001b[0m\u001b[0;34m)\u001b[0m\u001b[0;34m\u001b[0m\u001b[0;34m\u001b[0m\u001b[0m\n\u001b[1;32m      8\u001b[0m \u001b[0msim_id\u001b[0m \u001b[0;34m=\u001b[0m \u001b[0mranks\u001b[0m\u001b[0;34m[\u001b[0m\u001b[0mdoc_id\u001b[0m\u001b[0;34m]\u001b[0m\u001b[0;34m\u001b[0m\u001b[0;34m\u001b[0m\u001b[0m\n\u001b[0;32m----> 9\u001b[0;31m \u001b[0mprint\u001b[0m\u001b[0;34m(\u001b[0m\u001b[0;34m'Similar Document {}: «{}»\\n'\u001b[0m\u001b[0;34m.\u001b[0m\u001b[0mformat\u001b[0m\u001b[0;34m(\u001b[0m\u001b[0msim_id\u001b[0m\u001b[0;34m,\u001b[0m \u001b[0;34m' '\u001b[0m\u001b[0;34m.\u001b[0m\u001b[0mjoin\u001b[0m\u001b[0;34m(\u001b[0m\u001b[0mTaggedTags\u001b[0m\u001b[0;34m[\u001b[0m\u001b[0msim_id\u001b[0m\u001b[0;34m[\u001b[0m\u001b[0;36m0\u001b[0m\u001b[0;34m]\u001b[0m\u001b[0;34m]\u001b[0m\u001b[0;34m.\u001b[0m\u001b[0mwords\u001b[0m\u001b[0;34m)\u001b[0m\u001b[0;34m)\u001b[0m\u001b[0;34m)\u001b[0m\u001b[0;34m\u001b[0m\u001b[0;34m\u001b[0m\u001b[0m\n\u001b[0m\u001b[1;32m     10\u001b[0m \u001b[0mprint\u001b[0m\u001b[0;34m(\u001b[0m\u001b[0mlondon_poi\u001b[0m\u001b[0;34m[\u001b[0m\u001b[0msim_id\u001b[0m\u001b[0;34m[\u001b[0m\u001b[0;36m0\u001b[0m\u001b[0;34m]\u001b[0m\u001b[0;34m]\u001b[0m\u001b[0;34m[\u001b[0m\u001b[0;34m'name'\u001b[0m\u001b[0;34m]\u001b[0m\u001b[0;34m)\u001b[0m\u001b[0;34m\u001b[0m\u001b[0;34m\u001b[0m\u001b[0m\n",
      "\u001b[0;31mTypeError\u001b[0m: 'int' object is not subscriptable"
     ]
    }
   ],
   "source": [
    "import random\n",
    "# Pick a random document from the corpus and infer a vector from the model\n",
    "doc_id = random.randint(0, len(TaggedTags) - 1)\n",
    "\n",
    "# Compare and print the second-most-similar document\n",
    "print('Train Document ({}): «{}»\\n'.format(doc_id, ' '.join(TaggedTags[doc_id].words)))\n",
    "print(london_poi[doc_id]['name'])\n",
    "sim_id = ranks[doc_id]\n",
    "print('Similar Document {}: «{}»\\n'.format(sim_id, ' '.join(TaggedTags[sim_id[0]].words)))\n",
    "print(london_poi[sim_id[0]]['name'])"
   ]
  },
  {
   "cell_type": "code",
   "execution_count": 136,
   "metadata": {},
   "outputs": [
    {
     "data": {
      "text/plain": [
       "(9, 0.3959267735481262)"
      ]
     },
     "execution_count": 136,
     "metadata": {},
     "output_type": "execute_result"
    }
   ],
   "source": [
    "sim_id"
   ]
  },
  {
   "cell_type": "code",
   "execution_count": 146,
   "metadata": {},
   "outputs": [
    {
     "data": {
      "text/plain": [
       "[23,\n",
       " 3,\n",
       " 0,\n",
       " 54,\n",
       " 66,\n",
       " 77,\n",
       " 70,\n",
       " 50,\n",
       " 34,\n",
       " 64,\n",
       " 14,\n",
       " 68,\n",
       " 45,\n",
       " 32,\n",
       " 18,\n",
       " 65,\n",
       " 26,\n",
       " 56,\n",
       " 22,\n",
       " 35,\n",
       " 69,\n",
       " 68,\n",
       " 52,\n",
       " 2,\n",
       " 14,\n",
       " 17,\n",
       " 46,\n",
       " 21,\n",
       " 69,\n",
       " 78,\n",
       " 52,\n",
       " 20,\n",
       " 13,\n",
       " 62,\n",
       " 24,\n",
       " 40,\n",
       " 33,\n",
       " 19,\n",
       " 0,\n",
       " 65,\n",
       " 0,\n",
       " 32,\n",
       " 58,\n",
       " 25,\n",
       " 79,\n",
       " 8,\n",
       " 81,\n",
       " 58,\n",
       " 66,\n",
       " 56,\n",
       " 79,\n",
       " 67,\n",
       " 27,\n",
       " 1,\n",
       " 76,\n",
       " 32,\n",
       " 2,\n",
       " 21,\n",
       " 74,\n",
       " 9,\n",
       " 39,\n",
       " 77,\n",
       " 74,\n",
       " 0,\n",
       " 46,\n",
       " 70,\n",
       " 52,\n",
       " 75,\n",
       " 66,\n",
       " 10,\n",
       " 52,\n",
       " 40,\n",
       " 40,\n",
       " 14,\n",
       " 21,\n",
       " 36,\n",
       " 20,\n",
       " 46,\n",
       " 47,\n",
       " 78,\n",
       " 50,\n",
       " 76,\n",
       " 6,\n",
       " 47]"
      ]
     },
     "execution_count": 146,
     "metadata": {},
     "output_type": "execute_result"
    }
   ],
   "source": [
    "ranks"
   ]
  },
  {
   "cell_type": "code",
   "execution_count": null,
   "metadata": {},
   "outputs": [],
   "source": []
  }
 ],
 "metadata": {
  "kernelspec": {
   "display_name": "Python 3",
   "language": "python",
   "name": "python3"
  },
  "language_info": {
   "codemirror_mode": {
    "name": "ipython",
    "version": 3
   },
   "file_extension": ".py",
   "mimetype": "text/x-python",
   "name": "python",
   "nbconvert_exporter": "python",
   "pygments_lexer": "ipython3",
   "version": "3.6.7"
  }
 },
 "nbformat": 4,
 "nbformat_minor": 2
}
