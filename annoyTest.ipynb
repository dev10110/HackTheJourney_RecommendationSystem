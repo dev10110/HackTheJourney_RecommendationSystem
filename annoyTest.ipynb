{
 "cells": [
  {
   "cell_type": "code",
   "execution_count": 1,
   "metadata": {},
   "outputs": [
    {
     "name": "stdout",
     "output_type": "stream",
     "text": [
      "CPython 3.6.7\n",
      "IPython 7.6.1\n",
      "\n",
      "gensim 3.8.0\n",
      "numpy 1.16.4\n",
      "scipy 1.3.0\n",
      "psutil 5.6.3\n",
      "matplotlib 3.1.1\n",
      "\n",
      "compiler   : GCC 4.2.1 Compatible Clang 4.0.1 (tags/RELEASE_401/final)\n",
      "system     : Darwin\n",
      "release    : 18.6.0\n",
      "machine    : x86_64\n",
      "processor  : i386\n",
      "CPU cores  : 4\n",
      "interpreter: 64bit\n"
     ]
    }
   ],
   "source": [
    "%reload_ext watermark\n",
    "%watermark -v -m -p gensim,numpy,scipy,psutil,matplotlib"
   ]
  },
  {
   "cell_type": "code",
   "execution_count": 8,
   "metadata": {},
   "outputs": [
    {
     "name": "stdout",
     "output_type": "stream",
     "text": [
      "--2019-07-27 17:35:05--  http://mattmahoney.net/dc/text8.zip\n",
      "Resolving mattmahoney.net (mattmahoney.net)... 67.195.197.75\n",
      "Connecting to mattmahoney.net (mattmahoney.net)|67.195.197.75|:80... connected.\n",
      "HTTP request sent, awaiting response... 200 OK\n",
      "Length: 31344016 (30M) [application/zip]\n",
      "Saving to: ‘text8.zip’\n",
      "\n",
      "text8.zip           100%[=====================>]  29.89M   702KB/s   in 43s    \n",
      "\n",
      "2019-07-27 17:35:49 (706 KB/s) - ‘text8.zip’ saved [31344016/31344016]\n",
      "\n",
      "Archive:  text8.zip\n",
      "  inflating: text8                   \n"
     ]
    }
   ],
   "source": [
    "import os.path\n",
    "if not os.path.isfile('text8'):\n",
    "    !wget -c http://mattmahoney.net/dc/text8.zip\n",
    "    !unzip text8.zip"
   ]
  },
  {
   "cell_type": "code",
   "execution_count": 9,
   "metadata": {},
   "outputs": [],
   "source": [
    "from gensim.models import Word2Vec, KeyedVectors\n",
    "from gensim.models.word2vec import Text8Corpus"
   ]
  },
  {
   "cell_type": "code",
   "execution_count": 10,
   "metadata": {},
   "outputs": [
    {
     "name": "stdout",
     "output_type": "stream",
     "text": [
      "Word2Vec(vocab=71290, size=100, alpha=0.05)\n"
     ]
    }
   ],
   "source": [
    "params = {\n",
    "    'alpha': 0.05,\n",
    "    'size': 100,\n",
    "    'window': 5,\n",
    "    'iter': 5,\n",
    "    'min_count': 5,\n",
    "    'sample': 1e-4,\n",
    "    'sg': 1,\n",
    "    'hs': 0,\n",
    "    'negative': 5\n",
    "}\n",
    "\n",
    "model = Word2Vec(Text8Corpus('text8'), **params)\n",
    "print(model)\n"
   ]
  },
  {
   "cell_type": "code",
   "execution_count": 12,
   "metadata": {},
   "outputs": [
    {
     "name": "stderr",
     "output_type": "stream",
     "text": [
      "/Users/Devansh/anaconda3/lib/python3.6/site-packages/gensim/similarities/index.py:184: FutureWarning: The default argument for metric will be removed in future version of Annoy. Please pass metric='angular' explicitly.\n",
      "  index = AnnoyIndex(num_features)\n"
     ]
    }
   ],
   "source": [
    "# Set up the model and vector that we are using in the comparison\n",
    "from gensim.similarities.index import AnnoyIndexer\n",
    "\n",
    "model.init_sims()\n",
    "annoy_index = AnnoyIndexer(model, 100)\n"
   ]
  },
  {
   "cell_type": "code",
   "execution_count": 13,
   "metadata": {},
   "outputs": [
    {
     "data": {
      "text/plain": [
       "<gensim.similarities.index.AnnoyIndexer at 0x11775dda0>"
      ]
     },
     "execution_count": 13,
     "metadata": {},
     "output_type": "execute_result"
    }
   ],
   "source": [
    "annoy_index"
   ]
  },
  {
   "cell_type": "code",
   "execution_count": 40,
   "metadata": {},
   "outputs": [
    {
     "name": "stderr",
     "output_type": "stream",
     "text": [
      "/Users/Devansh/anaconda3/lib/python3.6/site-packages/ipykernel_launcher.py:1: DeprecationWarning: Call to deprecated `syn0norm` (Attribute will be removed in 4.0.0, use self.vectors_norm instead).\n",
      "  \"\"\"Entry point for launching an IPython kernel.\n"
     ]
    },
    {
     "data": {
      "text/plain": [
       "array([[-0.00300596, -0.006391  , -0.07924639, ..., -0.03967391,\n",
       "         0.1249061 ,  0.08720157],\n",
       "       [-0.01998406,  0.00128089,  0.01750793, ..., -0.03428758,\n",
       "         0.12492708,  0.08131909],\n",
       "       [ 0.02480736, -0.05815617, -0.05975022, ..., -0.04756015,\n",
       "         0.20177244,  0.11985345],\n",
       "       ...,\n",
       "       [-0.01783134, -0.06437972,  0.03968306, ..., -0.07265282,\n",
       "         0.24835244,  0.01834675],\n",
       "       [ 0.00128116,  0.03286744,  0.04049049, ..., -0.0994527 ,\n",
       "         0.18000221,  0.10934322],\n",
       "       [ 0.00412864,  0.07533566, -0.00870231, ..., -0.10259723,\n",
       "         0.13156658,  0.08406968]], dtype=float32)"
      ]
     },
     "execution_count": 40,
     "metadata": {},
     "output_type": "execute_result"
    }
   ],
   "source": [
    "model.wv.syn0norm"
   ]
  },
  {
   "cell_type": "code",
   "execution_count": 22,
   "metadata": {},
   "outputs": [
    {
     "name": "stderr",
     "output_type": "stream",
     "text": [
      "/Users/Devansh/anaconda3/lib/python3.6/site-packages/ipykernel_launcher.py:2: DeprecationWarning: Call to deprecated `syn0norm` (Attribute will be removed in 4.0.0, use self.vectors_norm instead).\n",
      "  \n",
      "/Users/Devansh/anaconda3/lib/python3.6/site-packages/ipykernel_launcher.py:3: DeprecationWarning: Call to deprecated `most_similar` (Method will be removed in 4.0.0, use self.wv.most_similar() instead).\n",
      "  This is separate from the ipykernel package so we can avoid doing imports until\n"
     ]
    },
    {
     "data": {
      "text/plain": [
       "[('the', 1.0),\n",
       " ('in', 0.7141915559768677),\n",
       " ('of', 0.7127414047718048),\n",
       " ('and', 0.6267342567443848),\n",
       " ('which', 0.6131814122200012)]"
      ]
     },
     "execution_count": 22,
     "metadata": {},
     "output_type": "execute_result"
    }
   ],
   "source": [
    "# Dry run to make sure both indices are fully in RAM\n",
    "vector = model.wv.syn0norm[0]\n",
    "model.most_similar([vector], topn=5, indexer=annoy_index)"
   ]
  },
  {
   "cell_type": "code",
   "execution_count": 21,
   "metadata": {},
   "outputs": [
    {
     "name": "stderr",
     "output_type": "stream",
     "text": [
      "/Users/Devansh/anaconda3/lib/python3.6/site-packages/ipykernel_launcher.py:1: DeprecationWarning: Call to deprecated `most_similar` (Method will be removed in 4.0.0, use self.wv.most_similar() instead).\n",
      "  \"\"\"Entry point for launching an IPython kernel.\n"
     ]
    },
    {
     "data": {
      "text/plain": [
       "[('the', 1.0),\n",
       " ('in', 0.8366272449493408),\n",
       " ('of', 0.8349649310112),\n",
       " ('a', 0.8157126903533936),\n",
       " ('and', 0.7213453054428101)]"
      ]
     },
     "execution_count": 21,
     "metadata": {},
     "output_type": "execute_result"
    }
   ],
   "source": [
    "model.most_similar([vector], topn=5)"
   ]
  },
  {
   "cell_type": "code",
   "execution_count": 20,
   "metadata": {},
   "outputs": [
    {
     "data": {
      "text/plain": [
       "array([-0.00300596, -0.006391  , -0.07924639, -0.11311138,  0.16224024,\n",
       "        0.04311276, -0.1500588 ,  0.07125757, -0.01710221,  0.0422609 ,\n",
       "        0.11633733, -0.04941724,  0.15095401,  0.1681249 , -0.0437342 ,\n",
       "        0.07857174, -0.13837984,  0.01057581, -0.13179462, -0.10062777,\n",
       "        0.05218373, -0.19337521,  0.04304605, -0.09897243, -0.09288712,\n",
       "        0.07768092,  0.01480838, -0.05771561,  0.04268768,  0.16353555,\n",
       "       -0.02859131, -0.03882812,  0.03573573,  0.02209255, -0.05305555,\n",
       "       -0.01947508, -0.00080498, -0.05426248,  0.1182842 , -0.0710705 ,\n",
       "        0.0900846 , -0.14523095, -0.10871699, -0.13925274, -0.22319958,\n",
       "       -0.01406333,  0.01283099, -0.11728462, -0.03116909, -0.05302043,\n",
       "        0.00867285,  0.15445647,  0.4000463 ,  0.0400245 , -0.10233945,\n",
       "       -0.04841019, -0.0786823 ,  0.10219865,  0.05325449,  0.00943335,\n",
       "       -0.06226525, -0.05423366, -0.04554814, -0.02641317,  0.11984371,\n",
       "       -0.0561385 ,  0.026405  ,  0.1669426 ,  0.07914778, -0.01420369,\n",
       "       -0.03815982, -0.10346108, -0.14141276,  0.07653233,  0.05276863,\n",
       "       -0.09697706, -0.03429702, -0.05438828,  0.04283149,  0.00189546,\n",
       "       -0.11848442, -0.05556226, -0.10032021, -0.12540166,  0.10664859,\n",
       "        0.03598249,  0.10299729,  0.02162327, -0.04500261,  0.11892261,\n",
       "        0.11704314,  0.18394984,  0.16976532,  0.09753568, -0.01662464,\n",
       "        0.11338294,  0.04820381, -0.03967391,  0.1249061 ,  0.08720157],\n",
       "      dtype=float32)"
      ]
     },
     "execution_count": 20,
     "metadata": {},
     "output_type": "execute_result"
    }
   ],
   "source": [
    "vector"
   ]
  },
  {
   "cell_type": "code",
   "execution_count": 23,
   "metadata": {},
   "outputs": [],
   "source": [
    "import time\n",
    "import numpy as np"
   ]
  },
  {
   "cell_type": "code",
   "execution_count": 24,
   "metadata": {},
   "outputs": [],
   "source": [
    "def avg_query_time(annoy_index=None, queries=1000):\n",
    "    \"\"\"\n",
    "    Average query time of a most_similar method over 1000 random queries,\n",
    "    uses annoy if given an indexer\n",
    "    \"\"\"\n",
    "    total_time = 0\n",
    "    for _ in range(queries):\n",
    "        rand_vec = model.wv.syn0norm[np.random.randint(0, len(model.wv.vocab))]\n",
    "        start_time = time.clock()\n",
    "        model.most_similar([rand_vec], topn=5, indexer=annoy_index)\n",
    "        total_time += time.clock() - start_time\n",
    "    return total_time / queries\n"
   ]
  },
  {
   "cell_type": "code",
   "execution_count": 25,
   "metadata": {},
   "outputs": [
    {
     "name": "stderr",
     "output_type": "stream",
     "text": [
      "/Users/Devansh/anaconda3/lib/python3.6/site-packages/ipykernel_launcher.py:8: DeprecationWarning: Call to deprecated `syn0norm` (Attribute will be removed in 4.0.0, use self.vectors_norm instead).\n",
      "  \n",
      "/Users/Devansh/anaconda3/lib/python3.6/site-packages/ipykernel_launcher.py:10: DeprecationWarning: Call to deprecated `most_similar` (Method will be removed in 4.0.0, use self.wv.most_similar() instead).\n",
      "  # Remove the CWD from sys.path while we load stuff.\n"
     ]
    },
    {
     "name": "stdout",
     "output_type": "stream",
     "text": [
      "Gensim (s/query):\t0.00485\n",
      "Annoy (s/query):\t0.00025\n",
      "\n",
      "Annoy is 19.45 times faster on average on this particular run\n"
     ]
    }
   ],
   "source": [
    "queries = 10000\n",
    "\n",
    "gensim_time = avg_query_time(queries=queries)\n",
    "annoy_time = avg_query_time(annoy_index, queries=queries)\n",
    "print(\"Gensim (s/query):\\t{0:.5f}\".format(gensim_time))\n",
    "print(\"Annoy (s/query):\\t{0:.5f}\".format(annoy_time))\n",
    "speed_improvement = gensim_time / annoy_time\n",
    "print (\"\\nAnnoy is {0:.2f} times faster on average on this particular run\".format(speed_improvement))"
   ]
  },
  {
   "cell_type": "code",
   "execution_count": 28,
   "metadata": {},
   "outputs": [
    {
     "name": "stderr",
     "output_type": "stream",
     "text": [
      "/Users/Devansh/anaconda3/lib/python3.6/site-packages/gensim/similarities/index.py:184: FutureWarning: The default argument for metric will be removed in future version of Annoy. Please pass metric='angular' explicitly.\n",
      "  index = AnnoyIndex(num_features)\n"
     ]
    }
   ],
   "source": [
    "annoy_index = AnnoyIndexer(model, 100)"
   ]
  },
  {
   "cell_type": "code",
   "execution_count": 35,
   "metadata": {},
   "outputs": [
    {
     "name": "stderr",
     "output_type": "stream",
     "text": [
      "/Users/Devansh/anaconda3/lib/python3.6/site-packages/ipykernel_launcher.py:1: DeprecationWarning: Call to deprecated `__getitem__` (Method will be removed in 4.0.0, use self.wv.__getitem__() instead).\n",
      "  \"\"\"Entry point for launching an IPython kernel.\n"
     ]
    }
   ],
   "source": [
    "vector = model[\"math\"]"
   ]
  },
  {
   "cell_type": "code",
   "execution_count": 36,
   "metadata": {},
   "outputs": [
    {
     "data": {
      "text/plain": [
       "array([-0.23969483,  0.10536146,  0.3385723 ,  0.34203404,  0.462507  ,\n",
       "        0.64760506, -0.7498052 ,  0.74991924, -0.43111157,  0.24974273,\n",
       "       -0.06181143, -0.01704028, -0.23172313,  0.5028631 ,  0.45009816,\n",
       "        0.54187936, -0.15982251, -0.14826801, -0.35805953,  0.13698873,\n",
       "        0.03255631,  0.47137672,  0.20513308, -0.5505084 , -0.06536205,\n",
       "       -0.526175  , -0.36284387, -0.2710168 ,  0.1603922 ,  0.17585874,\n",
       "        0.51942337, -0.50151825,  0.51363623, -0.22058347, -0.2196507 ,\n",
       "        0.23919882,  0.23921232, -0.39532056,  0.10240287,  0.41948295,\n",
       "        0.03189358, -0.5032074 , -0.07620094,  0.05473536,  0.1646023 ,\n",
       "       -0.1741983 , -0.0783147 ,  0.30044845,  0.07364933,  0.0535882 ,\n",
       "       -0.3212132 , -0.29868004,  0.7578971 ,  0.17156608, -0.11371195,\n",
       "       -0.32102096,  0.62634045,  0.1395267 ,  0.17589615,  0.30656812,\n",
       "        0.18631855,  0.09631731, -0.18147537,  0.05188692, -0.13442856,\n",
       "        0.08490396,  0.32792637,  0.30371884, -0.1873064 , -0.09162507,\n",
       "       -0.23282929,  0.35528958, -0.5445701 ,  0.50604993, -0.41572583,\n",
       "        0.1216123 ,  0.14649045, -0.00138985, -0.73567337, -0.29690525,\n",
       "        0.21818393, -0.14554414, -0.01310342, -0.10341997, -0.4042171 ,\n",
       "        0.6977124 ,  0.3687961 , -0.15002303,  0.61035913, -0.2642865 ,\n",
       "        0.1315164 , -0.5102626 ,  0.05811677,  0.00494088, -0.54490775,\n",
       "       -0.20167384,  0.11464326,  0.08913129, -0.13072294,  0.2330893 ],\n",
       "      dtype=float32)"
      ]
     },
     "execution_count": 36,
     "metadata": {},
     "output_type": "execute_result"
    }
   ],
   "source": [
    "vector"
   ]
  },
  {
   "cell_type": "code",
   "execution_count": 37,
   "metadata": {},
   "outputs": [
    {
     "name": "stderr",
     "output_type": "stream",
     "text": [
      "/Users/Devansh/anaconda3/lib/python3.6/site-packages/ipykernel_launcher.py:1: DeprecationWarning: Call to deprecated `most_similar` (Method will be removed in 4.0.0, use self.wv.most_similar() instead).\n",
      "  \"\"\"Entry point for launching an IPython kernel.\n"
     ]
    }
   ],
   "source": [
    "approximate_neighbors = model.most_similar([vector], topn=11, indexer=annoy_index)"
   ]
  },
  {
   "cell_type": "code",
   "execution_count": 38,
   "metadata": {},
   "outputs": [
    {
     "data": {
      "text/plain": [
       "[('math', 0.9998273665114539),\n",
       " ('metafont', 0.5770989060401917),\n",
       " ('eqworld', 0.5756548643112183),\n",
       " ('provers', 0.5675074458122253),\n",
       " ('comput', 0.5644209980964661),\n",
       " ('bezier', 0.5604610443115234),\n",
       " ('mathworks', 0.5602420270442963),\n",
       " ('ijcai', 0.5577628314495087),\n",
       " ('asc', 0.5566555857658386),\n",
       " ('proc', 0.555154949426651),\n",
       " ('winograd', 0.5545757114887238)]"
      ]
     },
     "execution_count": 38,
     "metadata": {},
     "output_type": "execute_result"
    }
   ],
   "source": [
    "approximate_neighbors"
   ]
  },
  {
   "cell_type": "code",
   "execution_count": null,
   "metadata": {},
   "outputs": [],
   "source": []
  }
 ],
 "metadata": {
  "kernelspec": {
   "display_name": "Python 3",
   "language": "python",
   "name": "python3"
  },
  "language_info": {
   "codemirror_mode": {
    "name": "ipython",
    "version": 3
   },
   "file_extension": ".py",
   "mimetype": "text/x-python",
   "name": "python",
   "nbconvert_exporter": "python",
   "pygments_lexer": "ipython3",
   "version": "3.6.7"
  }
 },
 "nbformat": 4,
 "nbformat_minor": 2
}
